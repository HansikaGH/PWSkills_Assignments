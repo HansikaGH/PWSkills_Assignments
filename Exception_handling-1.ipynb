{
 "cells": [
  {
   "cell_type": "markdown",
   "metadata": {},
   "source": [
    "Question 1: What is an exception in python? Write the difference between Exceptions and syntax errors.\n",
    "\n",
    "Answer : An exception is an event, which occurs during the execution of a program that disrupts the normal flow of the program's instructions.\n",
    "\n",
    "In general, when a Python script encounters a situation that it cannot cope with, it raises an exception.\n",
    "\n",
    "Difference in syntax error and exception :\n",
    "\n",
    "Errors cannot be handled, while Python exceptions can be handled at the run time.\n",
    "\n",
    "An error can be a syntax (parsing) error, while there can be many types of exceptions that could occur during the execution and are not unconditionally inoperable."
   ]
  },
  {
   "cell_type": "code",
   "execution_count": 4,
   "metadata": {},
   "outputs": [
    {
     "name": "stdout",
     "output_type": "stream",
     "text": [
      "Error: sample.txt not found.\n",
      "a=23, b=45, a*b=1035\n"
     ]
    }
   ],
   "source": [
    "import logging\n",
    "\n",
    "# Configure logging\n",
    "logging.basicConfig(level=logging.INFO, filename=\"app.log\", \n",
    "                    format=\"%(asctime)s - %(levelname)s - %(message)s\")\n",
    "\n",
    "logging.info('This is Start of Question 3')\n",
    "\n",
    "try:\n",
    "    # This code will be tried for execution\n",
    "    with open('sample.txt', 'r') as f:\n",
    "        print(f.read())\n",
    "        logging.info('Try block from Question 3 executed')\n",
    "\n",
    "except FileNotFoundError:\n",
    "    print('Error: sample.txt not found.')\n",
    "    logging.exception('FileNotFoundError in Question 3')\n",
    "\n",
    "except Exception as e:\n",
    "    # Exception will be caught here and message will display\n",
    "    print('There is an exception in this code:', e)\n",
    "    logging.exception('Except block from Question 3 executed')\n",
    "\n",
    "finally:\n",
    "    # This code will execute regardless of whether the try block executes or not\n",
    "    a = 23\n",
    "    b = 45\n",
    "    print(f'a={a}, b={b}, a*b={a*b}')\n",
    "    logging.info('Finally block from Question 3 executed')\n"
   ]
  },
  {
   "cell_type": "code",
   "execution_count": 6,
   "metadata": {},
   "outputs": [
    {
     "ename": "ZeroDivisionError",
     "evalue": "division by zero",
     "output_type": "error",
     "traceback": [
      "\u001b[1;31m---------------------------------------------------------------------------\u001b[0m",
      "\u001b[1;31mZeroDivisionError\u001b[0m                         Traceback (most recent call last)",
      "Cell \u001b[1;32mIn[6], line 4\u001b[0m\n\u001b[0;32m      2\u001b[0m logging\u001b[38;5;241m.\u001b[39minfo(\u001b[38;5;124m'\u001b[39m\u001b[38;5;124mThis is Question 1 , Example 1\u001b[39m\u001b[38;5;124m'\u001b[39m)\n\u001b[0;32m      3\u001b[0m a \u001b[38;5;241m=\u001b[39m \u001b[38;5;241m23\u001b[39m\n\u001b[1;32m----> 4\u001b[0m \u001b[43ma\u001b[49m\u001b[38;5;241;43m/\u001b[39;49m\u001b[38;5;241;43m0\u001b[39;49m \u001b[38;5;66;03m#Division by zero is an exception\u001b[39;00m\n",
      "\u001b[1;31mZeroDivisionError\u001b[0m: division by zero"
     ]
    }
   ],
   "source": [
    "# Example of exception\n",
    "logging.info('This is Question 1 , Example 1')\n",
    "a = 23\n",
    "a/0 #Division by zero is an exception"
   ]
  },
  {
   "cell_type": "code",
   "execution_count": 7,
   "metadata": {},
   "outputs": [
    {
     "ename": "SyntaxError",
     "evalue": "invalid syntax. Perhaps you forgot a comma? (1664719280.py, line 4)",
     "output_type": "error",
     "traceback": [
      "\u001b[1;36m  Cell \u001b[1;32mIn[7], line 4\u001b[1;36m\u001b[0m\n\u001b[1;33m    print(a b) #incorrect syntax here will raise syntax error\u001b[0m\n\u001b[1;37m          ^\u001b[0m\n\u001b[1;31mSyntaxError\u001b[0m\u001b[1;31m:\u001b[0m invalid syntax. Perhaps you forgot a comma?\n"
     ]
    }
   ],
   "source": [
    "# Example of syntax error\n",
    "a = 2\n",
    "b = 3\n",
    "print(a b) #incorrect syntax here will raise syntax error"
   ]
  },
  {
   "cell_type": "markdown",
   "metadata": {},
   "source": [
    "Question 2: What happens if exception is not handled? Explain with an example.\n",
    "\n",
    "Answer : If Exception is not handled the code below the exception will not execute at all. It will stop the program at exception."
   ]
  },
  {
   "cell_type": "code",
   "execution_count": 8,
   "metadata": {},
   "outputs": [
    {
     "ename": "ZeroDivisionError",
     "evalue": "division by zero",
     "output_type": "error",
     "traceback": [
      "\u001b[1;31m---------------------------------------------------------------------------\u001b[0m",
      "\u001b[1;31mZeroDivisionError\u001b[0m                         Traceback (most recent call last)",
      "Cell \u001b[1;32mIn[8], line 3\u001b[0m\n\u001b[0;32m      1\u001b[0m logging\u001b[38;5;241m.\u001b[39minfo(\u001b[38;5;124m'\u001b[39m\u001b[38;5;124mThis is Question 2 start\u001b[39m\u001b[38;5;124m'\u001b[39m)\n\u001b[0;32m      2\u001b[0m a \u001b[38;5;241m=\u001b[39m \u001b[38;5;241m56\u001b[39m\n\u001b[1;32m----> 3\u001b[0m \u001b[38;5;28mprint\u001b[39m(\u001b[43ma\u001b[49m\u001b[38;5;241;43m/\u001b[39;49m\u001b[38;5;241;43m0\u001b[39;49m) \u001b[38;5;66;03m# This will cause Zero Division Error\u001b[39;00m\n\u001b[0;32m      4\u001b[0m \u001b[38;5;28mprint\u001b[39m(a\u001b[38;5;241m+\u001b[39m\u001b[38;5;241m23\u001b[39m) \u001b[38;5;66;03m# None of these code and below lines will not excute because exception was not handled\u001b[39;00m\n\u001b[0;32m      5\u001b[0m \u001b[38;5;28mprint\u001b[39m(\u001b[38;5;124m'\u001b[39m\u001b[38;5;124mThis will not execute\u001b[39m\u001b[38;5;124m'\u001b[39m) \u001b[38;5;66;03m# Will not execute because exception not handled\u001b[39;00m\n",
      "\u001b[1;31mZeroDivisionError\u001b[0m: division by zero"
     ]
    }
   ],
   "source": [
    "logging.info('This is Question 2 start')\n",
    "a = 56\n",
    "print(a/0) # This will cause Zero Division Error\n",
    "print(a+23) # None of these code and below lines will not excute because exception was not handled\n",
    "print('This will not execute') # Will not execute because exception not handled"
   ]
  },
  {
   "cell_type": "markdown",
   "metadata": {},
   "source": [
    "Question 3: Which Python Statements are used to catch and handle exceptions? Explain with an example.\n",
    "\n",
    "Answer : The try and except block in Python is used to catch and handle exceptions."
   ]
  },
  {
   "cell_type": "code",
   "execution_count": 9,
   "metadata": {},
   "outputs": [
    {
     "name": "stdout",
     "output_type": "stream",
     "text": [
      "There is exception in this code: [Errno 2] No such file or directory: 'sample.txt'\n",
      "a=23, b= 45, a*b =1035\n"
     ]
    }
   ],
   "source": [
    "# I'm Creating a file example reading exception handling\n",
    "logging.info('This is Start of Question 3')\n",
    "try:\n",
    "    # This code will be tried for execution\n",
    "    with open('sample.txt','r') as f:\n",
    "        print(f.read())\n",
    "        logging.info('Try block from question 3 executed')\n",
    "\n",
    "except Exception as e:\n",
    "    # Exception will be caught here and message will display\n",
    "    print('There is exception in this code:',e)\n",
    "    logging.exception('Except block from Question 3 executed')\n",
    "finally:\n",
    "    # This code will execute regardless wether try block executes or not\n",
    "    a = 23\n",
    "    b = 45\n",
    "    print(f'a={a}, b= {b}, a*b ={a*b}')\n",
    "    logging.info('Finally Block from Question 3 executed')"
   ]
  },
  {
   "cell_type": "markdown",
   "metadata": {},
   "source": [
    "Question 4 : Explain with an example:\n",
    "\n",
    "1. Try and else\n",
    "2. finally\n",
    "3. raise\n",
    "\n",
    "Answer :\n",
    "\n",
    "1. Try and else : Try block will execute if no exceptions. If no exceptions only then else block is executed. If exception occured except block will get executed"
   ]
  },
  {
   "cell_type": "code",
   "execution_count": 10,
   "metadata": {},
   "outputs": [],
   "source": [
    "# creating a custom function for division with Try, Except ,Else blocks\n",
    "def divide(a,b):\n",
    "    \"\"\"\n",
    "    This is division function with excption handling\n",
    "    \"\"\"\n",
    "    logging.info('This is Start of function divide')\n",
    "    try:\n",
    "        # Try block will execute if there is no exception\n",
    "        result = a/b\n",
    "        print('Try Block Executed.')\n",
    "        logging.info('Try Block executed')\n",
    "    except Exception as e:\n",
    "        # Except block will execute if exception found\n",
    "        print('Exception occured : ',e)\n",
    "        logging.exception('Except block executed')\n",
    "    else:\n",
    "        # This block will execute only if try block executed\n",
    "        print('Else Block Executed')\n",
    "        logging.info('Else Block executed')\n",
    "        return result"
   ]
  },
  {
   "cell_type": "code",
   "execution_count": 11,
   "metadata": {},
   "outputs": [
    {
     "name": "stdout",
     "output_type": "stream",
     "text": [
      "Try Block Executed.\n",
      "Else Block Executed\n"
     ]
    },
    {
     "data": {
      "text/plain": [
       "1.25"
      ]
     },
     "execution_count": 11,
     "metadata": {},
     "output_type": "execute_result"
    }
   ],
   "source": [
    "# Test Case 1 : Both are numbers excluding 0\n",
    "divide(5,4)"
   ]
  },
  {
   "cell_type": "code",
   "execution_count": 12,
   "metadata": {},
   "outputs": [
    {
     "name": "stdout",
     "output_type": "stream",
     "text": [
      "Try Block Executed.\n",
      "Else Block Executed\n"
     ]
    },
    {
     "data": {
      "text/plain": [
       "0.0"
      ]
     },
     "execution_count": 12,
     "metadata": {},
     "output_type": "execute_result"
    }
   ],
   "source": [
    "# Test case 2 : Numerator 0 , Denominator non-zero\n",
    "divide(0,6)"
   ]
  },
  {
   "cell_type": "code",
   "execution_count": 13,
   "metadata": {},
   "outputs": [
    {
     "name": "stdout",
     "output_type": "stream",
     "text": [
      "Exception occured :  division by zero\n"
     ]
    }
   ],
   "source": [
    "# Test Case 3 : Zero in denominator\n",
    "divide(1002,0)"
   ]
  },
  {
   "cell_type": "code",
   "execution_count": 14,
   "metadata": {},
   "outputs": [
    {
     "name": "stdout",
     "output_type": "stream",
     "text": [
      "Exception occured :  unsupported operand type(s) for /: 'str' and 'int'\n"
     ]
    }
   ],
   "source": [
    "# Test Case 3 : String entered in any one\n",
    "divide('1234',123)"
   ]
  },
  {
   "cell_type": "code",
   "execution_count": 15,
   "metadata": {},
   "outputs": [
    {
     "name": "stdout",
     "output_type": "stream",
     "text": [
      "Exception Occured : unsupported operand type(s) for +: 'int' and 'str'\n",
      "This Finally Block will always be executed\n"
     ]
    }
   ],
   "source": [
    "logging.info('Explaining Finally block code of Question 3')\n",
    "try:\n",
    "    # Try block executes if no exception occurs\n",
    "    a = 1\n",
    "    b = '23'\n",
    "    c = a + b\n",
    "    print(c)\n",
    "    logging.info('Try Block executed')\n",
    "except Exception as e:\n",
    "    # Except block will execute if exception occurs\n",
    "    print('Exception Occured :',e)\n",
    "    logging.exception('Except block executed')\n",
    "finally:\n",
    "    # Finally Block will always execute regardless of exception found or not\n",
    "    print('This Finally Block will always be executed')\n",
    "    logging.info('Finally Block executed')\n"
   ]
  },
  {
   "cell_type": "markdown",
   "metadata": {},
   "source": [
    "2. Finally : This code block will always execute .Regardless wether try, except, else blocks are executed"
   ]
  },
  {
   "cell_type": "code",
   "execution_count": 16,
   "metadata": {},
   "outputs": [
    {
     "name": "stdout",
     "output_type": "stream",
     "text": [
      "55\n",
      "This Finally Block will always be executed\n"
     ]
    }
   ],
   "source": [
    "logging.info('Explaining Finally block code of Question 3 Finally example 2')\n",
    "try:\n",
    "    # Try block executes if no exception occurs\n",
    "    a = 1\n",
    "    b = 54\n",
    "    c = a + b\n",
    "    print(c)\n",
    "    logging.info('Try Block executed')    \n",
    "except Exception as e:\n",
    "    # Except block will execute if exception occurs\n",
    "    print('Exception Occured :',e)\n",
    "    logging.exception('Except block executed')\n",
    "finally:\n",
    "    # Finally Block will always execute regardless of exception found or not\n",
    "    print('This Finally Block will always be executed')\n",
    "    logging.info('Finally block executed')"
   ]
  },
  {
   "cell_type": "markdown",
   "metadata": {},
   "source": [
    "3. raise : Python raise Keyword is used to raise exceptions or errors. The raise keyword raises an error and stops the control flow of the program. It is used to bring up the current exception in an exception handler so that it can be handled further up the call stack."
   ]
  },
  {
   "cell_type": "code",
   "execution_count": 17,
   "metadata": {},
   "outputs": [],
   "source": [
    "# Take input as mobile number and raise error if it is not 10 digits and numeric\n",
    "def mob_num():\n",
    "    logging.info('This is start of mob_num function from Question 3 Raise explaination')\n",
    "    mob = input('Enter Mobile number : ')\n",
    "    print('The moblie number entered is',mob)\n",
    "    # Check if length of mobile number is 10 digits and length is 10 digits\n",
    "    if len(mob)!=10 or mob.isnumeric()!= True:\n",
    "        logging.exception('Exception occured invalid mobile number')\n",
    "        raise Exception('Invalid Mobile number is entered') "
   ]
  },
  {
   "cell_type": "code",
   "execution_count": 18,
   "metadata": {},
   "outputs": [
    {
     "name": "stdout",
     "output_type": "stream",
     "text": [
      "The moblie number entered is 2598746985\n"
     ]
    }
   ],
   "source": [
    "# Case 1 : Entering digits less than 10\n",
    "mob_num()"
   ]
  },
  {
   "cell_type": "code",
   "execution_count": 19,
   "metadata": {},
   "outputs": [
    {
     "name": "stdout",
     "output_type": "stream",
     "text": [
      "The moblie number entered is 6978410258\n"
     ]
    }
   ],
   "source": [
    "# Case 2: Entering 10 digit number but has alphabets\n",
    "mob_num()"
   ]
  },
  {
   "cell_type": "code",
   "execution_count": 20,
   "metadata": {},
   "outputs": [
    {
     "name": "stdout",
     "output_type": "stream",
     "text": [
      "The moblie number entered is 9078413576\n"
     ]
    }
   ],
   "source": [
    "# Case 3 : Entering all 10 digit mob number\n",
    "mob_num()"
   ]
  },
  {
   "cell_type": "markdown",
   "metadata": {},
   "source": [
    "Question 5 : What are custom Exceptions in python ? Why do we need Custom Exceptions? Explain with an Example.\n",
    "\n",
    "Answer: Built-in exceptions offer information about Python-related problems, and custom exceptions will add information about project-related problems. Example percentage value should always be between 0 to 100\n",
    "\n",
    "Python detects all the critical errors that occur during Compile-time and Runtime. It stops the program's execution if the error occurs and raises an exception. Some commonly raised Exceptions are ArithmeticError, AttributeError, ImportError, IOError, FileNotFoundError, etc.\n",
    "\n",
    "Sometimes we must enforce constraints on the values that specific program variables can take or save the program from running into an undesired state. In such situations, Python allows programmers to create User-defined Exceptions. To create a User-defined Exception, we need to create a class directly or indirectly derived from the built-in Exception class."
   ]
  },
  {
   "cell_type": "code",
   "execution_count": 21,
   "metadata": {},
   "outputs": [],
   "source": [
    "# Creating a custom class for custom exception\n",
    "class pcterror(Exception):\n",
    "    def __init__(self,msg):\n",
    "        self.msg = msg"
   ]
  },
  {
   "cell_type": "code",
   "execution_count": 22,
   "metadata": {},
   "outputs": [
    {
     "name": "stdout",
     "output_type": "stream",
     "text": [
      "Percentage marks of student is :  85\n"
     ]
    }
   ],
   "source": [
    "# Check if percentage marks of entered is valid or not\n",
    "# Case 1 : Percentage between 0 and 100\n",
    "logging.info('Question 5 , case 1 started')\n",
    "pct = 85\n",
    "# Below is custom exception which checks if percentage is in between 0 and 100\n",
    "if pct<0 or pct>100:\n",
    "    logging.error('Percentage not in range')\n",
    "    raise pcterror('Invalid percentage entered') \n",
    "else:\n",
    "    print('Percentage marks of student is : ',pct)\n",
    "    logging.info('No Error occured')"
   ]
  },
  {
   "cell_type": "code",
   "execution_count": 23,
   "metadata": {},
   "outputs": [
    {
     "ename": "pcterror",
     "evalue": "Invalid percentage entered",
     "output_type": "error",
     "traceback": [
      "\u001b[1;31m---------------------------------------------------------------------------\u001b[0m",
      "\u001b[1;31mpcterror\u001b[0m                                  Traceback (most recent call last)",
      "Cell \u001b[1;32mIn[23], line 7\u001b[0m\n\u001b[0;32m      5\u001b[0m \u001b[38;5;28;01mif\u001b[39;00m pct\u001b[38;5;241m<\u001b[39m\u001b[38;5;241m0\u001b[39m \u001b[38;5;129;01mor\u001b[39;00m pct\u001b[38;5;241m>\u001b[39m\u001b[38;5;241m100\u001b[39m:\n\u001b[0;32m      6\u001b[0m     logging\u001b[38;5;241m.\u001b[39merror(\u001b[38;5;124m'\u001b[39m\u001b[38;5;124mPercentage not in range\u001b[39m\u001b[38;5;124m'\u001b[39m)\n\u001b[1;32m----> 7\u001b[0m     \u001b[38;5;28;01mraise\u001b[39;00m pcterror(\u001b[38;5;124m'\u001b[39m\u001b[38;5;124mInvalid percentage entered\u001b[39m\u001b[38;5;124m'\u001b[39m) \n\u001b[0;32m      8\u001b[0m \u001b[38;5;28;01melse\u001b[39;00m:\n\u001b[0;32m      9\u001b[0m     \u001b[38;5;28mprint\u001b[39m(\u001b[38;5;124m'\u001b[39m\u001b[38;5;124mPercentage marks of student is : \u001b[39m\u001b[38;5;124m'\u001b[39m,pct)\n",
      "\u001b[1;31mpcterror\u001b[0m: Invalid percentage entered"
     ]
    }
   ],
   "source": [
    "# Case 2 : Negative Percentage\n",
    "logging.info('Question 5 , case 2 started')\n",
    "pct = -20\n",
    "# Below is custom exception which checks if percentage is in between 0 and 100\n",
    "if pct<0 or pct>100:\n",
    "    logging.error('Percentage not in range')\n",
    "    raise pcterror('Invalid percentage entered') \n",
    "else:\n",
    "    print('Percentage marks of student is : ',pct)\n",
    "    logging.info('no error occured')"
   ]
  },
  {
   "cell_type": "code",
   "execution_count": 24,
   "metadata": {},
   "outputs": [
    {
     "ename": "pcterror",
     "evalue": "Invalid percentage entered",
     "output_type": "error",
     "traceback": [
      "\u001b[1;31m---------------------------------------------------------------------------\u001b[0m",
      "\u001b[1;31mpcterror\u001b[0m                                  Traceback (most recent call last)",
      "Cell \u001b[1;32mIn[24], line 7\u001b[0m\n\u001b[0;32m      5\u001b[0m \u001b[38;5;28;01mif\u001b[39;00m pct\u001b[38;5;241m<\u001b[39m\u001b[38;5;241m0\u001b[39m \u001b[38;5;129;01mor\u001b[39;00m pct\u001b[38;5;241m>\u001b[39m\u001b[38;5;241m100\u001b[39m:\n\u001b[0;32m      6\u001b[0m     logging\u001b[38;5;241m.\u001b[39merror(\u001b[38;5;124m'\u001b[39m\u001b[38;5;124mPercentage not in range\u001b[39m\u001b[38;5;124m'\u001b[39m)\n\u001b[1;32m----> 7\u001b[0m     \u001b[38;5;28;01mraise\u001b[39;00m pcterror(\u001b[38;5;124m'\u001b[39m\u001b[38;5;124mInvalid percentage entered\u001b[39m\u001b[38;5;124m'\u001b[39m) \n\u001b[0;32m      8\u001b[0m \u001b[38;5;28;01melse\u001b[39;00m:\n\u001b[0;32m      9\u001b[0m     \u001b[38;5;28mprint\u001b[39m(\u001b[38;5;124m'\u001b[39m\u001b[38;5;124mPercentage marks of student is : \u001b[39m\u001b[38;5;124m'\u001b[39m,pct)\n",
      "\u001b[1;31mpcterror\u001b[0m: Invalid percentage entered"
     ]
    }
   ],
   "source": [
    "# Case 3 : Percentage > 100\n",
    "logging.info('Question 5 , case 3 started')\n",
    "pct = 135\n",
    "# Below is custom exception which checks if percentage is in between 0 and 100\n",
    "if pct<0 or pct>100:\n",
    "    logging.error('Percentage not in range')\n",
    "    raise pcterror('Invalid percentage entered') \n",
    "else:\n",
    "    print('Percentage marks of student is : ',pct)\n",
    "    logging.info('No error in code')"
   ]
  },
  {
   "cell_type": "markdown",
   "metadata": {},
   "source": [
    "Question 6 : Create a custom exception class . Use this class to handle exception\n",
    "\n",
    "Answer : I'm Creating a custom exception to validate PAN Card number Below are rules\n",
    "\n",
    "1. Length of Characters must be 10\n",
    "2. First 5 characters string out of which first 3 are random\n",
    "3. The fourth character of PAN represents the status of the PAN holder must be from ['P','C','H', 'F', 'A', 'T', 'B', 'L', 'J', 'G']\n",
    "4. 5th Character must be same as First Letter of surname\n",
    "5. Next 4 characters (from 6 to 9) should be number\n",
    "6. Last character should be a alphabet\n",
    "(Link for PAN Card Number Rules.pdf)\n"
   ]
  },
  {
   "cell_type": "code",
   "execution_count": 25,
   "metadata": {},
   "outputs": [],
   "source": [
    "#Creating a custom exception class to validate PAN Card number\n",
    "\n",
    "class validatePAN(Exception):\n",
    "    # This class ValidatePAN is child of Parent class Exception\n",
    "    def __init__(self, msg):\n",
    "        self.msg = msg"
   ]
  },
  {
   "cell_type": "code",
   "execution_count": 26,
   "metadata": {},
   "outputs": [],
   "source": [
    "# Custon Definition to validate pan number\n",
    "def validate_pan_number(surname,pan):\n",
    "\n",
    "    logging.info('Validate pan function started')\n",
    "    \n",
    "    # Condition 1 Check if Surname is entered alphabetic\n",
    "    if not surname.isalpha():\n",
    "        logging.error('Surname error , Surname cannot have numbers')\n",
    "        raise validatePAN('Surname cannot consist of numbers')\n",
    "    \n",
    "    # Condition 2 Check PAN Card Length it must be = 10\n",
    "    elif len(pan)!=10:\n",
    "        logging.error('PAN Number length is not equal to 10')\n",
    "        raise validatePAN('Length of PAN Card should be 10 digits')\n",
    "    \n",
    "    # Condition 3 first 3 charaters should be letters\n",
    "    elif not pan[0:2].isalpha():\n",
    "        logging.error('First 3 letters of PAN Number are not characters')\n",
    "        raise validatePAN('First Three characters of Pan Card Must be Letters')\n",
    "    \n",
    "    # Condition 4 Fourth letters must belong in ['P','C','H', 'F', 'A', 'T', 'B', 'L', 'J', 'G'] \n",
    "    elif pan[3] not in ['P','C','H', 'F', 'A', 'T', 'B', 'L', 'J', 'G']:\n",
    "        logging.error('PAN Category invalid')\n",
    "        raise validatePAN(\"4th Letter must be any of ['P','C','H', 'F', 'A', 'T', 'B', 'L', 'J', 'G']\")\n",
    "    \n",
    "    # Condition 5 Fifth letter of PAN Card must match with 1st letter of surname \n",
    "    # Case Unification done if characters enterd in different case\n",
    "    elif surname[0].upper()!=pan[4].upper():\n",
    "        logging.error('1st Letter of Surname and 5th Letter of PAN not matching')\n",
    "        raise validatePAN(\"First Digit of surname not matching with 5th Letter of pan\")\n",
    "    \n",
    "    # Condition 6 Next 4 characters should be numeric \n",
    "    elif not pan[5:9].isnumeric():\n",
    "        logging.error('Characters 6 to 9 not numeric')\n",
    "        raise validatePAN(\"Characters from 6 to 9 should be numbers\")\n",
    "    \n",
    "    # Condition 7 Last Character must be alphabet\n",
    "    elif not pan[-1].isalpha():\n",
    "        logging.error('Last character in not an alphabet')\n",
    "        raise validatePAN(\"Last Character of PAN must be a Alphabet\")\n",
    "    \n",
    "    # If all above condition satisfy Pan Number is valid\n",
    "    else:\n",
    "        print('PAN Number is valid')\n",
    "        logging.info('PAN Card number is Valid')"
   ]
  },
  {
   "cell_type": "code",
   "execution_count": 27,
   "metadata": {},
   "outputs": [
    {
     "name": "stdout",
     "output_type": "stream",
     "text": [
      "PAN Number is valid\n"
     ]
    }
   ],
   "source": [
    "# Test Case 1 : Checking a Valid pan number and surname\n",
    "logging.info('Test Case 1 , Question 6')\n",
    "try:\n",
    "    surname = 'gaikwad'\n",
    "    pan = 'AAAPG1234F'\n",
    "    validate_pan_number(surname,pan)\n",
    "    logging.info('Try Block executed')\n",
    "except validatePAN as e:\n",
    "    print(e)\n",
    "    logging.exception('Except block executed')"
   ]
  },
  {
   "cell_type": "code",
   "execution_count": 28,
   "metadata": {},
   "outputs": [
    {
     "name": "stdout",
     "output_type": "stream",
     "text": [
      "Surname cannot consist of numbers\n"
     ]
    }
   ],
   "source": [
    "# Test case 2 : Entering invalid surname\n",
    "logging.info('Test Case 2 , Question 6')\n",
    "try:\n",
    "    surname = '123skfm'\n",
    "    pan = 'AAAPG1234F'\n",
    "    validate_pan_number(surname,pan)\n",
    "    logging.info('Try Block executed')\n",
    "except validatePAN as e:\n",
    "    print(e)\n",
    "    logging.exception('Except block executed')"
   ]
  },
  {
   "cell_type": "code",
   "execution_count": 29,
   "metadata": {},
   "outputs": [
    {
     "name": "stdout",
     "output_type": "stream",
     "text": [
      "Length of PAN Card should be 10 digits\n"
     ]
    }
   ],
   "source": [
    "# Test Case 3 : Entering Pan Number Less than 10 numbers\n",
    "logging.info('Test Case 3 , Question 6')\n",
    "try:\n",
    "    surname = 'gaikwad'\n",
    "    pan = 'AAAPG12'\n",
    "    validate_pan_number(surname,pan)\n",
    "    logging.info('Try Block executed')\n",
    "except validatePAN as e:\n",
    "    print(e)\n",
    "    logging.exception('Except block executed')"
   ]
  },
  {
   "cell_type": "code",
   "execution_count": 30,
   "metadata": {},
   "outputs": [
    {
     "name": "stdout",
     "output_type": "stream",
     "text": [
      "First Three characters of Pan Card Must be Letters\n"
     ]
    }
   ],
   "source": [
    "# Test Case 4 : Entering Pan Number Less than 10 numbers First 3 letters of pancard is not alphabet\n",
    "logging.info('Test Case 4 , Question 6')\n",
    "try:\n",
    "    surname = 'gaikwad'\n",
    "    pan = 'A2APG1234F'\n",
    "    validate_pan_number(surname,pan)\n",
    "    logging.info('Try Block executed')\n",
    "except validatePAN as e:\n",
    "    print(e)\n",
    "    logging.exception('Except block executed')"
   ]
  },
  {
   "cell_type": "code",
   "execution_count": 31,
   "metadata": {},
   "outputs": [
    {
     "name": "stdout",
     "output_type": "stream",
     "text": [
      "4th Letter must be any of ['P','C','H', 'F', 'A', 'T', 'B', 'L', 'J', 'G']\n"
     ]
    }
   ],
   "source": [
    "# Test Case 4: Letter 4 not belonging from ['P','C','H', 'F', 'A', 'T', 'B', 'L', 'J', 'G']\n",
    "logging.info('Test Case 4 , Question 6') \n",
    "try:\n",
    "    surname = 'gaikwad'\n",
    "    pan = 'AAAZG1234F'\n",
    "    validate_pan_number(surname,pan)\n",
    "    logging.info('Try Block executed')\n",
    "except validatePAN as e:\n",
    "    print(e)\n",
    "    logging.exception('Except block executed')"
   ]
  },
  {
   "cell_type": "code",
   "execution_count": 32,
   "metadata": {},
   "outputs": [
    {
     "name": "stdout",
     "output_type": "stream",
     "text": [
      "First Digit of surname not matching with 5th Letter of pan\n"
     ]
    }
   ],
   "source": [
    "# Test Case 5: First letter of surname and 5th character of PAN Number not matching\n",
    "logging.info('Test Case 5 , Question 6')\n",
    "try:\n",
    "    surname = 'gaikwad'\n",
    "    pan = 'AAAPX1234F'\n",
    "    validate_pan_number(surname,pan)\n",
    "    logging.info('Try Block executed')\n",
    "except validatePAN as e:\n",
    "    print(e)\n",
    "    logging.exception('Except block executed')"
   ]
  },
  {
   "cell_type": "code",
   "execution_count": 33,
   "metadata": {},
   "outputs": [
    {
     "name": "stdout",
     "output_type": "stream",
     "text": [
      "Characters from 6 to 9 should be numbers\n"
     ]
    }
   ],
   "source": [
    "# Test Case 6: Characters from 6 to 9 are not numbers\n",
    "logging.info('Test Case 6 , Question 6')\n",
    "try:\n",
    "    surname = 'gaikwad'\n",
    "    pan = 'AAAPG12N4F'\n",
    "    validate_pan_number(surname,pan)\n",
    "    logging.info('Try Block executed')\n",
    "except validatePAN as e:\n",
    "    print(e)\n",
    "    logging.exception('Except block executed')"
   ]
  },
  {
   "cell_type": "code",
   "execution_count": 34,
   "metadata": {},
   "outputs": [
    {
     "name": "stdout",
     "output_type": "stream",
     "text": [
      "Last Character of PAN must be a Alphabet\n"
     ]
    }
   ],
   "source": [
    "# Test Case 7: Last Character must be Alphabet\n",
    "logging.info('Test Case 7 , Question 6')\n",
    "try:\n",
    "    surname = 'gaikwad'\n",
    "    pan = 'AAAPG12345'\n",
    "    validate_pan_number(surname,pan)\n",
    "    logging.info('Try Block executed')\n",
    "except validatePAN as e:\n",
    "    print(e)\n",
    "    logging.exception('Except Block executed')"
   ]
  },
  {
   "cell_type": "code",
   "execution_count": 35,
   "metadata": {},
   "outputs": [
    {
     "name": "stdout",
     "output_type": "stream",
     "text": [
      "PAN Number is valid\n"
     ]
    }
   ],
   "source": [
    "# Test Case 8 : Random Test case\n",
    "logging.info('Test Case 8 , Question 6')\n",
    "try:\n",
    "    surname ='Naik'\n",
    "    pan = 'ACXPN4567D'\n",
    "    validate_pan_number(surname,pan)\n",
    "    logging.info('Try Block executed')\n",
    "except validatePAN as e:\n",
    "    print(e)\n",
    "    logging.exception('Except Block executed')"
   ]
  },
  {
   "cell_type": "markdown",
   "metadata": {},
   "source": [
    "Showing logfile results"
   ]
  },
  {
   "cell_type": "code",
   "execution_count": 36,
   "metadata": {},
   "outputs": [],
   "source": [
    "# Shutdown logging first\n",
    "logging.shutdown()"
   ]
  },
  {
   "cell_type": "code",
   "execution_count": 38,
   "metadata": {},
   "outputs": [
    {
     "name": "stdout",
     "output_type": "stream",
     "text": [
      "Error: The file 'TryExcept.log' does not exist. Please create the file or check the file path.\n"
     ]
    }
   ],
   "source": [
    "import os\n",
    "\n",
    "filename = \"TryExcept.log\"\n",
    "\n",
    "if os.path.exists(filename):\n",
    "    with open(filename, 'r') as f:\n",
    "        print(f.read())\n",
    "else:\n",
    "    print(f\"Error: The file '{filename}' does not exist. Please create the file or check the file path.\")\n"
   ]
  },
  {
   "cell_type": "code",
   "execution_count": 39,
   "metadata": {},
   "outputs": [
    {
     "name": "stdout",
     "output_type": "stream",
     "text": [
      "\n"
     ]
    }
   ],
   "source": [
    "filename = \"TryExcept.log\"\n",
    "\n",
    "# Create file if it doesn't exist\n",
    "with open(filename, 'a') as f:\n",
    "    pass  # This does nothing but ensures the file is created\n",
    "\n",
    "# Now, safely open the file\n",
    "with open(filename, 'r') as f:\n",
    "    print(f.read())\n"
   ]
  },
  {
   "cell_type": "code",
   "execution_count": 40,
   "metadata": {},
   "outputs": [
    {
     "name": "stdout",
     "output_type": "stream",
     "text": [
      "\n"
     ]
    }
   ],
   "source": [
    "try:\n",
    "    with open(\"TryExcept.log\", \"r\") as f:\n",
    "        print(f.read())\n",
    "except FileNotFoundError:\n",
    "    print(\"Error: The file 'TryExcept.log' was not found. Please check the file path or create the file.\")\n"
   ]
  },
  {
   "cell_type": "code",
   "execution_count": 41,
   "metadata": {},
   "outputs": [
    {
     "name": "stdout",
     "output_type": "stream",
     "text": [
      "\n"
     ]
    }
   ],
   "source": [
    "with open('TryExcept.log','r') as f:\n",
    "    print(f.read())"
   ]
  },
  {
   "cell_type": "code",
   "execution_count": 42,
   "metadata": {},
   "outputs": [
    {
     "data": {
      "text/plain": [
       "'TryExceptLog.txt'"
      ]
     },
     "execution_count": 42,
     "metadata": {},
     "output_type": "execute_result"
    }
   ],
   "source": [
    "# Copying log and saving as text file\n",
    "import shutil\n",
    "shutil.copy('TryExcept.log','TryExceptLog.txt')"
   ]
  }
 ],
 "metadata": {
  "kernelspec": {
   "display_name": "Python 3",
   "language": "python",
   "name": "python3"
  },
  "language_info": {
   "codemirror_mode": {
    "name": "ipython",
    "version": 3
   },
   "file_extension": ".py",
   "mimetype": "text/x-python",
   "name": "python",
   "nbconvert_exporter": "python",
   "pygments_lexer": "ipython3",
   "version": "3.12.3"
  }
 },
 "nbformat": 4,
 "nbformat_minor": 2
}
