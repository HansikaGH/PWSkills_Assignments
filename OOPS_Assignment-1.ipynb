{
 "cells": [
  {
   "cell_type": "markdown",
   "metadata": {},
   "source": [
    "Q1. Explain Class and Object with respect to Object-Oriented Programming. Give a suitable example.\n",
    "\n",
    "Answer:\n",
    "\n",
    "Class: A class is a blueprint for creating objects. It defines attributes (variables) and methods (functions) that describe the behavior of the objects.\n",
    "\n",
    "Object: An object is an instance of a class. It represents real-world entities with specific values assigned to its attributes."
   ]
  },
  {
   "cell_type": "code",
   "execution_count": 1,
   "metadata": {},
   "outputs": [
    {
     "name": "stdout",
     "output_type": "stream",
     "text": [
      "2022 Toyota Camry\n",
      "2021 Honda Civic\n"
     ]
    }
   ],
   "source": [
    "class Car:\n",
    "    def __init__(self, brand, model, year):\n",
    "        self.brand = brand\n",
    "        self.model = model\n",
    "        self.year = year\n",
    "\n",
    "    def display_info(self):\n",
    "        return f\"{self.year} {self.brand} {self.model}\"\n",
    "\n",
    "# Creating objects (instances of Car)\n",
    "car1 = Car(\"Toyota\", \"Camry\", 2022)\n",
    "car2 = Car(\"Honda\", \"Civic\", 2021)\n",
    "\n",
    "print(car1.display_info())  # Output: 2022 Toyota Camry\n",
    "print(car2.display_info())  # Output: 2021 Honda Civic\n"
   ]
  },
  {
   "cell_type": "markdown",
   "metadata": {},
   "source": [
    "Q2. Name the four pillars of OOPs.\n",
    "\n",
    "Answer:\n",
    "\n",
    "The four main principles (pillars) of Object-Oriented Programming (OOP) are:\n",
    "\n",
    "- Encapsulation – Wrapping data and methods into a single unit (class).\n",
    "\n",
    "- Abstraction – Hiding complex implementation details and showing only the necessary features.\n",
    "\n",
    "- Inheritance – Allowing one class to inherit properties and methods from another class.\n",
    "\n",
    "- Polymorphism – The ability to use a single interface in different ways (method overriding and overloading)."
   ]
  },
  {
   "cell_type": "markdown",
   "metadata": {},
   "source": [
    "Q3. Explain why the __init__() function is used. Give a suitable example.\n",
    "\n",
    "Answer:\n",
    "The __init__() function is a special method (constructor) in Python that is automatically called when an object is created. It initializes instance variables."
   ]
  },
  {
   "cell_type": "code",
   "execution_count": 2,
   "metadata": {},
   "outputs": [
    {
     "name": "stdout",
     "output_type": "stream",
     "text": [
      "Student Name: Alice, Age: 20\n"
     ]
    }
   ],
   "source": [
    "class Student:\n",
    "    def __init__(self, name, age):\n",
    "        self.name = name  # Instance variable\n",
    "        self.age = age\n",
    "\n",
    "    def display(self):\n",
    "        return f\"Student Name: {self.name}, Age: {self.age}\"\n",
    "\n",
    "# Creating an object\n",
    "student1 = Student(\"Alice\", 20)\n",
    "print(student1.display())  # Output: Student Name: Alice, Age: 20\n"
   ]
  },
  {
   "cell_type": "markdown",
   "metadata": {},
   "source": [
    "- __init__() initializes name and age when Student objects are created.\n",
    "\n",
    "- This method ensures each object has its unique data."
   ]
  },
  {
   "cell_type": "markdown",
   "metadata": {},
   "source": [
    "Q4. Why self is used in OOPs?\n",
    "\n",
    "Answer:\n",
    "\n",
    "self represents the instance of the class and allows access to attributes and methods of the class. It is used within class methods to refer to the object that is calling the method.\n"
   ]
  },
  {
   "cell_type": "code",
   "execution_count": 3,
   "metadata": {},
   "outputs": [
    {
     "name": "stdout",
     "output_type": "stream",
     "text": [
      "Dog makes a sound.\n"
     ]
    }
   ],
   "source": [
    "class Animal:\n",
    "    def __init__(self, name):\n",
    "        self.name = name  # Using self to refer to instance variable\n",
    "\n",
    "    def speak(self):\n",
    "        return f\"{self.name} makes a sound.\"\n",
    "\n",
    "# Creating object\n",
    "dog = Animal(\"Dog\")\n",
    "print(dog.speak())  # Output: Dog makes a sound.\n"
   ]
  },
  {
   "cell_type": "markdown",
   "metadata": {},
   "source": [
    "- self.name = name ensures each object has its unique name.\n",
    "\n",
    "- self differentiates between instance variables and method parameters."
   ]
  },
  {
   "cell_type": "markdown",
   "metadata": {},
   "source": [
    "Q5. What is inheritance? Give an example for each type of inheritance.\n",
    "\n",
    "Answer:\n",
    "\n",
    "Inheritance is the process by which one class (child) acquires properties and methods of another class (parent).\n",
    "\n",
    "Types of Inheritance in Python:\n",
    "\n",
    "1. Single Inheritance\n",
    "One class inherits from another."
   ]
  },
  {
   "cell_type": "code",
   "execution_count": 4,
   "metadata": {},
   "outputs": [
    {
     "name": "stdout",
     "output_type": "stream",
     "text": [
      "Bark\n"
     ]
    }
   ],
   "source": [
    "class Animal:\n",
    "    def make_sound(self):\n",
    "        return \"Some generic sound\"\n",
    "\n",
    "class Dog(Animal):\n",
    "    def make_sound(self):\n",
    "        return \"Bark\"\n",
    "\n",
    "dog = Dog()\n",
    "print(dog.make_sound())  # Output: Bark\n"
   ]
  },
  {
   "cell_type": "markdown",
   "metadata": {},
   "source": [
    "2. Multiple Inheritance\n",
    "A child class inherits from two or more parent classes."
   ]
  },
  {
   "cell_type": "code",
   "execution_count": 5,
   "metadata": {},
   "outputs": [
    {
     "name": "stdout",
     "output_type": "stream",
     "text": [
      "Diesel Engine, 4 wheels\n"
     ]
    }
   ],
   "source": [
    "class Engine:\n",
    "    def engine_type(self):\n",
    "        return \"Diesel Engine\"\n",
    "\n",
    "class Wheels:\n",
    "    def wheel_count(self):\n",
    "        return \"4 wheels\"\n",
    "\n",
    "class Car(Engine, Wheels):\n",
    "    def details(self):\n",
    "        return f\"{self.engine_type()}, {self.wheel_count()}\"\n",
    "\n",
    "car = Car()\n",
    "print(car.details())  # Output: Diesel Engine, 4 wheels\n"
   ]
  },
  {
   "cell_type": "markdown",
   "metadata": {},
   "source": [
    "3. Multilevel Inheritance\n",
    "A class is derived from another derived class."
   ]
  },
  {
   "cell_type": "code",
   "execution_count": 6,
   "metadata": {},
   "outputs": [
    {
     "name": "stdout",
     "output_type": "stream",
     "text": [
      "Some sound\n",
      "Has fur\n",
      "Bark\n"
     ]
    }
   ],
   "source": [
    "class Animal:\n",
    "    def speak(self):\n",
    "        return \"Some sound\"\n",
    "\n",
    "class Mammal(Animal):\n",
    "    def has_fur(self):\n",
    "        return \"Has fur\"\n",
    "\n",
    "class Dog(Mammal):\n",
    "    def make_sound(self):\n",
    "        return \"Bark\"\n",
    "\n",
    "dog = Dog()\n",
    "print(dog.speak())    # Output: Some sound\n",
    "print(dog.has_fur())  # Output: Has fur\n",
    "print(dog.make_sound()) # Output: Bark\n"
   ]
  },
  {
   "cell_type": "markdown",
   "metadata": {},
   "source": [
    "4. Hierarchical Inheritance\n",
    "One parent class is inherited by multiple child classes."
   ]
  },
  {
   "cell_type": "code",
   "execution_count": 7,
   "metadata": {},
   "outputs": [
    {
     "name": "stdout",
     "output_type": "stream",
     "text": [
      "Some sound Bark\n",
      "Some sound Meow\n"
     ]
    }
   ],
   "source": [
    "class Animal:\n",
    "    def speak(self):\n",
    "        return \"Some sound\"\n",
    "\n",
    "class Dog(Animal):\n",
    "    def make_sound(self):\n",
    "        return \"Bark\"\n",
    "\n",
    "class Cat(Animal):\n",
    "    def make_sound(self):\n",
    "        return \"Meow\"\n",
    "\n",
    "dog = Dog()\n",
    "cat = Cat()\n",
    "\n",
    "print(dog.speak(), dog.make_sound())  # Output: Some sound Bark\n",
    "print(cat.speak(), cat.make_sound())  # Output: Some sound Meow\n"
   ]
  },
  {
   "cell_type": "markdown",
   "metadata": {},
   "source": [
    "5. Hybrid Inheritance\n",
    "Combination of multiple types of inheritance."
   ]
  },
  {
   "cell_type": "code",
   "execution_count": 8,
   "metadata": {},
   "outputs": [
    {
     "name": "stdout",
     "output_type": "stream",
     "text": [
      "A vehicle transports people or goods, Electric engine\n"
     ]
    }
   ],
   "source": [
    "class Vehicle:\n",
    "    def general_info(self):\n",
    "        return \"A vehicle transports people or goods\"\n",
    "\n",
    "class Engine:\n",
    "    def engine_type(self):\n",
    "        return \"Electric engine\"\n",
    "\n",
    "class Car(Vehicle, Engine):\n",
    "    def car_info(self):\n",
    "        return f\"{self.general_info()}, {self.engine_type()}\"\n",
    "\n",
    "car = Car()\n",
    "print(car.car_info())  # Output: A vehicle transports people or goods, Electric engine\n"
   ]
  }
 ],
 "metadata": {
  "kernelspec": {
   "display_name": "Python 3",
   "language": "python",
   "name": "python3"
  },
  "language_info": {
   "codemirror_mode": {
    "name": "ipython",
    "version": 3
   },
   "file_extension": ".py",
   "mimetype": "text/x-python",
   "name": "python",
   "nbconvert_exporter": "python",
   "pygments_lexer": "ipython3",
   "version": "3.12.3"
  }
 },
 "nbformat": 4,
 "nbformat_minor": 2
}
