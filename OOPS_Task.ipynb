{
 "cells": [
  {
   "cell_type": "markdown",
   "metadata": {},
   "source": [
    "Q1, Create a vehicle class with an init method having instance variables as name_of_vehicle, max_speed\n",
    "and average_of_vehicle.\n",
    "\n",
    "Answer:"
   ]
  },
  {
   "cell_type": "code",
   "execution_count": 1,
   "metadata": {},
   "outputs": [
    {
     "name": "stdout",
     "output_type": "stream",
     "text": [
      "Vehicle Name: Bike, Max Speed: 150, Average: 40\n"
     ]
    }
   ],
   "source": [
    "class Vehicle:\n",
    "    def __init__(self, name_of_vehicle, max_speed, average_of_vehicle):\n",
    "        self.name = name_of_vehicle  # Vehicle name\n",
    "        self.max_speed = max_speed  # Maximum speed\n",
    "        self.average = average_of_vehicle  # Average mileage\n",
    "\n",
    "# Example usage\n",
    "vehicle1 = Vehicle(\"Bike\", 150, 40)\n",
    "print(f\"Vehicle Name: {vehicle1.name}, Max Speed: {vehicle1.max_speed}, Average: {vehicle1.average}\")\n"
   ]
  },
  {
   "cell_type": "markdown",
   "metadata": {},
   "source": [
    "- __init__ is the constructor that initializes the attributes.\n",
    "\n",
    "- self.name, self.max_speed, and self.average store vehicle details."
   ]
  },
  {
   "cell_type": "markdown",
   "metadata": {},
   "source": [
    "Q2. Create a child class car from the vehicle class created in Que 1, which will inherit the vehicle class.\n",
    "Create a method named seating_capacity which takes capacity as an argument and returns the name of\n",
    "the vehicle and its seating capacity.\n",
    "\n",
    "Answer:"
   ]
  },
  {
   "cell_type": "code",
   "execution_count": 3,
   "metadata": {},
   "outputs": [
    {
     "name": "stdout",
     "output_type": "stream",
     "text": [
      "Sedan has a seating capacity of 5.\n"
     ]
    }
   ],
   "source": [
    "class Car(Vehicle):  # Car class inherits Vehicle\n",
    "    def seating_capacity(self, capacity):\n",
    "        return f\"{self.name} has a seating capacity of {capacity}.\"\n",
    "\n",
    "# Example usage\n",
    "car1 = Car(\"Sedan\", 220, 18)\n",
    "print(car1.seating_capacity(5))\n"
   ]
  },
  {
   "cell_type": "markdown",
   "metadata": {},
   "source": [
    "- Car inherits from Vehicle.\n",
    "\n",
    "- seating_capacity(capacity) method returns the car name and seating capacity."
   ]
  },
  {
   "cell_type": "markdown",
   "metadata": {},
   "source": [
    "Q3. What is multiple inheritance? Write a python code to demonstrate multiple inheritance.\n",
    "\n",
    "Answer:"
   ]
  },
  {
   "cell_type": "code",
   "execution_count": 4,
   "metadata": {},
   "outputs": [
    {
     "name": "stdout",
     "output_type": "stream",
     "text": [
      "Method from Parent1\n",
      "Method from Parent2\n",
      "Method from Child\n"
     ]
    }
   ],
   "source": [
    "class Parent1:\n",
    "    def method1(self):\n",
    "        return \"Method from Parent1\"\n",
    "\n",
    "class Parent2:\n",
    "    def method2(self):\n",
    "        return \"Method from Parent2\"\n",
    "\n",
    "class Child(Parent1, Parent2):  # Inheriting from both Parent1 and Parent2\n",
    "    def method3(self):\n",
    "        return \"Method from Child\"\n",
    "\n",
    "# Example usage\n",
    "child_obj = Child()\n",
    "print(child_obj.method1())  # Access Parent1 method\n",
    "print(child_obj.method2())  # Access Parent2 method\n",
    "print(child_obj.method3())  # Access Child's own method\n"
   ]
  },
  {
   "cell_type": "markdown",
   "metadata": {},
   "source": [
    "- Child inherits from both Parent1 and Parent2, demonstrating multiple inheritance.\n"
   ]
  },
  {
   "cell_type": "markdown",
   "metadata": {},
   "source": [
    "Q4. What are getter and setter in python? Create a class and create a getter and a setter method in this\n",
    "class.\n",
    "\n",
    "Answer:"
   ]
  },
  {
   "cell_type": "code",
   "execution_count": 5,
   "metadata": {},
   "outputs": [
    {
     "name": "stdout",
     "output_type": "stream",
     "text": [
      "Alice\n",
      "Bob\n"
     ]
    }
   ],
   "source": [
    "class Student:\n",
    "    def __init__(self, name):\n",
    "        self._name = name  # Private variable (convention)\n",
    "\n",
    "    @property\n",
    "    def name(self):  # Getter method\n",
    "        return self._name\n",
    "\n",
    "    @name.setter\n",
    "    def name(self, new_name):  # Setter method\n",
    "        self._name = new_name\n",
    "\n",
    "# Example usage\n",
    "student1 = Student(\"Alice\")\n",
    "print(student1.name)  # Using getter\n",
    "\n",
    "student1.name = \"Bob\"  # Using setter\n",
    "print(student1.name)\n"
   ]
  },
  {
   "cell_type": "markdown",
   "metadata": {},
   "source": [
    "- @property defines a getter to access _name.\n",
    "\n",
    "- @name.setter allows modifying _name."
   ]
  },
  {
   "cell_type": "markdown",
   "metadata": {},
   "source": [
    "Q5.What is method overriding in python? Write a python code to demonstrate method overriding.\n",
    "\n",
    "Answer:"
   ]
  },
  {
   "cell_type": "code",
   "execution_count": 6,
   "metadata": {},
   "outputs": [
    {
     "name": "stdout",
     "output_type": "stream",
     "text": [
      "Bark\n"
     ]
    }
   ],
   "source": [
    "class Animal:\n",
    "    def sound(self):\n",
    "        return \"Some generic animal sound\"\n",
    "\n",
    "class Dog(Animal):  # Inheriting from Animal\n",
    "    def sound(self):  # Overriding method\n",
    "        return \"Bark\"\n",
    "\n",
    "# Example usage\n",
    "dog1 = Dog()\n",
    "print(dog1.sound())  # Output: \"Bark\"\n"
   ]
  },
  {
   "cell_type": "markdown",
   "metadata": {},
   "source": [
    "- sound() in Animal is overridden in Dog.\n",
    "\n",
    "- When calling dog1.sound(), Dog’s version overrides the parent method."
   ]
  }
 ],
 "metadata": {
  "kernelspec": {
   "display_name": "Python 3",
   "language": "python",
   "name": "python3"
  },
  "language_info": {
   "codemirror_mode": {
    "name": "ipython",
    "version": 3
   },
   "file_extension": ".py",
   "mimetype": "text/x-python",
   "name": "python",
   "nbconvert_exporter": "python",
   "pygments_lexer": "ipython3",
   "version": "3.12.3"
  }
 },
 "nbformat": 4,
 "nbformat_minor": 2
}
