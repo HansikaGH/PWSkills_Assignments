{
 "cells": [
  {
   "cell_type": "markdown",
   "id": "da8039de",
   "metadata": {},
   "source": [
    "Question 1: Load the \"titanic\" dataset using the load_dataset function of seaborn. Use Plotly express to plot a scatter plot for age and fare columns in the titanic dataset.\n",
    "\n",
    "Answer :\n",
    "\n",
    "Loading titanic dataset"
   ]
  },
  {
   "cell_type": "code",
   "execution_count": 1,
   "id": "1848c941",
   "metadata": {},
   "outputs": [
    {
     "data": {
      "text/html": [
       "<div>\n",
       "<style scoped>\n",
       "    .dataframe tbody tr th:only-of-type {\n",
       "        vertical-align: middle;\n",
       "    }\n",
       "\n",
       "    .dataframe tbody tr th {\n",
       "        vertical-align: top;\n",
       "    }\n",
       "\n",
       "    .dataframe thead th {\n",
       "        text-align: right;\n",
       "    }\n",
       "</style>\n",
       "<table border=\"1\" class=\"dataframe\">\n",
       "  <thead>\n",
       "    <tr style=\"text-align: right;\">\n",
       "      <th></th>\n",
       "      <th>survived</th>\n",
       "      <th>pclass</th>\n",
       "      <th>sex</th>\n",
       "      <th>age</th>\n",
       "      <th>sibsp</th>\n",
       "      <th>parch</th>\n",
       "      <th>fare</th>\n",
       "      <th>embarked</th>\n",
       "      <th>class</th>\n",
       "      <th>who</th>\n",
       "      <th>adult_male</th>\n",
       "      <th>deck</th>\n",
       "      <th>embark_town</th>\n",
       "      <th>alive</th>\n",
       "      <th>alone</th>\n",
       "    </tr>\n",
       "  </thead>\n",
       "  <tbody>\n",
       "    <tr>\n",
       "      <th>0</th>\n",
       "      <td>0</td>\n",
       "      <td>3</td>\n",
       "      <td>male</td>\n",
       "      <td>22.0</td>\n",
       "      <td>1</td>\n",
       "      <td>0</td>\n",
       "      <td>7.2500</td>\n",
       "      <td>S</td>\n",
       "      <td>Third</td>\n",
       "      <td>man</td>\n",
       "      <td>True</td>\n",
       "      <td>NaN</td>\n",
       "      <td>Southampton</td>\n",
       "      <td>no</td>\n",
       "      <td>False</td>\n",
       "    </tr>\n",
       "    <tr>\n",
       "      <th>1</th>\n",
       "      <td>1</td>\n",
       "      <td>1</td>\n",
       "      <td>female</td>\n",
       "      <td>38.0</td>\n",
       "      <td>1</td>\n",
       "      <td>0</td>\n",
       "      <td>71.2833</td>\n",
       "      <td>C</td>\n",
       "      <td>First</td>\n",
       "      <td>woman</td>\n",
       "      <td>False</td>\n",
       "      <td>C</td>\n",
       "      <td>Cherbourg</td>\n",
       "      <td>yes</td>\n",
       "      <td>False</td>\n",
       "    </tr>\n",
       "    <tr>\n",
       "      <th>2</th>\n",
       "      <td>1</td>\n",
       "      <td>3</td>\n",
       "      <td>female</td>\n",
       "      <td>26.0</td>\n",
       "      <td>0</td>\n",
       "      <td>0</td>\n",
       "      <td>7.9250</td>\n",
       "      <td>S</td>\n",
       "      <td>Third</td>\n",
       "      <td>woman</td>\n",
       "      <td>False</td>\n",
       "      <td>NaN</td>\n",
       "      <td>Southampton</td>\n",
       "      <td>yes</td>\n",
       "      <td>True</td>\n",
       "    </tr>\n",
       "    <tr>\n",
       "      <th>3</th>\n",
       "      <td>1</td>\n",
       "      <td>1</td>\n",
       "      <td>female</td>\n",
       "      <td>35.0</td>\n",
       "      <td>1</td>\n",
       "      <td>0</td>\n",
       "      <td>53.1000</td>\n",
       "      <td>S</td>\n",
       "      <td>First</td>\n",
       "      <td>woman</td>\n",
       "      <td>False</td>\n",
       "      <td>C</td>\n",
       "      <td>Southampton</td>\n",
       "      <td>yes</td>\n",
       "      <td>False</td>\n",
       "    </tr>\n",
       "    <tr>\n",
       "      <th>4</th>\n",
       "      <td>0</td>\n",
       "      <td>3</td>\n",
       "      <td>male</td>\n",
       "      <td>35.0</td>\n",
       "      <td>0</td>\n",
       "      <td>0</td>\n",
       "      <td>8.0500</td>\n",
       "      <td>S</td>\n",
       "      <td>Third</td>\n",
       "      <td>man</td>\n",
       "      <td>True</td>\n",
       "      <td>NaN</td>\n",
       "      <td>Southampton</td>\n",
       "      <td>no</td>\n",
       "      <td>True</td>\n",
       "    </tr>\n",
       "  </tbody>\n",
       "</table>\n",
       "</div>"
      ],
      "text/plain": [
       "   survived  pclass     sex   age  sibsp  parch     fare embarked  class  \\\n",
       "0         0       3    male  22.0      1      0   7.2500        S  Third   \n",
       "1         1       1  female  38.0      1      0  71.2833        C  First   \n",
       "2         1       3  female  26.0      0      0   7.9250        S  Third   \n",
       "3         1       1  female  35.0      1      0  53.1000        S  First   \n",
       "4         0       3    male  35.0      0      0   8.0500        S  Third   \n",
       "\n",
       "     who  adult_male deck  embark_town alive  alone  \n",
       "0    man        True  NaN  Southampton    no  False  \n",
       "1  woman       False    C    Cherbourg   yes  False  \n",
       "2  woman       False  NaN  Southampton   yes   True  \n",
       "3  woman       False    C  Southampton   yes  False  \n",
       "4    man        True  NaN  Southampton    no   True  "
      ]
     },
     "execution_count": 1,
     "metadata": {},
     "output_type": "execute_result"
    }
   ],
   "source": [
    "import seaborn as sns\n",
    "titanic = sns.load_dataset('titanic')\n",
    "titanic.head()"
   ]
  },
  {
   "cell_type": "markdown",
   "id": "0e79cb84",
   "metadata": {},
   "source": [
    "Plotting the scatter plot"
   ]
  },
  {
   "cell_type": "code",
   "execution_count": 3,
   "id": "33e396a3",
   "metadata": {},
   "outputs": [
    {
     "name": "stdout",
     "output_type": "stream",
     "text": [
      "^C\n"
     ]
    },
    {
     "name": "stdout",
     "output_type": "stream",
     "text": [
      "Collecting plotly\n",
      "  Downloading plotly-6.0.1-py3-none-any.whl.metadata (6.7 kB)\n",
      "Collecting narwhals>=1.15.1 (from plotly)\n",
      "  Downloading narwhals-1.35.0-py3-none-any.whl.metadata (9.2 kB)\n",
      "Requirement already satisfied: packaging in c:\\users\\hansika\\appdata\\local\\programs\\python\\python312\\lib\\site-packages (from plotly) (23.2)\n",
      "Downloading plotly-6.0.1-py3-none-any.whl (14.8 MB)\n",
      "   ---------------------------------------- 0.0/14.8 MB ? eta -:--:--\n",
      "   ---------------------------------------- 0.0/14.8 MB ? eta -:--:--\n",
      "   ---------------------------------------- 0.1/14.8 MB 825.8 kB/s eta 0:00:18\n",
      "   ---------------------------------------- 0.1/14.8 MB 1.2 MB/s eta 0:00:13\n",
      "    --------------------------------------- 0.3/14.8 MB 2.0 MB/s eta 0:00:08\n",
      "   - -------------------------------------- 0.4/14.8 MB 2.0 MB/s eta 0:00:08\n",
      "   - -------------------------------------- 0.6/14.8 MB 2.5 MB/s eta 0:00:06\n",
      "   -- ------------------------------------- 0.8/14.8 MB 2.6 MB/s eta 0:00:06\n",
      "   -- ------------------------------------- 0.9/14.8 MB 2.7 MB/s eta 0:00:06\n",
      "   -- ------------------------------------- 1.0/14.8 MB 2.7 MB/s eta 0:00:06\n",
      "   --- ------------------------------------ 1.2/14.8 MB 2.6 MB/s eta 0:00:06\n",
      "   --- ------------------------------------ 1.2/14.8 MB 2.6 MB/s eta 0:00:06\n",
      "   --- ------------------------------------ 1.4/14.8 MB 2.7 MB/s eta 0:00:06\n",
      "   ---- ----------------------------------- 1.5/14.8 MB 2.7 MB/s eta 0:00:05\n",
      "   ---- ----------------------------------- 1.6/14.8 MB 2.6 MB/s eta 0:00:05\n",
      "   ---- ----------------------------------- 1.7/14.8 MB 2.6 MB/s eta 0:00:06\n",
      "   ---- ----------------------------------- 1.8/14.8 MB 2.5 MB/s eta 0:00:06\n",
      "   ----- ---------------------------------- 1.9/14.8 MB 2.5 MB/s eta 0:00:06\n",
      "   ----- ---------------------------------- 2.0/14.8 MB 2.5 MB/s eta 0:00:06\n",
      "   ----- ---------------------------------- 2.1/14.8 MB 2.5 MB/s eta 0:00:06\n",
      "   ----- ---------------------------------- 2.2/14.8 MB 2.5 MB/s eta 0:00:06\n",
      "   ------ --------------------------------- 2.3/14.8 MB 2.4 MB/s eta 0:00:06\n",
      "   ------ --------------------------------- 2.4/14.8 MB 2.4 MB/s eta 0:00:06\n",
      "   ------ --------------------------------- 2.5/14.8 MB 2.4 MB/s eta 0:00:06\n",
      "   ------ --------------------------------- 2.5/14.8 MB 2.4 MB/s eta 0:00:06\n",
      "   ------- -------------------------------- 2.6/14.8 MB 2.4 MB/s eta 0:00:06\n",
      "   ------- -------------------------------- 2.7/14.8 MB 2.4 MB/s eta 0:00:06\n",
      "   ------- -------------------------------- 2.8/14.8 MB 2.4 MB/s eta 0:00:06\n",
      "   ------- -------------------------------- 2.9/14.8 MB 2.3 MB/s eta 0:00:06\n",
      "   -------- ------------------------------- 3.0/14.8 MB 2.4 MB/s eta 0:00:05\n",
      "   -------- ------------------------------- 3.1/14.8 MB 2.3 MB/s eta 0:00:05\n",
      "   -------- ------------------------------- 3.2/14.8 MB 2.4 MB/s eta 0:00:05\n",
      "   -------- ------------------------------- 3.3/14.8 MB 2.4 MB/s eta 0:00:05\n",
      "   --------- ------------------------------ 3.4/14.8 MB 2.4 MB/s eta 0:00:05\n",
      "   --------- ------------------------------ 3.5/14.8 MB 2.4 MB/s eta 0:00:05\n",
      "   --------- ------------------------------ 3.7/14.8 MB 2.4 MB/s eta 0:00:05\n",
      "   ---------- ----------------------------- 3.8/14.8 MB 2.4 MB/s eta 0:00:05\n",
      "   ---------- ----------------------------- 3.9/14.8 MB 2.4 MB/s eta 0:00:05\n",
      "   ---------- ----------------------------- 4.0/14.8 MB 2.4 MB/s eta 0:00:05\n",
      "   ---------- ----------------------------- 4.1/14.8 MB 2.4 MB/s eta 0:00:05\n",
      "   ----------- ---------------------------- 4.2/14.8 MB 2.4 MB/s eta 0:00:05\n",
      "   ----------- ---------------------------- 4.3/14.8 MB 2.4 MB/s eta 0:00:05\n",
      "   ----------- ---------------------------- 4.4/14.8 MB 2.4 MB/s eta 0:00:05\n",
      "   ------------ --------------------------- 4.5/14.8 MB 2.4 MB/s eta 0:00:05\n",
      "   ------------ --------------------------- 4.6/14.8 MB 2.4 MB/s eta 0:00:05\n",
      "   ------------ --------------------------- 4.7/14.8 MB 2.4 MB/s eta 0:00:05\n",
      "   ------------- -------------------------- 4.9/14.8 MB 2.4 MB/s eta 0:00:05\n",
      "   ------------- -------------------------- 4.9/14.8 MB 2.4 MB/s eta 0:00:05\n",
      "   ------------- -------------------------- 5.1/14.8 MB 2.4 MB/s eta 0:00:05\n",
      "   ------------- -------------------------- 5.2/14.8 MB 2.4 MB/s eta 0:00:05\n",
      "   -------------- ------------------------- 5.3/14.8 MB 2.4 MB/s eta 0:00:05\n",
      "   -------------- ------------------------- 5.4/14.8 MB 2.4 MB/s eta 0:00:04\n",
      "   -------------- ------------------------- 5.5/14.8 MB 2.4 MB/s eta 0:00:04\n",
      "   --------------- ------------------------ 5.6/14.8 MB 2.4 MB/s eta 0:00:04\n",
      "   --------------- ------------------------ 5.7/14.8 MB 2.4 MB/s eta 0:00:04\n",
      "   --------------- ------------------------ 5.8/14.8 MB 2.4 MB/s eta 0:00:04\n",
      "   ---------------- ----------------------- 5.9/14.8 MB 2.4 MB/s eta 0:00:04\n",
      "   ---------------- ----------------------- 6.1/14.8 MB 2.4 MB/s eta 0:00:04\n",
      "   ---------------- ----------------------- 6.2/14.8 MB 2.4 MB/s eta 0:00:04\n",
      "   ---------------- ----------------------- 6.2/14.8 MB 2.4 MB/s eta 0:00:04\n",
      "   ----------------- ---------------------- 6.4/14.8 MB 2.4 MB/s eta 0:00:04\n",
      "   ----------------- ---------------------- 6.5/14.8 MB 2.4 MB/s eta 0:00:04\n",
      "   ----------------- ---------------------- 6.5/14.8 MB 2.4 MB/s eta 0:00:04\n",
      "   ----------------- ---------------------- 6.6/14.8 MB 2.4 MB/s eta 0:00:04\n",
      "   ------------------ --------------------- 6.7/14.8 MB 2.3 MB/s eta 0:00:04\n",
      "   ------------------ --------------------- 6.8/14.8 MB 2.3 MB/s eta 0:00:04\n",
      "   ------------------ --------------------- 6.9/14.8 MB 2.3 MB/s eta 0:00:04\n",
      "   ------------------ --------------------- 7.0/14.8 MB 2.3 MB/s eta 0:00:04\n",
      "   ------------------- -------------------- 7.1/14.8 MB 2.3 MB/s eta 0:00:04\n",
      "   ------------------- -------------------- 7.1/14.8 MB 2.3 MB/s eta 0:00:04\n",
      "   ------------------- -------------------- 7.2/14.8 MB 2.3 MB/s eta 0:00:04\n",
      "   ------------------- -------------------- 7.3/14.8 MB 2.3 MB/s eta 0:00:04\n",
      "   ------------------- -------------------- 7.4/14.8 MB 2.3 MB/s eta 0:00:04\n",
      "   -------------------- ------------------- 7.5/14.8 MB 2.3 MB/s eta 0:00:04\n",
      "   -------------------- ------------------- 7.6/14.8 MB 2.3 MB/s eta 0:00:04\n",
      "   -------------------- ------------------- 7.7/14.8 MB 2.3 MB/s eta 0:00:04\n",
      "   --------------------- ------------------ 7.8/14.8 MB 2.3 MB/s eta 0:00:04\n",
      "   --------------------- ------------------ 7.9/14.8 MB 2.3 MB/s eta 0:00:04\n",
      "   --------------------- ------------------ 8.0/14.8 MB 2.3 MB/s eta 0:00:03\n",
      "   --------------------- ------------------ 8.1/14.8 MB 2.3 MB/s eta 0:00:03\n",
      "   ---------------------- ----------------- 8.2/14.8 MB 2.3 MB/s eta 0:00:03\n",
      "   ---------------------- ----------------- 8.3/14.8 MB 2.3 MB/s eta 0:00:03\n",
      "   ---------------------- ----------------- 8.3/14.8 MB 2.3 MB/s eta 0:00:03\n",
      "   ---------------------- ----------------- 8.4/14.8 MB 2.3 MB/s eta 0:00:03\n",
      "   ---------------------- ----------------- 8.5/14.8 MB 2.3 MB/s eta 0:00:03\n",
      "   ----------------------- ---------------- 8.5/14.8 MB 2.2 MB/s eta 0:00:03\n",
      "   ----------------------- ---------------- 8.6/14.8 MB 2.2 MB/s eta 0:00:03\n",
      "   ----------------------- ---------------- 8.7/14.8 MB 2.2 MB/s eta 0:00:03\n",
      "   ----------------------- ---------------- 8.8/14.8 MB 2.2 MB/s eta 0:00:03\n",
      "   ------------------------ --------------- 8.9/14.8 MB 2.2 MB/s eta 0:00:03\n",
      "   ------------------------ --------------- 9.0/14.8 MB 2.2 MB/s eta 0:00:03\n",
      "   ------------------------ --------------- 9.1/14.8 MB 2.2 MB/s eta 0:00:03\n",
      "   ------------------------ --------------- 9.2/14.8 MB 2.2 MB/s eta 0:00:03\n",
      "   ------------------------ --------------- 9.2/14.8 MB 2.2 MB/s eta 0:00:03\n",
      "   ------------------------- -------------- 9.3/14.8 MB 2.2 MB/s eta 0:00:03\n",
      "   ------------------------- -------------- 9.5/14.8 MB 2.2 MB/s eta 0:00:03\n",
      "   ------------------------- -------------- 9.6/14.8 MB 2.2 MB/s eta 0:00:03\n",
      "   -------------------------- ------------- 9.7/14.8 MB 2.2 MB/s eta 0:00:03\n",
      "   -------------------------- ------------- 9.8/14.8 MB 2.2 MB/s eta 0:00:03\n",
      "   -------------------------- ------------- 9.9/14.8 MB 2.2 MB/s eta 0:00:03\n",
      "   -------------------------- ------------- 10.0/14.8 MB 2.2 MB/s eta 0:00:03\n",
      "   --------------------------- ------------ 10.0/14.8 MB 2.2 MB/s eta 0:00:03\n",
      "   --------------------------- ------------ 10.1/14.8 MB 2.2 MB/s eta 0:00:03\n",
      "   --------------------------- ------------ 10.2/14.8 MB 2.2 MB/s eta 0:00:03\n",
      "   --------------------------- ------------ 10.3/14.8 MB 2.2 MB/s eta 0:00:03\n",
      "   ---------------------------- ----------- 10.4/14.8 MB 2.2 MB/s eta 0:00:02\n",
      "   ---------------------------- ----------- 10.5/14.8 MB 2.2 MB/s eta 0:00:02\n",
      "   ---------------------------- ----------- 10.6/14.8 MB 2.2 MB/s eta 0:00:02\n",
      "   ---------------------------- ----------- 10.7/14.8 MB 2.2 MB/s eta 0:00:02\n",
      "   ----------------------------- ---------- 10.8/14.8 MB 2.2 MB/s eta 0:00:02\n",
      "   ----------------------------- ---------- 10.9/14.8 MB 2.2 MB/s eta 0:00:02\n",
      "   ----------------------------- ---------- 10.9/14.8 MB 2.2 MB/s eta 0:00:02\n",
      "   ----------------------------- ---------- 11.0/14.8 MB 2.2 MB/s eta 0:00:02\n",
      "   ------------------------------ --------- 11.1/14.8 MB 2.1 MB/s eta 0:00:02\n",
      "   ------------------------------ --------- 11.2/14.8 MB 2.1 MB/s eta 0:00:02\n",
      "   ------------------------------ --------- 11.3/14.8 MB 2.1 MB/s eta 0:00:02\n",
      "   ------------------------------ --------- 11.4/14.8 MB 2.1 MB/s eta 0:00:02\n",
      "   ------------------------------- -------- 11.5/14.8 MB 2.1 MB/s eta 0:00:02\n",
      "   ------------------------------- -------- 11.7/14.8 MB 2.1 MB/s eta 0:00:02\n",
      "   ------------------------------- -------- 11.8/14.8 MB 2.1 MB/s eta 0:00:02\n",
      "   -------------------------------- ------- 11.9/14.8 MB 2.1 MB/s eta 0:00:02\n",
      "   -------------------------------- ------- 12.0/14.8 MB 2.1 MB/s eta 0:00:02\n",
      "   -------------------------------- ------- 12.1/14.8 MB 2.1 MB/s eta 0:00:02\n",
      "   -------------------------------- ------- 12.2/14.8 MB 2.1 MB/s eta 0:00:02\n",
      "   --------------------------------- ------ 12.3/14.8 MB 2.1 MB/s eta 0:00:02\n",
      "   --------------------------------- ------ 12.4/14.8 MB 2.2 MB/s eta 0:00:02\n",
      "   --------------------------------- ------ 12.5/14.8 MB 2.2 MB/s eta 0:00:02\n",
      "   ---------------------------------- ----- 12.7/14.8 MB 2.2 MB/s eta 0:00:01\n",
      "   ---------------------------------- ----- 12.8/14.8 MB 2.2 MB/s eta 0:00:01\n",
      "   ---------------------------------- ----- 12.9/14.8 MB 2.2 MB/s eta 0:00:01\n",
      "   ----------------------------------- ---- 13.0/14.8 MB 2.2 MB/s eta 0:00:01\n",
      "   ----------------------------------- ---- 13.2/14.8 MB 2.2 MB/s eta 0:00:01\n",
      "   ----------------------------------- ---- 13.3/14.8 MB 2.2 MB/s eta 0:00:01\n",
      "   ------------------------------------ --- 13.4/14.8 MB 2.2 MB/s eta 0:00:01\n",
      "   ------------------------------------ --- 13.5/14.8 MB 2.2 MB/s eta 0:00:01\n",
      "   ------------------------------------ --- 13.6/14.8 MB 2.2 MB/s eta 0:00:01\n",
      "   ------------------------------------- -- 13.7/14.8 MB 2.2 MB/s eta 0:00:01\n",
      "   ------------------------------------- -- 13.9/14.8 MB 2.2 MB/s eta 0:00:01\n",
      "   ------------------------------------- -- 14.0/14.8 MB 2.2 MB/s eta 0:00:01\n",
      "   -------------------------------------- - 14.2/14.8 MB 2.2 MB/s eta 0:00:01\n",
      "   -------------------------------------- - 14.3/14.8 MB 2.2 MB/s eta 0:00:01\n",
      "   -------------------------------------- - 14.4/14.8 MB 2.2 MB/s eta 0:00:01\n",
      "   ---------------------------------------  14.6/14.8 MB 2.2 MB/s eta 0:00:01\n",
      "   ---------------------------------------  14.6/14.8 MB 2.2 MB/s eta 0:00:01\n",
      "   ---------------------------------------  14.7/14.8 MB 2.2 MB/s eta 0:00:01\n",
      "   ---------------------------------------  14.8/14.8 MB 2.2 MB/s eta 0:00:01\n",
      "   ---------------------------------------- 14.8/14.8 MB 2.2 MB/s eta 0:00:00\n",
      "Downloading narwhals-1.35.0-py3-none-any.whl (325 kB)\n",
      "   ---------------------------------------- 0.0/325.7 kB ? eta -:--:--\n",
      "   ------------------ --------------------- 153.6/325.7 kB 4.6 MB/s eta 0:00:01\n",
      "   ------------------------------------ --- 297.0/325.7 kB 3.7 MB/s eta 0:00:01\n",
      "   ---------------------------------------- 325.7/325.7 kB 3.4 MB/s eta 0:00:00\n",
      "Installing collected packages: narwhals, plotly\n",
      "Successfully installed narwhals-1.35.0 plotly-6.0.1\n"
     ]
    },
    {
     "name": "stderr",
     "output_type": "stream",
     "text": [
      "\n",
      "[notice] A new release of pip is available: 24.0 -> 25.0.1\n",
      "[notice] To update, run: python.exe -m pip install --upgrade pip\n"
     ]
    }
   ],
   "source": [
    "!pip install plotly"
   ]
  },
  {
   "cell_type": "code",
   "execution_count": 4,
   "id": "b32ae53b",
   "metadata": {},
   "outputs": [
    {
     "data": {
      "application/vnd.plotly.v1+json": {
       "config": {
        "plotlyServerURL": "https://plot.ly"
       },
       "data": [
        {
         "hovertemplate": "age=%{x}<br>fare=%{y}<extra></extra>",
         "legendgroup": "",
         "marker": {
          "color": "#636efa",
          "symbol": "circle"
         },
         "mode": "markers",
         "name": "",
         "orientation": "v",
         "showlegend": false,
         "type": "scatter",
         "x": {
          "bdata": "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",
          "dtype": "f8"
         },
         "xaxis": "x",
         "y": {
          "bdata": "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",
          "dtype": "f8"
         },
         "yaxis": "y"
        }
       ],
       "layout": {
        "legend": {
         "tracegroupgap": 0
        },
        "template": {
         "data": {
          "bar": [
           {
            "error_x": {
             "color": "#2a3f5f"
            },
            "error_y": {
             "color": "#2a3f5f"
            },
            "marker": {
             "line": {
              "color": "#E5ECF6",
              "width": 0.5
             },
             "pattern": {
              "fillmode": "overlay",
              "size": 10,
              "solidity": 0.2
             }
            },
            "type": "bar"
           }
          ],
          "barpolar": [
           {
            "marker": {
             "line": {
              "color": "#E5ECF6",
              "width": 0.5
             },
             "pattern": {
              "fillmode": "overlay",
              "size": 10,
              "solidity": 0.2
             }
            },
            "type": "barpolar"
           }
          ],
          "carpet": [
           {
            "aaxis": {
             "endlinecolor": "#2a3f5f",
             "gridcolor": "white",
             "linecolor": "white",
             "minorgridcolor": "white",
             "startlinecolor": "#2a3f5f"
            },
            "baxis": {
             "endlinecolor": "#2a3f5f",
             "gridcolor": "white",
             "linecolor": "white",
             "minorgridcolor": "white",
             "startlinecolor": "#2a3f5f"
            },
            "type": "carpet"
           }
          ],
          "choropleth": [
           {
            "colorbar": {
             "outlinewidth": 0,
             "ticks": ""
            },
            "type": "choropleth"
           }
          ],
          "contour": [
           {
            "colorbar": {
             "outlinewidth": 0,
             "ticks": ""
            },
            "colorscale": [
             [
              0,
              "#0d0887"
             ],
             [
              0.1111111111111111,
              "#46039f"
             ],
             [
              0.2222222222222222,
              "#7201a8"
             ],
             [
              0.3333333333333333,
              "#9c179e"
             ],
             [
              0.4444444444444444,
              "#bd3786"
             ],
             [
              0.5555555555555556,
              "#d8576b"
             ],
             [
              0.6666666666666666,
              "#ed7953"
             ],
             [
              0.7777777777777778,
              "#fb9f3a"
             ],
             [
              0.8888888888888888,
              "#fdca26"
             ],
             [
              1,
              "#f0f921"
             ]
            ],
            "type": "contour"
           }
          ],
          "contourcarpet": [
           {
            "colorbar": {
             "outlinewidth": 0,
             "ticks": ""
            },
            "type": "contourcarpet"
           }
          ],
          "heatmap": [
           {
            "colorbar": {
             "outlinewidth": 0,
             "ticks": ""
            },
            "colorscale": [
             [
              0,
              "#0d0887"
             ],
             [
              0.1111111111111111,
              "#46039f"
             ],
             [
              0.2222222222222222,
              "#7201a8"
             ],
             [
              0.3333333333333333,
              "#9c179e"
             ],
             [
              0.4444444444444444,
              "#bd3786"
             ],
             [
              0.5555555555555556,
              "#d8576b"
             ],
             [
              0.6666666666666666,
              "#ed7953"
             ],
             [
              0.7777777777777778,
              "#fb9f3a"
             ],
             [
              0.8888888888888888,
              "#fdca26"
             ],
             [
              1,
              "#f0f921"
             ]
            ],
            "type": "heatmap"
           }
          ],
          "histogram": [
           {
            "marker": {
             "pattern": {
              "fillmode": "overlay",
              "size": 10,
              "solidity": 0.2
             }
            },
            "type": "histogram"
           }
          ],
          "histogram2d": [
           {
            "colorbar": {
             "outlinewidth": 0,
             "ticks": ""
            },
            "colorscale": [
             [
              0,
              "#0d0887"
             ],
             [
              0.1111111111111111,
              "#46039f"
             ],
             [
              0.2222222222222222,
              "#7201a8"
             ],
             [
              0.3333333333333333,
              "#9c179e"
             ],
             [
              0.4444444444444444,
              "#bd3786"
             ],
             [
              0.5555555555555556,
              "#d8576b"
             ],
             [
              0.6666666666666666,
              "#ed7953"
             ],
             [
              0.7777777777777778,
              "#fb9f3a"
             ],
             [
              0.8888888888888888,
              "#fdca26"
             ],
             [
              1,
              "#f0f921"
             ]
            ],
            "type": "histogram2d"
           }
          ],
          "histogram2dcontour": [
           {
            "colorbar": {
             "outlinewidth": 0,
             "ticks": ""
            },
            "colorscale": [
             [
              0,
              "#0d0887"
             ],
             [
              0.1111111111111111,
              "#46039f"
             ],
             [
              0.2222222222222222,
              "#7201a8"
             ],
             [
              0.3333333333333333,
              "#9c179e"
             ],
             [
              0.4444444444444444,
              "#bd3786"
             ],
             [
              0.5555555555555556,
              "#d8576b"
             ],
             [
              0.6666666666666666,
              "#ed7953"
             ],
             [
              0.7777777777777778,
              "#fb9f3a"
             ],
             [
              0.8888888888888888,
              "#fdca26"
             ],
             [
              1,
              "#f0f921"
             ]
            ],
            "type": "histogram2dcontour"
           }
          ],
          "mesh3d": [
           {
            "colorbar": {
             "outlinewidth": 0,
             "ticks": ""
            },
            "type": "mesh3d"
           }
          ],
          "parcoords": [
           {
            "line": {
             "colorbar": {
              "outlinewidth": 0,
              "ticks": ""
             }
            },
            "type": "parcoords"
           }
          ],
          "pie": [
           {
            "automargin": true,
            "type": "pie"
           }
          ],
          "scatter": [
           {
            "fillpattern": {
             "fillmode": "overlay",
             "size": 10,
             "solidity": 0.2
            },
            "type": "scatter"
           }
          ],
          "scatter3d": [
           {
            "line": {
             "colorbar": {
              "outlinewidth": 0,
              "ticks": ""
             }
            },
            "marker": {
             "colorbar": {
              "outlinewidth": 0,
              "ticks": ""
             }
            },
            "type": "scatter3d"
           }
          ],
          "scattercarpet": [
           {
            "marker": {
             "colorbar": {
              "outlinewidth": 0,
              "ticks": ""
             }
            },
            "type": "scattercarpet"
           }
          ],
          "scattergeo": [
           {
            "marker": {
             "colorbar": {
              "outlinewidth": 0,
              "ticks": ""
             }
            },
            "type": "scattergeo"
           }
          ],
          "scattergl": [
           {
            "marker": {
             "colorbar": {
              "outlinewidth": 0,
              "ticks": ""
             }
            },
            "type": "scattergl"
           }
          ],
          "scattermap": [
           {
            "marker": {
             "colorbar": {
              "outlinewidth": 0,
              "ticks": ""
             }
            },
            "type": "scattermap"
           }
          ],
          "scattermapbox": [
           {
            "marker": {
             "colorbar": {
              "outlinewidth": 0,
              "ticks": ""
             }
            },
            "type": "scattermapbox"
           }
          ],
          "scatterpolar": [
           {
            "marker": {
             "colorbar": {
              "outlinewidth": 0,
              "ticks": ""
             }
            },
            "type": "scatterpolar"
           }
          ],
          "scatterpolargl": [
           {
            "marker": {
             "colorbar": {
              "outlinewidth": 0,
              "ticks": ""
             }
            },
            "type": "scatterpolargl"
           }
          ],
          "scatterternary": [
           {
            "marker": {
             "colorbar": {
              "outlinewidth": 0,
              "ticks": ""
             }
            },
            "type": "scatterternary"
           }
          ],
          "surface": [
           {
            "colorbar": {
             "outlinewidth": 0,
             "ticks": ""
            },
            "colorscale": [
             [
              0,
              "#0d0887"
             ],
             [
              0.1111111111111111,
              "#46039f"
             ],
             [
              0.2222222222222222,
              "#7201a8"
             ],
             [
              0.3333333333333333,
              "#9c179e"
             ],
             [
              0.4444444444444444,
              "#bd3786"
             ],
             [
              0.5555555555555556,
              "#d8576b"
             ],
             [
              0.6666666666666666,
              "#ed7953"
             ],
             [
              0.7777777777777778,
              "#fb9f3a"
             ],
             [
              0.8888888888888888,
              "#fdca26"
             ],
             [
              1,
              "#f0f921"
             ]
            ],
            "type": "surface"
           }
          ],
          "table": [
           {
            "cells": {
             "fill": {
              "color": "#EBF0F8"
             },
             "line": {
              "color": "white"
             }
            },
            "header": {
             "fill": {
              "color": "#C8D4E3"
             },
             "line": {
              "color": "white"
             }
            },
            "type": "table"
           }
          ]
         },
         "layout": {
          "annotationdefaults": {
           "arrowcolor": "#2a3f5f",
           "arrowhead": 0,
           "arrowwidth": 1
          },
          "autotypenumbers": "strict",
          "coloraxis": {
           "colorbar": {
            "outlinewidth": 0,
            "ticks": ""
           }
          },
          "colorscale": {
           "diverging": [
            [
             0,
             "#8e0152"
            ],
            [
             0.1,
             "#c51b7d"
            ],
            [
             0.2,
             "#de77ae"
            ],
            [
             0.3,
             "#f1b6da"
            ],
            [
             0.4,
             "#fde0ef"
            ],
            [
             0.5,
             "#f7f7f7"
            ],
            [
             0.6,
             "#e6f5d0"
            ],
            [
             0.7,
             "#b8e186"
            ],
            [
             0.8,
             "#7fbc41"
            ],
            [
             0.9,
             "#4d9221"
            ],
            [
             1,
             "#276419"
            ]
           ],
           "sequential": [
            [
             0,
             "#0d0887"
            ],
            [
             0.1111111111111111,
             "#46039f"
            ],
            [
             0.2222222222222222,
             "#7201a8"
            ],
            [
             0.3333333333333333,
             "#9c179e"
            ],
            [
             0.4444444444444444,
             "#bd3786"
            ],
            [
             0.5555555555555556,
             "#d8576b"
            ],
            [
             0.6666666666666666,
             "#ed7953"
            ],
            [
             0.7777777777777778,
             "#fb9f3a"
            ],
            [
             0.8888888888888888,
             "#fdca26"
            ],
            [
             1,
             "#f0f921"
            ]
           ],
           "sequentialminus": [
            [
             0,
             "#0d0887"
            ],
            [
             0.1111111111111111,
             "#46039f"
            ],
            [
             0.2222222222222222,
             "#7201a8"
            ],
            [
             0.3333333333333333,
             "#9c179e"
            ],
            [
             0.4444444444444444,
             "#bd3786"
            ],
            [
             0.5555555555555556,
             "#d8576b"
            ],
            [
             0.6666666666666666,
             "#ed7953"
            ],
            [
             0.7777777777777778,
             "#fb9f3a"
            ],
            [
             0.8888888888888888,
             "#fdca26"
            ],
            [
             1,
             "#f0f921"
            ]
           ]
          },
          "colorway": [
           "#636efa",
           "#EF553B",
           "#00cc96",
           "#ab63fa",
           "#FFA15A",
           "#19d3f3",
           "#FF6692",
           "#B6E880",
           "#FF97FF",
           "#FECB52"
          ],
          "font": {
           "color": "#2a3f5f"
          },
          "geo": {
           "bgcolor": "white",
           "lakecolor": "white",
           "landcolor": "#E5ECF6",
           "showlakes": true,
           "showland": true,
           "subunitcolor": "white"
          },
          "hoverlabel": {
           "align": "left"
          },
          "hovermode": "closest",
          "mapbox": {
           "style": "light"
          },
          "paper_bgcolor": "white",
          "plot_bgcolor": "#E5ECF6",
          "polar": {
           "angularaxis": {
            "gridcolor": "white",
            "linecolor": "white",
            "ticks": ""
           },
           "bgcolor": "#E5ECF6",
           "radialaxis": {
            "gridcolor": "white",
            "linecolor": "white",
            "ticks": ""
           }
          },
          "scene": {
           "xaxis": {
            "backgroundcolor": "#E5ECF6",
            "gridcolor": "white",
            "gridwidth": 2,
            "linecolor": "white",
            "showbackground": true,
            "ticks": "",
            "zerolinecolor": "white"
           },
           "yaxis": {
            "backgroundcolor": "#E5ECF6",
            "gridcolor": "white",
            "gridwidth": 2,
            "linecolor": "white",
            "showbackground": true,
            "ticks": "",
            "zerolinecolor": "white"
           },
           "zaxis": {
            "backgroundcolor": "#E5ECF6",
            "gridcolor": "white",
            "gridwidth": 2,
            "linecolor": "white",
            "showbackground": true,
            "ticks": "",
            "zerolinecolor": "white"
           }
          },
          "shapedefaults": {
           "line": {
            "color": "#2a3f5f"
           }
          },
          "ternary": {
           "aaxis": {
            "gridcolor": "white",
            "linecolor": "white",
            "ticks": ""
           },
           "baxis": {
            "gridcolor": "white",
            "linecolor": "white",
            "ticks": ""
           },
           "bgcolor": "#E5ECF6",
           "caxis": {
            "gridcolor": "white",
            "linecolor": "white",
            "ticks": ""
           }
          },
          "title": {
           "x": 0.05
          },
          "xaxis": {
           "automargin": true,
           "gridcolor": "white",
           "linecolor": "white",
           "ticks": "",
           "title": {
            "standoff": 15
           },
           "zerolinecolor": "white",
           "zerolinewidth": 2
          },
          "yaxis": {
           "automargin": true,
           "gridcolor": "white",
           "linecolor": "white",
           "ticks": "",
           "title": {
            "standoff": 15
           },
           "zerolinecolor": "white",
           "zerolinewidth": 2
          }
         }
        },
        "title": {
         "text": "Titanic Dataset: Age vs. Fare",
         "x": 0.5,
         "xanchor": "center",
         "y": 0.95,
         "yanchor": "top"
        },
        "xaxis": {
         "anchor": "y",
         "domain": [
          0,
          1
         ],
         "title": {
          "text": "age"
         }
        },
        "yaxis": {
         "anchor": "x",
         "domain": [
          0,
          1
         ],
         "title": {
          "text": "fare"
         }
        }
       }
      }
     },
     "metadata": {},
     "output_type": "display_data"
    }
   ],
   "source": [
    "import plotly.express as px\n",
    "# Plot a scatter plot for \"age\" and \"fare\" columns using Plotly express\n",
    "fig = px.scatter(titanic, \n",
    "                 x=\"age\",\n",
    "                 y=\"fare\", \n",
    "                 title=\"Titanic Dataset: Age vs. Fare\")\n",
    "\n",
    "# Update the layout to center the title above the plot\n",
    "fig.update_layout(\n",
    "    title={\n",
    "        'text': \"Titanic Dataset: Age vs. Fare\",\n",
    "        'y':0.95,\n",
    "        'x':0.5,\n",
    "        'xanchor': 'center',\n",
    "        'yanchor': 'top'})\n",
    "\n",
    "fig.show()"
   ]
  },
  {
   "cell_type": "markdown",
   "id": "313a97db",
   "metadata": {},
   "source": [
    "Question 2: Using the tips dataset in the Plotly library, plot a box plot using Plotly express\n",
    "\n",
    "Answer :\n",
    "\n",
    "Importing tips dataset from plotly express"
   ]
  },
  {
   "cell_type": "markdown",
   "id": "de9234a5",
   "metadata": {},
   "source": []
  },
  {
   "cell_type": "code",
   "execution_count": 5,
   "id": "c7f72c60",
   "metadata": {},
   "outputs": [
    {
     "data": {
      "text/html": [
       "<div>\n",
       "<style scoped>\n",
       "    .dataframe tbody tr th:only-of-type {\n",
       "        vertical-align: middle;\n",
       "    }\n",
       "\n",
       "    .dataframe tbody tr th {\n",
       "        vertical-align: top;\n",
       "    }\n",
       "\n",
       "    .dataframe thead th {\n",
       "        text-align: right;\n",
       "    }\n",
       "</style>\n",
       "<table border=\"1\" class=\"dataframe\">\n",
       "  <thead>\n",
       "    <tr style=\"text-align: right;\">\n",
       "      <th></th>\n",
       "      <th>total_bill</th>\n",
       "      <th>tip</th>\n",
       "      <th>sex</th>\n",
       "      <th>smoker</th>\n",
       "      <th>day</th>\n",
       "      <th>time</th>\n",
       "      <th>size</th>\n",
       "    </tr>\n",
       "  </thead>\n",
       "  <tbody>\n",
       "    <tr>\n",
       "      <th>0</th>\n",
       "      <td>16.99</td>\n",
       "      <td>1.01</td>\n",
       "      <td>Female</td>\n",
       "      <td>No</td>\n",
       "      <td>Sun</td>\n",
       "      <td>Dinner</td>\n",
       "      <td>2</td>\n",
       "    </tr>\n",
       "    <tr>\n",
       "      <th>1</th>\n",
       "      <td>10.34</td>\n",
       "      <td>1.66</td>\n",
       "      <td>Male</td>\n",
       "      <td>No</td>\n",
       "      <td>Sun</td>\n",
       "      <td>Dinner</td>\n",
       "      <td>3</td>\n",
       "    </tr>\n",
       "    <tr>\n",
       "      <th>2</th>\n",
       "      <td>21.01</td>\n",
       "      <td>3.50</td>\n",
       "      <td>Male</td>\n",
       "      <td>No</td>\n",
       "      <td>Sun</td>\n",
       "      <td>Dinner</td>\n",
       "      <td>3</td>\n",
       "    </tr>\n",
       "    <tr>\n",
       "      <th>3</th>\n",
       "      <td>23.68</td>\n",
       "      <td>3.31</td>\n",
       "      <td>Male</td>\n",
       "      <td>No</td>\n",
       "      <td>Sun</td>\n",
       "      <td>Dinner</td>\n",
       "      <td>2</td>\n",
       "    </tr>\n",
       "    <tr>\n",
       "      <th>4</th>\n",
       "      <td>24.59</td>\n",
       "      <td>3.61</td>\n",
       "      <td>Female</td>\n",
       "      <td>No</td>\n",
       "      <td>Sun</td>\n",
       "      <td>Dinner</td>\n",
       "      <td>4</td>\n",
       "    </tr>\n",
       "  </tbody>\n",
       "</table>\n",
       "</div>"
      ],
      "text/plain": [
       "   total_bill   tip     sex smoker  day    time  size\n",
       "0       16.99  1.01  Female     No  Sun  Dinner     2\n",
       "1       10.34  1.66    Male     No  Sun  Dinner     3\n",
       "2       21.01  3.50    Male     No  Sun  Dinner     3\n",
       "3       23.68  3.31    Male     No  Sun  Dinner     2\n",
       "4       24.59  3.61  Female     No  Sun  Dinner     4"
      ]
     },
     "execution_count": 5,
     "metadata": {},
     "output_type": "execute_result"
    }
   ],
   "source": [
    "import plotly.express as px\n",
    "tips = px.data.tips()\n",
    "tips.head()"
   ]
  },
  {
   "cell_type": "markdown",
   "id": "bf16a016",
   "metadata": {},
   "source": [
    "\n",
    "Plotting Boxplot"
   ]
  },
  {
   "cell_type": "code",
   "execution_count": 6,
   "id": "69eb3b19",
   "metadata": {},
   "outputs": [
    {
     "data": {
      "application/vnd.plotly.v1+json": {
       "config": {
        "plotlyServerURL": "https://plot.ly"
       },
       "data": [
        {
         "alignmentgroup": "True",
         "hovertemplate": "day=%{x}<br>total_bill=%{y}<extra></extra>",
         "legendgroup": "",
         "marker": {
          "color": "#636efa"
         },
         "name": "",
         "notched": false,
         "offsetgroup": "",
         "orientation": "v",
         "showlegend": false,
         "type": "box",
         "x": [
          "Sun",
          "Sun",
          "Sun",
          "Sun",
          "Sun",
          "Sun",
          "Sun",
          "Sun",
          "Sun",
          "Sun",
          "Sun",
          "Sun",
          "Sun",
          "Sun",
          "Sun",
          "Sun",
          "Sun",
          "Sun",
          "Sun",
          "Sat",
          "Sat",
          "Sat",
          "Sat",
          "Sat",
          "Sat",
          "Sat",
          "Sat",
          "Sat",
          "Sat",
          "Sat",
          "Sat",
          "Sat",
          "Sat",
          "Sat",
          "Sat",
          "Sat",
          "Sat",
          "Sat",
          "Sat",
          "Sat",
          "Sat",
          "Sun",
          "Sun",
          "Sun",
          "Sun",
          "Sun",
          "Sun",
          "Sun",
          "Sun",
          "Sun",
          "Sun",
          "Sun",
          "Sun",
          "Sun",
          "Sun",
          "Sun",
          "Sat",
          "Sat",
          "Sat",
          "Sat",
          "Sat",
          "Sat",
          "Sat",
          "Sat",
          "Sat",
          "Sat",
          "Sat",
          "Sat",
          "Sat",
          "Sat",
          "Sat",
          "Sat",
          "Sat",
          "Sat",
          "Sat",
          "Sat",
          "Sat",
          "Thur",
          "Thur",
          "Thur",
          "Thur",
          "Thur",
          "Thur",
          "Thur",
          "Thur",
          "Thur",
          "Thur",
          "Thur",
          "Thur",
          "Thur",
          "Fri",
          "Fri",
          "Fri",
          "Fri",
          "Fri",
          "Fri",
          "Fri",
          "Fri",
          "Fri",
          "Fri",
          "Fri",
          "Fri",
          "Sat",
          "Sat",
          "Sat",
          "Sat",
          "Sat",
          "Sat",
          "Sat",
          "Sat",
          "Sat",
          "Sat",
          "Sun",
          "Sun",
          "Sun",
          "Sun",
          "Sun",
          "Thur",
          "Thur",
          "Thur",
          "Thur",
          "Thur",
          "Thur",
          "Thur",
          "Thur",
          "Thur",
          "Thur",
          "Thur",
          "Thur",
          "Thur",
          "Thur",
          "Thur",
          "Thur",
          "Thur",
          "Thur",
          "Thur",
          "Thur",
          "Thur",
          "Thur",
          "Thur",
          "Thur",
          "Thur",
          "Thur",
          "Thur",
          "Thur",
          "Thur",
          "Thur",
          "Thur",
          "Thur",
          "Thur",
          "Sun",
          "Sun",
          "Sun",
          "Sun",
          "Sun",
          "Sun",
          "Sun",
          "Sun",
          "Sun",
          "Sun",
          "Sun",
          "Sun",
          "Sun",
          "Sun",
          "Sun",
          "Sun",
          "Sun",
          "Sun",
          "Sat",
          "Sat",
          "Sat",
          "Sat",
          "Sun",
          "Sun",
          "Sun",
          "Sun",
          "Sun",
          "Sun",
          "Sun",
          "Sun",
          "Sun",
          "Sun",
          "Sun",
          "Sun",
          "Sun",
          "Sun",
          "Sun",
          "Sun",
          "Sun",
          "Sun",
          "Sun",
          "Thur",
          "Thur",
          "Thur",
          "Thur",
          "Thur",
          "Thur",
          "Thur",
          "Thur",
          "Thur",
          "Thur",
          "Thur",
          "Thur",
          "Thur",
          "Thur",
          "Thur",
          "Sat",
          "Sat",
          "Sat",
          "Sat",
          "Sat",
          "Sat",
          "Sat",
          "Sat",
          "Sat",
          "Sat",
          "Sat",
          "Sat",
          "Sat",
          "Sat",
          "Fri",
          "Fri",
          "Fri",
          "Fri",
          "Fri",
          "Fri",
          "Fri",
          "Sat",
          "Sat",
          "Sat",
          "Sat",
          "Sat",
          "Sat",
          "Sat",
          "Sat",
          "Sat",
          "Sat",
          "Sat",
          "Sat",
          "Sat",
          "Sat",
          "Sat",
          "Sat",
          "Thur"
         ],
         "x0": " ",
         "xaxis": "x",
         "y": {
          "bdata": "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",
          "dtype": "f8"
         },
         "y0": " ",
         "yaxis": "y"
        }
       ],
       "layout": {
        "boxmode": "group",
        "legend": {
         "tracegroupgap": 0
        },
        "template": {
         "data": {
          "bar": [
           {
            "error_x": {
             "color": "#2a3f5f"
            },
            "error_y": {
             "color": "#2a3f5f"
            },
            "marker": {
             "line": {
              "color": "#E5ECF6",
              "width": 0.5
             },
             "pattern": {
              "fillmode": "overlay",
              "size": 10,
              "solidity": 0.2
             }
            },
            "type": "bar"
           }
          ],
          "barpolar": [
           {
            "marker": {
             "line": {
              "color": "#E5ECF6",
              "width": 0.5
             },
             "pattern": {
              "fillmode": "overlay",
              "size": 10,
              "solidity": 0.2
             }
            },
            "type": "barpolar"
           }
          ],
          "carpet": [
           {
            "aaxis": {
             "endlinecolor": "#2a3f5f",
             "gridcolor": "white",
             "linecolor": "white",
             "minorgridcolor": "white",
             "startlinecolor": "#2a3f5f"
            },
            "baxis": {
             "endlinecolor": "#2a3f5f",
             "gridcolor": "white",
             "linecolor": "white",
             "minorgridcolor": "white",
             "startlinecolor": "#2a3f5f"
            },
            "type": "carpet"
           }
          ],
          "choropleth": [
           {
            "colorbar": {
             "outlinewidth": 0,
             "ticks": ""
            },
            "type": "choropleth"
           }
          ],
          "contour": [
           {
            "colorbar": {
             "outlinewidth": 0,
             "ticks": ""
            },
            "colorscale": [
             [
              0,
              "#0d0887"
             ],
             [
              0.1111111111111111,
              "#46039f"
             ],
             [
              0.2222222222222222,
              "#7201a8"
             ],
             [
              0.3333333333333333,
              "#9c179e"
             ],
             [
              0.4444444444444444,
              "#bd3786"
             ],
             [
              0.5555555555555556,
              "#d8576b"
             ],
             [
              0.6666666666666666,
              "#ed7953"
             ],
             [
              0.7777777777777778,
              "#fb9f3a"
             ],
             [
              0.8888888888888888,
              "#fdca26"
             ],
             [
              1,
              "#f0f921"
             ]
            ],
            "type": "contour"
           }
          ],
          "contourcarpet": [
           {
            "colorbar": {
             "outlinewidth": 0,
             "ticks": ""
            },
            "type": "contourcarpet"
           }
          ],
          "heatmap": [
           {
            "colorbar": {
             "outlinewidth": 0,
             "ticks": ""
            },
            "colorscale": [
             [
              0,
              "#0d0887"
             ],
             [
              0.1111111111111111,
              "#46039f"
             ],
             [
              0.2222222222222222,
              "#7201a8"
             ],
             [
              0.3333333333333333,
              "#9c179e"
             ],
             [
              0.4444444444444444,
              "#bd3786"
             ],
             [
              0.5555555555555556,
              "#d8576b"
             ],
             [
              0.6666666666666666,
              "#ed7953"
             ],
             [
              0.7777777777777778,
              "#fb9f3a"
             ],
             [
              0.8888888888888888,
              "#fdca26"
             ],
             [
              1,
              "#f0f921"
             ]
            ],
            "type": "heatmap"
           }
          ],
          "histogram": [
           {
            "marker": {
             "pattern": {
              "fillmode": "overlay",
              "size": 10,
              "solidity": 0.2
             }
            },
            "type": "histogram"
           }
          ],
          "histogram2d": [
           {
            "colorbar": {
             "outlinewidth": 0,
             "ticks": ""
            },
            "colorscale": [
             [
              0,
              "#0d0887"
             ],
             [
              0.1111111111111111,
              "#46039f"
             ],
             [
              0.2222222222222222,
              "#7201a8"
             ],
             [
              0.3333333333333333,
              "#9c179e"
             ],
             [
              0.4444444444444444,
              "#bd3786"
             ],
             [
              0.5555555555555556,
              "#d8576b"
             ],
             [
              0.6666666666666666,
              "#ed7953"
             ],
             [
              0.7777777777777778,
              "#fb9f3a"
             ],
             [
              0.8888888888888888,
              "#fdca26"
             ],
             [
              1,
              "#f0f921"
             ]
            ],
            "type": "histogram2d"
           }
          ],
          "histogram2dcontour": [
           {
            "colorbar": {
             "outlinewidth": 0,
             "ticks": ""
            },
            "colorscale": [
             [
              0,
              "#0d0887"
             ],
             [
              0.1111111111111111,
              "#46039f"
             ],
             [
              0.2222222222222222,
              "#7201a8"
             ],
             [
              0.3333333333333333,
              "#9c179e"
             ],
             [
              0.4444444444444444,
              "#bd3786"
             ],
             [
              0.5555555555555556,
              "#d8576b"
             ],
             [
              0.6666666666666666,
              "#ed7953"
             ],
             [
              0.7777777777777778,
              "#fb9f3a"
             ],
             [
              0.8888888888888888,
              "#fdca26"
             ],
             [
              1,
              "#f0f921"
             ]
            ],
            "type": "histogram2dcontour"
           }
          ],
          "mesh3d": [
           {
            "colorbar": {
             "outlinewidth": 0,
             "ticks": ""
            },
            "type": "mesh3d"
           }
          ],
          "parcoords": [
           {
            "line": {
             "colorbar": {
              "outlinewidth": 0,
              "ticks": ""
             }
            },
            "type": "parcoords"
           }
          ],
          "pie": [
           {
            "automargin": true,
            "type": "pie"
           }
          ],
          "scatter": [
           {
            "fillpattern": {
             "fillmode": "overlay",
             "size": 10,
             "solidity": 0.2
            },
            "type": "scatter"
           }
          ],
          "scatter3d": [
           {
            "line": {
             "colorbar": {
              "outlinewidth": 0,
              "ticks": ""
             }
            },
            "marker": {
             "colorbar": {
              "outlinewidth": 0,
              "ticks": ""
             }
            },
            "type": "scatter3d"
           }
          ],
          "scattercarpet": [
           {
            "marker": {
             "colorbar": {
              "outlinewidth": 0,
              "ticks": ""
             }
            },
            "type": "scattercarpet"
           }
          ],
          "scattergeo": [
           {
            "marker": {
             "colorbar": {
              "outlinewidth": 0,
              "ticks": ""
             }
            },
            "type": "scattergeo"
           }
          ],
          "scattergl": [
           {
            "marker": {
             "colorbar": {
              "outlinewidth": 0,
              "ticks": ""
             }
            },
            "type": "scattergl"
           }
          ],
          "scattermap": [
           {
            "marker": {
             "colorbar": {
              "outlinewidth": 0,
              "ticks": ""
             }
            },
            "type": "scattermap"
           }
          ],
          "scattermapbox": [
           {
            "marker": {
             "colorbar": {
              "outlinewidth": 0,
              "ticks": ""
             }
            },
            "type": "scattermapbox"
           }
          ],
          "scatterpolar": [
           {
            "marker": {
             "colorbar": {
              "outlinewidth": 0,
              "ticks": ""
             }
            },
            "type": "scatterpolar"
           }
          ],
          "scatterpolargl": [
           {
            "marker": {
             "colorbar": {
              "outlinewidth": 0,
              "ticks": ""
             }
            },
            "type": "scatterpolargl"
           }
          ],
          "scatterternary": [
           {
            "marker": {
             "colorbar": {
              "outlinewidth": 0,
              "ticks": ""
             }
            },
            "type": "scatterternary"
           }
          ],
          "surface": [
           {
            "colorbar": {
             "outlinewidth": 0,
             "ticks": ""
            },
            "colorscale": [
             [
              0,
              "#0d0887"
             ],
             [
              0.1111111111111111,
              "#46039f"
             ],
             [
              0.2222222222222222,
              "#7201a8"
             ],
             [
              0.3333333333333333,
              "#9c179e"
             ],
             [
              0.4444444444444444,
              "#bd3786"
             ],
             [
              0.5555555555555556,
              "#d8576b"
             ],
             [
              0.6666666666666666,
              "#ed7953"
             ],
             [
              0.7777777777777778,
              "#fb9f3a"
             ],
             [
              0.8888888888888888,
              "#fdca26"
             ],
             [
              1,
              "#f0f921"
             ]
            ],
            "type": "surface"
           }
          ],
          "table": [
           {
            "cells": {
             "fill": {
              "color": "#EBF0F8"
             },
             "line": {
              "color": "white"
             }
            },
            "header": {
             "fill": {
              "color": "#C8D4E3"
             },
             "line": {
              "color": "white"
             }
            },
            "type": "table"
           }
          ]
         },
         "layout": {
          "annotationdefaults": {
           "arrowcolor": "#2a3f5f",
           "arrowhead": 0,
           "arrowwidth": 1
          },
          "autotypenumbers": "strict",
          "coloraxis": {
           "colorbar": {
            "outlinewidth": 0,
            "ticks": ""
           }
          },
          "colorscale": {
           "diverging": [
            [
             0,
             "#8e0152"
            ],
            [
             0.1,
             "#c51b7d"
            ],
            [
             0.2,
             "#de77ae"
            ],
            [
             0.3,
             "#f1b6da"
            ],
            [
             0.4,
             "#fde0ef"
            ],
            [
             0.5,
             "#f7f7f7"
            ],
            [
             0.6,
             "#e6f5d0"
            ],
            [
             0.7,
             "#b8e186"
            ],
            [
             0.8,
             "#7fbc41"
            ],
            [
             0.9,
             "#4d9221"
            ],
            [
             1,
             "#276419"
            ]
           ],
           "sequential": [
            [
             0,
             "#0d0887"
            ],
            [
             0.1111111111111111,
             "#46039f"
            ],
            [
             0.2222222222222222,
             "#7201a8"
            ],
            [
             0.3333333333333333,
             "#9c179e"
            ],
            [
             0.4444444444444444,
             "#bd3786"
            ],
            [
             0.5555555555555556,
             "#d8576b"
            ],
            [
             0.6666666666666666,
             "#ed7953"
            ],
            [
             0.7777777777777778,
             "#fb9f3a"
            ],
            [
             0.8888888888888888,
             "#fdca26"
            ],
            [
             1,
             "#f0f921"
            ]
           ],
           "sequentialminus": [
            [
             0,
             "#0d0887"
            ],
            [
             0.1111111111111111,
             "#46039f"
            ],
            [
             0.2222222222222222,
             "#7201a8"
            ],
            [
             0.3333333333333333,
             "#9c179e"
            ],
            [
             0.4444444444444444,
             "#bd3786"
            ],
            [
             0.5555555555555556,
             "#d8576b"
            ],
            [
             0.6666666666666666,
             "#ed7953"
            ],
            [
             0.7777777777777778,
             "#fb9f3a"
            ],
            [
             0.8888888888888888,
             "#fdca26"
            ],
            [
             1,
             "#f0f921"
            ]
           ]
          },
          "colorway": [
           "#636efa",
           "#EF553B",
           "#00cc96",
           "#ab63fa",
           "#FFA15A",
           "#19d3f3",
           "#FF6692",
           "#B6E880",
           "#FF97FF",
           "#FECB52"
          ],
          "font": {
           "color": "#2a3f5f"
          },
          "geo": {
           "bgcolor": "white",
           "lakecolor": "white",
           "landcolor": "#E5ECF6",
           "showlakes": true,
           "showland": true,
           "subunitcolor": "white"
          },
          "hoverlabel": {
           "align": "left"
          },
          "hovermode": "closest",
          "mapbox": {
           "style": "light"
          },
          "paper_bgcolor": "white",
          "plot_bgcolor": "#E5ECF6",
          "polar": {
           "angularaxis": {
            "gridcolor": "white",
            "linecolor": "white",
            "ticks": ""
           },
           "bgcolor": "#E5ECF6",
           "radialaxis": {
            "gridcolor": "white",
            "linecolor": "white",
            "ticks": ""
           }
          },
          "scene": {
           "xaxis": {
            "backgroundcolor": "#E5ECF6",
            "gridcolor": "white",
            "gridwidth": 2,
            "linecolor": "white",
            "showbackground": true,
            "ticks": "",
            "zerolinecolor": "white"
           },
           "yaxis": {
            "backgroundcolor": "#E5ECF6",
            "gridcolor": "white",
            "gridwidth": 2,
            "linecolor": "white",
            "showbackground": true,
            "ticks": "",
            "zerolinecolor": "white"
           },
           "zaxis": {
            "backgroundcolor": "#E5ECF6",
            "gridcolor": "white",
            "gridwidth": 2,
            "linecolor": "white",
            "showbackground": true,
            "ticks": "",
            "zerolinecolor": "white"
           }
          },
          "shapedefaults": {
           "line": {
            "color": "#2a3f5f"
           }
          },
          "ternary": {
           "aaxis": {
            "gridcolor": "white",
            "linecolor": "white",
            "ticks": ""
           },
           "baxis": {
            "gridcolor": "white",
            "linecolor": "white",
            "ticks": ""
           },
           "bgcolor": "#E5ECF6",
           "caxis": {
            "gridcolor": "white",
            "linecolor": "white",
            "ticks": ""
           }
          },
          "title": {
           "x": 0.05
          },
          "xaxis": {
           "automargin": true,
           "gridcolor": "white",
           "linecolor": "white",
           "ticks": "",
           "title": {
            "standoff": 15
           },
           "zerolinecolor": "white",
           "zerolinewidth": 2
          },
          "yaxis": {
           "automargin": true,
           "gridcolor": "white",
           "linecolor": "white",
           "ticks": "",
           "title": {
            "standoff": 15
           },
           "zerolinecolor": "white",
           "zerolinewidth": 2
          }
         }
        },
        "title": {
         "text": "Tips Dataset: Total Bill Box Plot"
        },
        "xaxis": {
         "anchor": "y",
         "domain": [
          0,
          1
         ],
         "title": {
          "text": "day"
         }
        },
        "yaxis": {
         "anchor": "x",
         "domain": [
          0,
          1
         ],
         "title": {
          "text": "total_bill"
         }
        }
       }
      }
     },
     "metadata": {},
     "output_type": "display_data"
    }
   ],
   "source": [
    "# Plot a box plot for the \"total_bill\" column using Plotly express\n",
    "fig = px.box(tips,x='day',y=\"total_bill\", title=\"Tips Dataset: Total Bill Box Plot\")\n",
    "fig.show()"
   ]
  },
  {
   "cell_type": "markdown",
   "id": "934d4201",
   "metadata": {},
   "source": [
    "Question 3: Using the tips dataset in the Plotly library, Plot a histogram for x= \"sex\" and y=\"total_bill\" column in the tips dataset. Also, use the \"smoker\" column with the pattern_shape parameter and the \"day\"column with the color parameter.\n",
    "\n",
    "Answer:"
   ]
  },
  {
   "cell_type": "code",
   "execution_count": 7,
   "id": "620e83e2",
   "metadata": {},
   "outputs": [
    {
     "data": {
      "application/vnd.plotly.v1+json": {
       "config": {
        "plotlyServerURL": "https://plot.ly"
       },
       "data": [
        {
         "bingroup": "x",
         "histfunc": "sum",
         "hovertemplate": "day=Sun<br>smoker=No<br>sex=%{x}<br>sum of total_bill=%{y}<extra></extra>",
         "legendgroup": "Sun, No",
         "marker": {
          "color": "#636efa",
          "pattern": {
           "shape": ""
          }
         },
         "name": "Sun, No",
         "orientation": "v",
         "showlegend": true,
         "type": "histogram",
         "x": [
          "Female",
          "Male",
          "Male",
          "Male",
          "Female",
          "Male",
          "Male",
          "Male",
          "Male",
          "Male",
          "Male",
          "Female",
          "Male",
          "Male",
          "Female",
          "Male",
          "Female",
          "Male",
          "Female",
          "Male",
          "Male",
          "Male",
          "Male",
          "Male",
          "Male",
          "Male",
          "Male",
          "Male",
          "Male",
          "Female",
          "Female",
          "Male",
          "Male",
          "Male",
          "Male",
          "Male",
          "Female",
          "Female",
          "Male",
          "Male",
          "Male",
          "Male",
          "Male",
          "Male",
          "Female",
          "Male",
          "Female",
          "Female",
          "Male",
          "Male",
          "Male",
          "Female",
          "Male",
          "Male",
          "Male",
          "Male",
          "Male"
         ],
         "xaxis": "x",
         "y": {
          "bdata": "PQrXo3D9MECuR+F6FK4kQMP1KFyPAjVArkfhehSuN0DXo3A9Cpc4QArXo3A9SjlACtejcD2KIUDhehSuR+E6QBSuR+F6FC5Aj8L1KFyPLUAK16NwPYokQOF6FK5HoUFA16NwPQrXLkCuR+F6FG4yQClcj8L1qC1AFK5H4XqUNUApXI/C9agkQArXo3A9SjBAuB6F61H4MED2KFyPwnUxQOF6FK5H4StAXI/C9ShcI0BmZmZmZmY+QArXo3A9SjJAexSuR+E6NkAzMzMzMzNAQM3MzMzMjDxACtejcD0KMkAUrkfhehQpQBSuR+F6lCRASOF6FK5nQUDhehSuR+EjQI/C9ShcjzlAPQrXo3B9M0ApXI/C9QhDQDMzMzMz8zdA9ihcj8K1OUCPwvUoXE8xQK5H4XoU7j1ApHA9CtcjLEDD9Shcj0IqQMP1KFyPQjFAzczMzMyMOECF61G4HsUzQJqZmZmZ2T1A9ihcj8IVSEAAAAAAAAA5QEjhehSuxypAPQrXo3B9MEAAAAAAAIA1QFK4HoXrUSlA9ihcj8I1MEAfhetRuJ4rQIXrUbgehThAw/UoXI/CNED2KFyPwrU/QHE9CtejsDRA",
          "dtype": "f8"
         },
         "yaxis": "y"
        },
        {
         "bingroup": "x",
         "histfunc": "sum",
         "hovertemplate": "day=Sun<br>smoker=Yes<br>sex=%{x}<br>sum of total_bill=%{y}<extra></extra>",
         "legendgroup": "Sun, Yes",
         "marker": {
          "color": "#636efa",
          "pattern": {
           "shape": "/"
          }
         },
         "name": "Sun, Yes",
         "orientation": "v",
         "showlegend": true,
         "type": "histogram",
         "x": [
          "Female",
          "Male",
          "Male",
          "Male",
          "Male",
          "Male",
          "Male",
          "Female",
          "Male",
          "Male",
          "Male",
          "Male",
          "Male",
          "Male",
          "Female",
          "Male",
          "Female",
          "Male",
          "Male"
         ],
         "xaxis": "x",
         "y": {
          "bdata": "w/UoXI+CMUAAAAAAAAAdQJqZmZmZ2T9AUrgehevRMEAzMzMzM3NAQKRwPQrX4zFA9ihcj8L1LEAzMzMzMzMjQHE9CtejUEFAMzMzMzNTQUAUrkfhelQ3QM3MzMzMrEZA7FG4HoUrN0BmZmZmZkZEQGZmZmZm5jRA9ihcj8J1PkBmZmZmZiYyQJqZmZmZGTdA4XoUrkdhL0A=",
          "dtype": "f8"
         },
         "yaxis": "y"
        },
        {
         "bingroup": "x",
         "histfunc": "sum",
         "hovertemplate": "day=Sat<br>smoker=No<br>sex=%{x}<br>sum of total_bill=%{y}<extra></extra>",
         "legendgroup": "Sat, No",
         "marker": {
          "color": "#EF553B",
          "pattern": {
           "shape": ""
          }
         },
         "name": "Sat, No",
         "orientation": "v",
         "showlegend": true,
         "type": "histogram",
         "x": [
          "Male",
          "Male",
          "Female",
          "Female",
          "Male",
          "Male",
          "Male",
          "Male",
          "Male",
          "Male",
          "Female",
          "Male",
          "Male",
          "Female",
          "Female",
          "Male",
          "Male",
          "Male",
          "Female",
          "Male",
          "Male",
          "Male",
          "Female",
          "Male",
          "Male",
          "Male",
          "Female",
          "Male",
          "Male",
          "Female",
          "Female",
          "Male",
          "Female",
          "Male",
          "Male",
          "Female",
          "Male",
          "Male",
          "Male",
          "Male",
          "Male",
          "Male",
          "Female",
          "Male",
          "Male"
         ],
         "xaxis": "x",
         "y": {
          "bdata": "ZmZmZmamNEDsUbgehesxQArXo3A9SjRACtejcD2KL0D2KFyPwrVDQFK4HoXr0TNAj8L1KFzPMUA9CtejcL0qQOF6FK5HYSlAMzMzMzOzNUBmZmZmZqYzQJqZmZmZGSNAmpmZmZlZMkAfhetRuB4uQHE9CtejsDRASOF6FK7HMUCPwvUoXA84QI/C9ShcTzBArkfhehTuMEBxPQrXo7AyQIXrUbgeRT9ACtejcD0KMEApXI/C9Wg6QMP1KFyPIkhA16NwPQqXMUAUrkfhehQ0QDMzMzMzczBAexSuR+E6NEAK16NwPQooQFK4HoXrETFA9ihcj8J1LUCF61G4HgUlQOxRuB6F6zRAPQrXo3A9MkAAAAAAAAAsQAAAAAAAAB1ACtejcD0qSEAzMzMzM3M0QI/C9ShcjypAuB6F61E4J0AK16NwPYolQKRwPQrXIyRACtejcD3qQUBI4XoUrgc9QFK4HoXr0TFA",
          "dtype": "f8"
         },
         "yaxis": "y"
        },
        {
         "bingroup": "x",
         "histfunc": "sum",
         "hovertemplate": "day=Sat<br>smoker=Yes<br>sex=%{x}<br>sum of total_bill=%{y}<extra></extra>",
         "legendgroup": "Sat, Yes",
         "marker": {
          "color": "#EF553B",
          "pattern": {
           "shape": "/"
          }
         },
         "name": "Sat, Yes",
         "orientation": "v",
         "showlegend": true,
         "type": "histogram",
         "x": [
          "Male",
          "Male",
          "Male",
          "Male",
          "Male",
          "Male",
          "Female",
          "Male",
          "Female",
          "Female",
          "Male",
          "Female",
          "Female",
          "Male",
          "Male",
          "Male",
          "Female",
          "Female",
          "Female",
          "Male",
          "Male",
          "Male",
          "Male",
          "Male",
          "Female",
          "Male",
          "Male",
          "Female",
          "Female",
          "Female",
          "Male",
          "Male",
          "Male",
          "Female",
          "Female",
          "Male",
          "Male",
          "Male",
          "Male",
          "Male",
          "Female",
          "Male"
         ],
         "xaxis": "x",
         "y": {
          "bdata": "4XoUrkcBQ0B7FK5H4XomQArXo3A9SjRAH4XrUbieK0AK16NwPQomQArXo3A9SjJAj8L1KFyPCECF61G4HgUuQFyPwvUo3DpASOF6FK5HOUDsUbgehesxQGZmZmZmJkZA7FG4HoVrNkC4HoXrUbguQD0K16NwfTRA9ihcj8I1OUAfhetRuJ4sQK5H4XoULiVAw/UoXI9CJUBI4XoUrmdJQB+F61G4ni9A16NwPQqXOkA9CtejcF1DQIXrUbgeRThAhetRuB6FKUCPwvUoXA8+QKRwPQrX4zlACtejcD2KKkDsUbgehSs8QM3MzMzMzClAZmZmZmYmPECuR+F6FC4nQPYoXI/C9R5ApHA9CtcjPkAfhetRuB42QMP1KFyPAjhA4XoUrkdhL0CPwvUoXA8vQDMzMzMzMylACtejcD1qQECuR+F6FC47QOxRuB6FqzZA",
          "dtype": "f8"
         },
         "yaxis": "y"
        },
        {
         "bingroup": "x",
         "histfunc": "sum",
         "hovertemplate": "day=Thur<br>smoker=No<br>sex=%{x}<br>sum of total_bill=%{y}<extra></extra>",
         "legendgroup": "Thur, No",
         "marker": {
          "color": "#00cc96",
          "pattern": {
           "shape": ""
          }
         },
         "name": "Thur, No",
         "orientation": "v",
         "showlegend": true,
         "type": "histogram",
         "x": [
          "Male",
          "Male",
          "Male",
          "Male",
          "Female",
          "Male",
          "Female",
          "Male",
          "Male",
          "Male",
          "Male",
          "Female",
          "Female",
          "Female",
          "Male",
          "Female",
          "Male",
          "Male",
          "Female",
          "Female",
          "Male",
          "Female",
          "Female",
          "Male",
          "Male",
          "Female",
          "Female",
          "Female",
          "Female",
          "Female",
          "Female",
          "Female",
          "Female",
          "Female",
          "Male",
          "Male",
          "Female",
          "Female",
          "Female",
          "Female",
          "Female",
          "Male",
          "Male",
          "Male",
          "Female"
         ],
         "xaxis": "x",
         "y": {
          "bdata": "MzMzMzMzO0DD9Shcj8I2QArXo3A9SjFAKVyPwvWoMECkcD0K1yMkQPYoXI/C9S9ACtejcD1qQUCPwvUoXA8qQEjhehSuRzJA9ihcj8K1OEApXI/C9Sg1QM3MzMzMTCVAXI/C9SjcKEAUrkfhehQ4QOF6FK5HYSdA16NwPQrXKkCF61G4HoUsQGZmZmZm5i9A9ihcj8L1KEDNzMzMzMw9QArXo3A9CiFACtejcD0KLUDD9Shcj8ImQFK4HoXr0TZAFK5H4XoUM0CF61G4HkU0QNejcD0KVyZAhetRuB6FKEDD9Shcj0IyQIXrUbgeBSFAKVyPwvWoJEDNzMzMzEwsQFK4HoXrUSpAuB6F61F4MUBmZmZmZiZBQLgehetRmERAzczMzMwMO0CuR+F6FG4wQDMzMzMzsyBApHA9CtejMkA9CtejcL0nQI/C9ShcjyNACtejcD0KHkA9CtejcD0eQEjhehSuxzJA",
          "dtype": "f8"
         },
         "yaxis": "y"
        },
        {
         "bingroup": "x",
         "histfunc": "sum",
         "hovertemplate": "day=Thur<br>smoker=Yes<br>sex=%{x}<br>sum of total_bill=%{y}<extra></extra>",
         "legendgroup": "Thur, Yes",
         "marker": {
          "color": "#00cc96",
          "pattern": {
           "shape": "/"
          }
         },
         "name": "Thur, Yes",
         "orientation": "v",
         "showlegend": true,
         "type": "histogram",
         "x": [
          "Male",
          "Male",
          "Male",
          "Female",
          "Male",
          "Male",
          "Male",
          "Male",
          "Female",
          "Female",
          "Male",
          "Male",
          "Female",
          "Female",
          "Female",
          "Male",
          "Female"
         ],
         "xaxis": "x",
         "y": {
          "bdata": "cT0K16NwM0DXo3A9CldAQAAAAAAAADBAj8L1KFzPM0BxPQrXo3A8QPYoXI/C9S5AFK5H4XqUMECuR+F6FK4kQK5H4XoUjkVAAAAAAAAAKkCF61G4HgUrQPYoXI/CtTJAexSuR+F6KUAAAAAAAAAqQGZmZmZmZjBASOF6FK6HNEC4HoXrUXgwQA==",
          "dtype": "f8"
         },
         "yaxis": "y"
        },
        {
         "bingroup": "x",
         "histfunc": "sum",
         "hovertemplate": "day=Fri<br>smoker=No<br>sex=%{x}<br>sum of total_bill=%{y}<extra></extra>",
         "legendgroup": "Fri, No",
         "marker": {
          "color": "#ab63fa",
          "pattern": {
           "shape": ""
          }
         },
         "name": "Fri, No",
         "orientation": "v",
         "showlegend": true,
         "type": "histogram",
         "x": [
          "Male",
          "Female",
          "Male",
          "Female"
         ],
         "xaxis": "x",
         "y": {
          "bdata": "PQrXo3B9NkAAAAAAAMA2QOxRuB6F6yhA9ihcj8L1L0A=",
          "dtype": "f8"
         },
         "yaxis": "y"
        },
        {
         "bingroup": "x",
         "histfunc": "sum",
         "hovertemplate": "day=Fri<br>smoker=Yes<br>sex=%{x}<br>sum of total_bill=%{y}<extra></extra>",
         "legendgroup": "Fri, Yes",
         "marker": {
          "color": "#ab63fa",
          "pattern": {
           "shape": "/"
          }
         },
         "name": "Fri, Yes",
         "orientation": "v",
         "showlegend": true,
         "type": "histogram",
         "x": [
          "Male",
          "Female",
          "Female",
          "Male",
          "Male",
          "Male",
          "Male",
          "Female",
          "Female",
          "Male",
          "Female",
          "Male",
          "Male",
          "Female",
          "Female"
         ],
         "xaxis": "x",
         "y": {
          "bdata": "uB6F61H4PEAAAAAAAAAXQFK4HoXrUTBA9ihcj8IVREBI4XoUrkc7QI/C9ShcDyhAw/UoXI8CNUAzMzMzM7MmQMP1KFyPwi5AUrgehetRKEDXo3A9CtcqQClcj8L1KCFA16NwPQrXKkCF61G4HkUwQK5H4XoULiRA",
          "dtype": "f8"
         },
         "yaxis": "y"
        }
       ],
       "layout": {
        "barmode": "relative",
        "legend": {
         "title": {
          "text": "day, smoker"
         },
         "tracegroupgap": 0
        },
        "template": {
         "data": {
          "bar": [
           {
            "error_x": {
             "color": "#2a3f5f"
            },
            "error_y": {
             "color": "#2a3f5f"
            },
            "marker": {
             "line": {
              "color": "#E5ECF6",
              "width": 0.5
             },
             "pattern": {
              "fillmode": "overlay",
              "size": 10,
              "solidity": 0.2
             }
            },
            "type": "bar"
           }
          ],
          "barpolar": [
           {
            "marker": {
             "line": {
              "color": "#E5ECF6",
              "width": 0.5
             },
             "pattern": {
              "fillmode": "overlay",
              "size": 10,
              "solidity": 0.2
             }
            },
            "type": "barpolar"
           }
          ],
          "carpet": [
           {
            "aaxis": {
             "endlinecolor": "#2a3f5f",
             "gridcolor": "white",
             "linecolor": "white",
             "minorgridcolor": "white",
             "startlinecolor": "#2a3f5f"
            },
            "baxis": {
             "endlinecolor": "#2a3f5f",
             "gridcolor": "white",
             "linecolor": "white",
             "minorgridcolor": "white",
             "startlinecolor": "#2a3f5f"
            },
            "type": "carpet"
           }
          ],
          "choropleth": [
           {
            "colorbar": {
             "outlinewidth": 0,
             "ticks": ""
            },
            "type": "choropleth"
           }
          ],
          "contour": [
           {
            "colorbar": {
             "outlinewidth": 0,
             "ticks": ""
            },
            "colorscale": [
             [
              0,
              "#0d0887"
             ],
             [
              0.1111111111111111,
              "#46039f"
             ],
             [
              0.2222222222222222,
              "#7201a8"
             ],
             [
              0.3333333333333333,
              "#9c179e"
             ],
             [
              0.4444444444444444,
              "#bd3786"
             ],
             [
              0.5555555555555556,
              "#d8576b"
             ],
             [
              0.6666666666666666,
              "#ed7953"
             ],
             [
              0.7777777777777778,
              "#fb9f3a"
             ],
             [
              0.8888888888888888,
              "#fdca26"
             ],
             [
              1,
              "#f0f921"
             ]
            ],
            "type": "contour"
           }
          ],
          "contourcarpet": [
           {
            "colorbar": {
             "outlinewidth": 0,
             "ticks": ""
            },
            "type": "contourcarpet"
           }
          ],
          "heatmap": [
           {
            "colorbar": {
             "outlinewidth": 0,
             "ticks": ""
            },
            "colorscale": [
             [
              0,
              "#0d0887"
             ],
             [
              0.1111111111111111,
              "#46039f"
             ],
             [
              0.2222222222222222,
              "#7201a8"
             ],
             [
              0.3333333333333333,
              "#9c179e"
             ],
             [
              0.4444444444444444,
              "#bd3786"
             ],
             [
              0.5555555555555556,
              "#d8576b"
             ],
             [
              0.6666666666666666,
              "#ed7953"
             ],
             [
              0.7777777777777778,
              "#fb9f3a"
             ],
             [
              0.8888888888888888,
              "#fdca26"
             ],
             [
              1,
              "#f0f921"
             ]
            ],
            "type": "heatmap"
           }
          ],
          "histogram": [
           {
            "marker": {
             "pattern": {
              "fillmode": "overlay",
              "size": 10,
              "solidity": 0.2
             }
            },
            "type": "histogram"
           }
          ],
          "histogram2d": [
           {
            "colorbar": {
             "outlinewidth": 0,
             "ticks": ""
            },
            "colorscale": [
             [
              0,
              "#0d0887"
             ],
             [
              0.1111111111111111,
              "#46039f"
             ],
             [
              0.2222222222222222,
              "#7201a8"
             ],
             [
              0.3333333333333333,
              "#9c179e"
             ],
             [
              0.4444444444444444,
              "#bd3786"
             ],
             [
              0.5555555555555556,
              "#d8576b"
             ],
             [
              0.6666666666666666,
              "#ed7953"
             ],
             [
              0.7777777777777778,
              "#fb9f3a"
             ],
             [
              0.8888888888888888,
              "#fdca26"
             ],
             [
              1,
              "#f0f921"
             ]
            ],
            "type": "histogram2d"
           }
          ],
          "histogram2dcontour": [
           {
            "colorbar": {
             "outlinewidth": 0,
             "ticks": ""
            },
            "colorscale": [
             [
              0,
              "#0d0887"
             ],
             [
              0.1111111111111111,
              "#46039f"
             ],
             [
              0.2222222222222222,
              "#7201a8"
             ],
             [
              0.3333333333333333,
              "#9c179e"
             ],
             [
              0.4444444444444444,
              "#bd3786"
             ],
             [
              0.5555555555555556,
              "#d8576b"
             ],
             [
              0.6666666666666666,
              "#ed7953"
             ],
             [
              0.7777777777777778,
              "#fb9f3a"
             ],
             [
              0.8888888888888888,
              "#fdca26"
             ],
             [
              1,
              "#f0f921"
             ]
            ],
            "type": "histogram2dcontour"
           }
          ],
          "mesh3d": [
           {
            "colorbar": {
             "outlinewidth": 0,
             "ticks": ""
            },
            "type": "mesh3d"
           }
          ],
          "parcoords": [
           {
            "line": {
             "colorbar": {
              "outlinewidth": 0,
              "ticks": ""
             }
            },
            "type": "parcoords"
           }
          ],
          "pie": [
           {
            "automargin": true,
            "type": "pie"
           }
          ],
          "scatter": [
           {
            "fillpattern": {
             "fillmode": "overlay",
             "size": 10,
             "solidity": 0.2
            },
            "type": "scatter"
           }
          ],
          "scatter3d": [
           {
            "line": {
             "colorbar": {
              "outlinewidth": 0,
              "ticks": ""
             }
            },
            "marker": {
             "colorbar": {
              "outlinewidth": 0,
              "ticks": ""
             }
            },
            "type": "scatter3d"
           }
          ],
          "scattercarpet": [
           {
            "marker": {
             "colorbar": {
              "outlinewidth": 0,
              "ticks": ""
             }
            },
            "type": "scattercarpet"
           }
          ],
          "scattergeo": [
           {
            "marker": {
             "colorbar": {
              "outlinewidth": 0,
              "ticks": ""
             }
            },
            "type": "scattergeo"
           }
          ],
          "scattergl": [
           {
            "marker": {
             "colorbar": {
              "outlinewidth": 0,
              "ticks": ""
             }
            },
            "type": "scattergl"
           }
          ],
          "scattermap": [
           {
            "marker": {
             "colorbar": {
              "outlinewidth": 0,
              "ticks": ""
             }
            },
            "type": "scattermap"
           }
          ],
          "scattermapbox": [
           {
            "marker": {
             "colorbar": {
              "outlinewidth": 0,
              "ticks": ""
             }
            },
            "type": "scattermapbox"
           }
          ],
          "scatterpolar": [
           {
            "marker": {
             "colorbar": {
              "outlinewidth": 0,
              "ticks": ""
             }
            },
            "type": "scatterpolar"
           }
          ],
          "scatterpolargl": [
           {
            "marker": {
             "colorbar": {
              "outlinewidth": 0,
              "ticks": ""
             }
            },
            "type": "scatterpolargl"
           }
          ],
          "scatterternary": [
           {
            "marker": {
             "colorbar": {
              "outlinewidth": 0,
              "ticks": ""
             }
            },
            "type": "scatterternary"
           }
          ],
          "surface": [
           {
            "colorbar": {
             "outlinewidth": 0,
             "ticks": ""
            },
            "colorscale": [
             [
              0,
              "#0d0887"
             ],
             [
              0.1111111111111111,
              "#46039f"
             ],
             [
              0.2222222222222222,
              "#7201a8"
             ],
             [
              0.3333333333333333,
              "#9c179e"
             ],
             [
              0.4444444444444444,
              "#bd3786"
             ],
             [
              0.5555555555555556,
              "#d8576b"
             ],
             [
              0.6666666666666666,
              "#ed7953"
             ],
             [
              0.7777777777777778,
              "#fb9f3a"
             ],
             [
              0.8888888888888888,
              "#fdca26"
             ],
             [
              1,
              "#f0f921"
             ]
            ],
            "type": "surface"
           }
          ],
          "table": [
           {
            "cells": {
             "fill": {
              "color": "#EBF0F8"
             },
             "line": {
              "color": "white"
             }
            },
            "header": {
             "fill": {
              "color": "#C8D4E3"
             },
             "line": {
              "color": "white"
             }
            },
            "type": "table"
           }
          ]
         },
         "layout": {
          "annotationdefaults": {
           "arrowcolor": "#2a3f5f",
           "arrowhead": 0,
           "arrowwidth": 1
          },
          "autotypenumbers": "strict",
          "coloraxis": {
           "colorbar": {
            "outlinewidth": 0,
            "ticks": ""
           }
          },
          "colorscale": {
           "diverging": [
            [
             0,
             "#8e0152"
            ],
            [
             0.1,
             "#c51b7d"
            ],
            [
             0.2,
             "#de77ae"
            ],
            [
             0.3,
             "#f1b6da"
            ],
            [
             0.4,
             "#fde0ef"
            ],
            [
             0.5,
             "#f7f7f7"
            ],
            [
             0.6,
             "#e6f5d0"
            ],
            [
             0.7,
             "#b8e186"
            ],
            [
             0.8,
             "#7fbc41"
            ],
            [
             0.9,
             "#4d9221"
            ],
            [
             1,
             "#276419"
            ]
           ],
           "sequential": [
            [
             0,
             "#0d0887"
            ],
            [
             0.1111111111111111,
             "#46039f"
            ],
            [
             0.2222222222222222,
             "#7201a8"
            ],
            [
             0.3333333333333333,
             "#9c179e"
            ],
            [
             0.4444444444444444,
             "#bd3786"
            ],
            [
             0.5555555555555556,
             "#d8576b"
            ],
            [
             0.6666666666666666,
             "#ed7953"
            ],
            [
             0.7777777777777778,
             "#fb9f3a"
            ],
            [
             0.8888888888888888,
             "#fdca26"
            ],
            [
             1,
             "#f0f921"
            ]
           ],
           "sequentialminus": [
            [
             0,
             "#0d0887"
            ],
            [
             0.1111111111111111,
             "#46039f"
            ],
            [
             0.2222222222222222,
             "#7201a8"
            ],
            [
             0.3333333333333333,
             "#9c179e"
            ],
            [
             0.4444444444444444,
             "#bd3786"
            ],
            [
             0.5555555555555556,
             "#d8576b"
            ],
            [
             0.6666666666666666,
             "#ed7953"
            ],
            [
             0.7777777777777778,
             "#fb9f3a"
            ],
            [
             0.8888888888888888,
             "#fdca26"
            ],
            [
             1,
             "#f0f921"
            ]
           ]
          },
          "colorway": [
           "#636efa",
           "#EF553B",
           "#00cc96",
           "#ab63fa",
           "#FFA15A",
           "#19d3f3",
           "#FF6692",
           "#B6E880",
           "#FF97FF",
           "#FECB52"
          ],
          "font": {
           "color": "#2a3f5f"
          },
          "geo": {
           "bgcolor": "white",
           "lakecolor": "white",
           "landcolor": "#E5ECF6",
           "showlakes": true,
           "showland": true,
           "subunitcolor": "white"
          },
          "hoverlabel": {
           "align": "left"
          },
          "hovermode": "closest",
          "mapbox": {
           "style": "light"
          },
          "paper_bgcolor": "white",
          "plot_bgcolor": "#E5ECF6",
          "polar": {
           "angularaxis": {
            "gridcolor": "white",
            "linecolor": "white",
            "ticks": ""
           },
           "bgcolor": "#E5ECF6",
           "radialaxis": {
            "gridcolor": "white",
            "linecolor": "white",
            "ticks": ""
           }
          },
          "scene": {
           "xaxis": {
            "backgroundcolor": "#E5ECF6",
            "gridcolor": "white",
            "gridwidth": 2,
            "linecolor": "white",
            "showbackground": true,
            "ticks": "",
            "zerolinecolor": "white"
           },
           "yaxis": {
            "backgroundcolor": "#E5ECF6",
            "gridcolor": "white",
            "gridwidth": 2,
            "linecolor": "white",
            "showbackground": true,
            "ticks": "",
            "zerolinecolor": "white"
           },
           "zaxis": {
            "backgroundcolor": "#E5ECF6",
            "gridcolor": "white",
            "gridwidth": 2,
            "linecolor": "white",
            "showbackground": true,
            "ticks": "",
            "zerolinecolor": "white"
           }
          },
          "shapedefaults": {
           "line": {
            "color": "#2a3f5f"
           }
          },
          "ternary": {
           "aaxis": {
            "gridcolor": "white",
            "linecolor": "white",
            "ticks": ""
           },
           "baxis": {
            "gridcolor": "white",
            "linecolor": "white",
            "ticks": ""
           },
           "bgcolor": "#E5ECF6",
           "caxis": {
            "gridcolor": "white",
            "linecolor": "white",
            "ticks": ""
           }
          },
          "title": {
           "x": 0.05
          },
          "xaxis": {
           "automargin": true,
           "gridcolor": "white",
           "linecolor": "white",
           "ticks": "",
           "title": {
            "standoff": 15
           },
           "zerolinecolor": "white",
           "zerolinewidth": 2
          },
          "yaxis": {
           "automargin": true,
           "gridcolor": "white",
           "linecolor": "white",
           "ticks": "",
           "title": {
            "standoff": 15
           },
           "zerolinecolor": "white",
           "zerolinewidth": 2
          }
         }
        },
        "title": {
         "text": "Tips Dataset: Total Bill by Gender and Smoking Status"
        },
        "xaxis": {
         "anchor": "y",
         "domain": [
          0,
          1
         ],
         "title": {
          "text": "sex"
         }
        },
        "yaxis": {
         "anchor": "x",
         "domain": [
          0,
          1
         ],
         "title": {
          "text": "sum of total_bill"
         }
        }
       }
      }
     },
     "metadata": {},
     "output_type": "display_data"
    }
   ],
   "source": [
    "# Plot a histogram for \"sex\" and \"total_bill\" columns using Plotly express\n",
    "fig = px.histogram(tips, x=\"sex\", y=\"total_bill\", \n",
    "                   color=\"day\", pattern_shape=\"smoker\",\n",
    "                   title=\"Tips Dataset: Total Bill by Gender and Smoking Status\")\n",
    "\n",
    "fig.show()"
   ]
  },
  {
   "cell_type": "markdown",
   "id": "1aad0091",
   "metadata": {},
   "source": [
    "Question 4: Using the iris dataset in the Plotly library, Plot a scatter matrix plot, using the \"species\" column for the color parameter.\n",
    "\n",
    "Note : Use \"sepal_length\", \"sepal_width\", \"petal_length\", \"petal_width\" columns only with the dimensions parameter.\n",
    "\n",
    "Answer :"
   ]
  },
  {
   "cell_type": "code",
   "execution_count": 8,
   "id": "27687233",
   "metadata": {},
   "outputs": [
    {
     "data": {
      "application/vnd.plotly.v1+json": {
       "config": {
        "plotlyServerURL": "https://plot.ly"
       },
       "data": [
        {
         "dimensions": [
          {
           "axis": {
            "matches": true
           },
           "label": "sepal_length",
           "values": {
            "bdata": "ZmZmZmZmFECamZmZmZkTQM3MzMzMzBJAZmZmZmZmEkAAAAAAAAAUQJqZmZmZmRVAZmZmZmZmEkAAAAAAAAAUQJqZmZmZmRFAmpmZmZmZE0CamZmZmZkVQDMzMzMzMxNAMzMzMzMzE0AzMzMzMzMRQDMzMzMzMxdAzczMzMzMFkCamZmZmZkVQGZmZmZmZhRAzczMzMzMFkBmZmZmZmYUQJqZmZmZmRVAZmZmZmZmFEBmZmZmZmYSQGZmZmZmZhRAMzMzMzMzE0AAAAAAAAAUQAAAAAAAABRAzczMzMzMFEDNzMzMzMwUQM3MzMzMzBJAMzMzMzMzE0CamZmZmZkVQM3MzMzMzBRAAAAAAAAAFkCamZmZmZkTQAAAAAAAABRAAAAAAAAAFkCamZmZmZkTQJqZmZmZmRFAZmZmZmZmFEAAAAAAAAAUQAAAAAAAABJAmpmZmZmZEUAAAAAAAAAUQGZmZmZmZhRAMzMzMzMzE0BmZmZmZmYUQGZmZmZmZhJAMzMzMzMzFUAAAAAAAAAUQA==",
            "dtype": "f8"
           }
          },
          {
           "axis": {
            "matches": true
           },
           "label": "sepal_width",
           "values": {
            "bdata": "AAAAAAAADEAAAAAAAAAIQJqZmZmZmQlAzczMzMzMCEDNzMzMzMwMQDMzMzMzMw9AMzMzMzMzC0AzMzMzMzMLQDMzMzMzMwdAzczMzMzMCECamZmZmZkNQDMzMzMzMwtAAAAAAAAACEAAAAAAAAAIQAAAAAAAABBAmpmZmZmZEUAzMzMzMzMPQAAAAAAAAAxAZmZmZmZmDkBmZmZmZmYOQDMzMzMzMwtAmpmZmZmZDUDNzMzMzMwMQGZmZmZmZgpAMzMzMzMzC0AAAAAAAAAIQDMzMzMzMwtAAAAAAAAADEAzMzMzMzMLQJqZmZmZmQlAzczMzMzMCEAzMzMzMzMLQGZmZmZmZhBAzczMzMzMEEDNzMzMzMwIQJqZmZmZmQlAAAAAAAAADEDNzMzMzMwIQAAAAAAAAAhAMzMzMzMzC0AAAAAAAAAMQGZmZmZmZgJAmpmZmZmZCUAAAAAAAAAMQGZmZmZmZg5AAAAAAAAACEBmZmZmZmYOQJqZmZmZmQlAmpmZmZmZDUBmZmZmZmYKQA==",
            "dtype": "f8"
           }
          },
          {
           "axis": {
            "matches": true
           },
           "label": "petal_length",
           "values": {
            "bdata": "ZmZmZmZm9j9mZmZmZmb2P83MzMzMzPQ/AAAAAAAA+D9mZmZmZmb2PzMzMzMzM/s/ZmZmZmZm9j8AAAAAAAD4P2ZmZmZmZvY/AAAAAAAA+D8AAAAAAAD4P5qZmZmZmfk/ZmZmZmZm9j+amZmZmZnxPzMzMzMzM/M/AAAAAAAA+D/NzMzMzMz0P2ZmZmZmZvY/MzMzMzMz+z8AAAAAAAD4PzMzMzMzM/s/AAAAAAAA+D8AAAAAAADwPzMzMzMzM/s/ZmZmZmZm/j+amZmZmZn5P5qZmZmZmfk/AAAAAAAA+D9mZmZmZmb2P5qZmZmZmfk/mpmZmZmZ+T8AAAAAAAD4PwAAAAAAAPg/ZmZmZmZm9j8AAAAAAAD4PzMzMzMzM/M/zczMzMzM9D8AAAAAAAD4P83MzMzMzPQ/AAAAAAAA+D/NzMzMzMz0P83MzMzMzPQ/zczMzMzM9D+amZmZmZn5P2ZmZmZmZv4/ZmZmZmZm9j+amZmZmZn5P2ZmZmZmZvY/AAAAAAAA+D9mZmZmZmb2Pw==",
            "dtype": "f8"
           }
          },
          {
           "axis": {
            "matches": true
           },
           "label": "petal_width",
           "values": {
            "bdata": "mpmZmZmZyT+amZmZmZnJP5qZmZmZmck/mpmZmZmZyT+amZmZmZnJP5qZmZmZmdk/MzMzMzMz0z+amZmZmZnJP5qZmZmZmck/mpmZmZmZuT+amZmZmZnJP5qZmZmZmck/mpmZmZmZuT+amZmZmZm5P5qZmZmZmck/mpmZmZmZ2T+amZmZmZnZPzMzMzMzM9M/MzMzMzMz0z8zMzMzMzPTP5qZmZmZmck/mpmZmZmZ2T+amZmZmZnJPwAAAAAAAOA/mpmZmZmZyT+amZmZmZnJP5qZmZmZmdk/mpmZmZmZyT+amZmZmZnJP5qZmZmZmck/mpmZmZmZyT+amZmZmZnZP5qZmZmZmbk/mpmZmZmZyT+amZmZmZm5P5qZmZmZmck/mpmZmZmZyT+amZmZmZm5P5qZmZmZmck/mpmZmZmZyT8zMzMzMzPTPzMzMzMzM9M/mpmZmZmZyT8zMzMzMzPjP5qZmZmZmdk/MzMzMzMz0z+amZmZmZnJP5qZmZmZmck/mpmZmZmZyT+amZmZmZnJPw==",
            "dtype": "f8"
           }
          }
         ],
         "hovertemplate": "species=setosa<br>%{xaxis.title.text}=%{x}<br>%{yaxis.title.text}=%{y}<extra></extra>",
         "legendgroup": "setosa",
         "marker": {
          "color": "#636efa",
          "symbol": "circle"
         },
         "name": "setosa",
         "showlegend": true,
         "type": "splom"
        },
        {
         "dimensions": [
          {
           "axis": {
            "matches": true
           },
           "label": "sepal_length",
           "values": {
            "bdata": "AAAAAAAAHECamZmZmZkZQJqZmZmZmRtAAAAAAAAAFkAAAAAAAAAaQM3MzMzMzBZAMzMzMzMzGUCamZmZmZkTQGZmZmZmZhpAzczMzMzMFEAAAAAAAAAUQJqZmZmZmRdAAAAAAAAAGEBmZmZmZmYYQGZmZmZmZhZAzczMzMzMGkBmZmZmZmYWQDMzMzMzMxdAzczMzMzMGEBmZmZmZmYWQJqZmZmZmRdAZmZmZmZmGEAzMzMzMzMZQGZmZmZmZhhAmpmZmZmZGUBmZmZmZmYaQDMzMzMzMxtAzczMzMzMGkAAAAAAAAAYQM3MzMzMzBZAAAAAAAAAFkAAAAAAAAAWQDMzMzMzMxdAAAAAAAAAGECamZmZmZkVQAAAAAAAABhAzczMzMzMGkAzMzMzMzMZQGZmZmZmZhZAAAAAAAAAFkAAAAAAAAAWQGZmZmZmZhhAMzMzMzMzF0AAAAAAAAAUQGZmZmZmZhZAzczMzMzMFkDNzMzMzMwWQM3MzMzMzBhAZmZmZmZmFEDNzMzMzMwWQA==",
            "dtype": "f8"
           }
          },
          {
           "axis": {
            "matches": true
           },
           "label": "sepal_width",
           "values": {
            "bdata": "mpmZmZmZCUCamZmZmZkJQM3MzMzMzAhAZmZmZmZmAkBmZmZmZmYGQGZmZmZmZgZAZmZmZmZmCkAzMzMzMzMDQDMzMzMzMwdAmpmZmZmZBUAAAAAAAAAAQAAAAAAAAAhAmpmZmZmZAUAzMzMzMzMHQDMzMzMzMwdAzczMzMzMCEAAAAAAAAAIQJqZmZmZmQVAmpmZmZmZAUAAAAAAAAAEQJqZmZmZmQlAZmZmZmZmBkAAAAAAAAAEQGZmZmZmZgZAMzMzMzMzB0AAAAAAAAAIQGZmZmZmZgZAAAAAAAAACEAzMzMzMzMHQM3MzMzMzARAMzMzMzMzA0AzMzMzMzMDQJqZmZmZmQVAmpmZmZmZBUAAAAAAAAAIQDMzMzMzMwtAzczMzMzMCEBmZmZmZmYCQAAAAAAAAAhAAAAAAAAABEDNzMzMzMwEQAAAAAAAAAhAzczMzMzMBEBmZmZmZmYCQJqZmZmZmQVAAAAAAAAACEAzMzMzMzMHQDMzMzMzMwdAAAAAAAAABEBmZmZmZmYGQA==",
            "dtype": "f8"
           }
          },
          {
           "axis": {
            "matches": true
           },
           "label": "petal_length",
           "values": {
            "bdata": "zczMzMzMEkAAAAAAAAASQJqZmZmZmRNAAAAAAAAAEEBmZmZmZmYSQAAAAAAAABJAzczMzMzMEkBmZmZmZmYKQGZmZmZmZhJAMzMzMzMzD0AAAAAAAAAMQM3MzMzMzBBAAAAAAAAAEEDNzMzMzMwSQM3MzMzMzAxAmpmZmZmZEUAAAAAAAAASQGZmZmZmZhBAAAAAAAAAEkAzMzMzMzMPQDMzMzMzMxNAAAAAAAAAEECamZmZmZkTQM3MzMzMzBJAMzMzMzMzEUCamZmZmZkRQDMzMzMzMxNAAAAAAAAAFEAAAAAAAAASQAAAAAAAAAxAZmZmZmZmDkCamZmZmZkNQDMzMzMzMw9AZmZmZmZmFEAAAAAAAAASQAAAAAAAABJAzczMzMzMEkCamZmZmZkRQGZmZmZmZhBAAAAAAAAAEECamZmZmZkRQGZmZmZmZhJAAAAAAAAAEEBmZmZmZmYKQM3MzMzMzBBAzczMzMzMEEDNzMzMzMwQQDMzMzMzMxFAAAAAAAAACEBmZmZmZmYQQA==",
            "dtype": "f8"
           }
          },
          {
           "axis": {
            "matches": true
           },
           "label": "petal_width",
           "values": {
            "bdata": "ZmZmZmZm9j8AAAAAAAD4PwAAAAAAAPg/zczMzMzM9D8AAAAAAAD4P83MzMzMzPQ/mpmZmZmZ+T8AAAAAAADwP83MzMzMzPQ/ZmZmZmZm9j8AAAAAAADwPwAAAAAAAPg/AAAAAAAA8D9mZmZmZmb2P83MzMzMzPQ/ZmZmZmZm9j8AAAAAAAD4PwAAAAAAAPA/AAAAAAAA+D+amZmZmZnxP83MzMzMzPw/zczMzMzM9D8AAAAAAAD4PzMzMzMzM/M/zczMzMzM9D9mZmZmZmb2P2ZmZmZmZvY/MzMzMzMz+z8AAAAAAAD4PwAAAAAAAPA/mpmZmZmZ8T8AAAAAAADwPzMzMzMzM/M/mpmZmZmZ+T8AAAAAAAD4P5qZmZmZmfk/AAAAAAAA+D/NzMzMzMz0P83MzMzMzPQ/zczMzMzM9D8zMzMzMzPzP2ZmZmZmZvY/MzMzMzMz8z8AAAAAAADwP83MzMzMzPQ/MzMzMzMz8z/NzMzMzMz0P83MzMzMzPQ/mpmZmZmZ8T/NzMzMzMz0Pw==",
            "dtype": "f8"
           }
          }
         ],
         "hovertemplate": "species=versicolor<br>%{xaxis.title.text}=%{x}<br>%{yaxis.title.text}=%{y}<extra></extra>",
         "legendgroup": "versicolor",
         "marker": {
          "color": "#EF553B",
          "symbol": "circle"
         },
         "name": "versicolor",
         "showlegend": true,
         "type": "splom"
        },
        {
         "dimensions": [
          {
           "axis": {
            "matches": true
           },
           "label": "sepal_length",
           "values": {
            "bdata": "MzMzMzMzGUAzMzMzMzMXQGZmZmZmZhxAMzMzMzMzGUAAAAAAAAAaQGZmZmZmZh5AmpmZmZmZE0AzMzMzMzMdQM3MzMzMzBpAzczMzMzMHEAAAAAAAAAaQJqZmZmZmRlAMzMzMzMzG0DNzMzMzMwWQDMzMzMzMxdAmpmZmZmZGUAAAAAAAAAaQM3MzMzMzB5AzczMzMzMHkAAAAAAAAAYQJqZmZmZmRtAZmZmZmZmFkDNzMzMzMweQDMzMzMzMxlAzczMzMzMGkDNzMzMzMwcQM3MzMzMzBhAZmZmZmZmGECamZmZmZkZQM3MzMzMzBxAmpmZmZmZHUCamZmZmZkfQJqZmZmZmRlAMzMzMzMzGUBmZmZmZmYYQM3MzMzMzB5AMzMzMzMzGUCamZmZmZkZQAAAAAAAABhAmpmZmZmZG0DNzMzMzMwaQJqZmZmZmRtAMzMzMzMzF0AzMzMzMzMbQM3MzMzMzBpAzczMzMzMGkAzMzMzMzMZQAAAAAAAABpAzczMzMzMGECamZmZmZkXQA==",
            "dtype": "f8"
           }
          },
          {
           "axis": {
            "matches": true
           },
           "label": "sepal_width",
           "values": {
            "bdata": "ZmZmZmZmCkCamZmZmZkFQAAAAAAAAAhAMzMzMzMzB0AAAAAAAAAIQAAAAAAAAAhAAAAAAAAABEAzMzMzMzMHQAAAAAAAAARAzczMzMzMDECamZmZmZkJQJqZmZmZmQVAAAAAAAAACEAAAAAAAAAEQGZmZmZmZgZAmpmZmZmZCUAAAAAAAAAIQGZmZmZmZg5AzczMzMzMBECamZmZmZkBQJqZmZmZmQlAZmZmZmZmBkBmZmZmZmYGQJqZmZmZmQVAZmZmZmZmCkCamZmZmZkJQGZmZmZmZgZAAAAAAAAACEBmZmZmZmYGQAAAAAAAAAhAZmZmZmZmBkBmZmZmZmYOQGZmZmZmZgZAZmZmZmZmBkDNzMzMzMwEQAAAAAAAAAhAMzMzMzMzC0DNzMzMzMwIQAAAAAAAAAhAzczMzMzMCEDNzMzMzMwIQM3MzMzMzAhAmpmZmZmZBUCamZmZmZkJQGZmZmZmZgpAAAAAAAAACEAAAAAAAAAEQAAAAAAAAAhAMzMzMzMzC0AAAAAAAAAIQA==",
            "dtype": "f8"
           }
          },
          {
           "axis": {
            "matches": true
           },
           "label": "petal_length",
           "values": {
            "bdata": "AAAAAAAAGEBmZmZmZmYUQJqZmZmZmRdAZmZmZmZmFkAzMzMzMzMXQGZmZmZmZhpAAAAAAAAAEkAzMzMzMzMZQDMzMzMzMxdAZmZmZmZmGEBmZmZmZmYUQDMzMzMzMxVAAAAAAAAAFkAAAAAAAAAUQGZmZmZmZhRAMzMzMzMzFUAAAAAAAAAWQM3MzMzMzBpAmpmZmZmZG0AAAAAAAAAUQM3MzMzMzBZAmpmZmZmZE0DNzMzMzMwaQJqZmZmZmRNAzczMzMzMFkAAAAAAAAAYQDMzMzMzMxNAmpmZmZmZE0BmZmZmZmYWQDMzMzMzMxdAZmZmZmZmGECamZmZmZkZQGZmZmZmZhZAZmZmZmZmFEBmZmZmZmYWQGZmZmZmZhhAZmZmZmZmFkAAAAAAAAAWQDMzMzMzMxNAmpmZmZmZFUBmZmZmZmYWQGZmZmZmZhRAZmZmZmZmFECamZmZmZkXQM3MzMzMzBZAzczMzMzMFEAAAAAAAAAUQM3MzMzMzBRAmpmZmZmZFUBmZmZmZmYUQA==",
            "dtype": "f8"
           }
          },
          {
           "axis": {
            "matches": true
           },
           "label": "petal_width",
           "values": {
            "bdata": "AAAAAAAABEBmZmZmZmb+P83MzMzMzABAzczMzMzM/D+amZmZmZkBQM3MzMzMzABAMzMzMzMz+z/NzMzMzMz8P83MzMzMzPw/AAAAAAAABEAAAAAAAAAAQGZmZmZmZv4/zczMzMzMAEAAAAAAAAAAQDMzMzMzMwNAZmZmZmZmAkDNzMzMzMz8P5qZmZmZmQFAZmZmZmZmAkAAAAAAAAD4P2ZmZmZmZgJAAAAAAAAAAEAAAAAAAAAAQM3MzMzMzPw/zczMzMzMAEDNzMzMzMz8P83MzMzMzPw/zczMzMzM/D/NzMzMzMwAQJqZmZmZmfk/ZmZmZmZm/j8AAAAAAAAAQJqZmZmZmQFAAAAAAAAA+D9mZmZmZmb2P2ZmZmZmZgJAMzMzMzMzA0DNzMzMzMz8P83MzMzMzPw/zczMzMzMAEAzMzMzMzMDQGZmZmZmZgJAZmZmZmZm/j9mZmZmZmYCQAAAAAAAAARAZmZmZmZmAkBmZmZmZmb+PwAAAAAAAABAZmZmZmZmAkDNzMzMzMz8Pw==",
            "dtype": "f8"
           }
          }
         ],
         "hovertemplate": "species=virginica<br>%{xaxis.title.text}=%{x}<br>%{yaxis.title.text}=%{y}<extra></extra>",
         "legendgroup": "virginica",
         "marker": {
          "color": "#00cc96",
          "symbol": "circle"
         },
         "name": "virginica",
         "showlegend": true,
         "type": "splom"
        }
       ],
       "layout": {
        "dragmode": "select",
        "height": 800,
        "legend": {
         "title": {
          "text": "species"
         },
         "tracegroupgap": 0
        },
        "template": {
         "data": {
          "bar": [
           {
            "error_x": {
             "color": "#2a3f5f"
            },
            "error_y": {
             "color": "#2a3f5f"
            },
            "marker": {
             "line": {
              "color": "#E5ECF6",
              "width": 0.5
             },
             "pattern": {
              "fillmode": "overlay",
              "size": 10,
              "solidity": 0.2
             }
            },
            "type": "bar"
           }
          ],
          "barpolar": [
           {
            "marker": {
             "line": {
              "color": "#E5ECF6",
              "width": 0.5
             },
             "pattern": {
              "fillmode": "overlay",
              "size": 10,
              "solidity": 0.2
             }
            },
            "type": "barpolar"
           }
          ],
          "carpet": [
           {
            "aaxis": {
             "endlinecolor": "#2a3f5f",
             "gridcolor": "white",
             "linecolor": "white",
             "minorgridcolor": "white",
             "startlinecolor": "#2a3f5f"
            },
            "baxis": {
             "endlinecolor": "#2a3f5f",
             "gridcolor": "white",
             "linecolor": "white",
             "minorgridcolor": "white",
             "startlinecolor": "#2a3f5f"
            },
            "type": "carpet"
           }
          ],
          "choropleth": [
           {
            "colorbar": {
             "outlinewidth": 0,
             "ticks": ""
            },
            "type": "choropleth"
           }
          ],
          "contour": [
           {
            "colorbar": {
             "outlinewidth": 0,
             "ticks": ""
            },
            "colorscale": [
             [
              0,
              "#0d0887"
             ],
             [
              0.1111111111111111,
              "#46039f"
             ],
             [
              0.2222222222222222,
              "#7201a8"
             ],
             [
              0.3333333333333333,
              "#9c179e"
             ],
             [
              0.4444444444444444,
              "#bd3786"
             ],
             [
              0.5555555555555556,
              "#d8576b"
             ],
             [
              0.6666666666666666,
              "#ed7953"
             ],
             [
              0.7777777777777778,
              "#fb9f3a"
             ],
             [
              0.8888888888888888,
              "#fdca26"
             ],
             [
              1,
              "#f0f921"
             ]
            ],
            "type": "contour"
           }
          ],
          "contourcarpet": [
           {
            "colorbar": {
             "outlinewidth": 0,
             "ticks": ""
            },
            "type": "contourcarpet"
           }
          ],
          "heatmap": [
           {
            "colorbar": {
             "outlinewidth": 0,
             "ticks": ""
            },
            "colorscale": [
             [
              0,
              "#0d0887"
             ],
             [
              0.1111111111111111,
              "#46039f"
             ],
             [
              0.2222222222222222,
              "#7201a8"
             ],
             [
              0.3333333333333333,
              "#9c179e"
             ],
             [
              0.4444444444444444,
              "#bd3786"
             ],
             [
              0.5555555555555556,
              "#d8576b"
             ],
             [
              0.6666666666666666,
              "#ed7953"
             ],
             [
              0.7777777777777778,
              "#fb9f3a"
             ],
             [
              0.8888888888888888,
              "#fdca26"
             ],
             [
              1,
              "#f0f921"
             ]
            ],
            "type": "heatmap"
           }
          ],
          "histogram": [
           {
            "marker": {
             "pattern": {
              "fillmode": "overlay",
              "size": 10,
              "solidity": 0.2
             }
            },
            "type": "histogram"
           }
          ],
          "histogram2d": [
           {
            "colorbar": {
             "outlinewidth": 0,
             "ticks": ""
            },
            "colorscale": [
             [
              0,
              "#0d0887"
             ],
             [
              0.1111111111111111,
              "#46039f"
             ],
             [
              0.2222222222222222,
              "#7201a8"
             ],
             [
              0.3333333333333333,
              "#9c179e"
             ],
             [
              0.4444444444444444,
              "#bd3786"
             ],
             [
              0.5555555555555556,
              "#d8576b"
             ],
             [
              0.6666666666666666,
              "#ed7953"
             ],
             [
              0.7777777777777778,
              "#fb9f3a"
             ],
             [
              0.8888888888888888,
              "#fdca26"
             ],
             [
              1,
              "#f0f921"
             ]
            ],
            "type": "histogram2d"
           }
          ],
          "histogram2dcontour": [
           {
            "colorbar": {
             "outlinewidth": 0,
             "ticks": ""
            },
            "colorscale": [
             [
              0,
              "#0d0887"
             ],
             [
              0.1111111111111111,
              "#46039f"
             ],
             [
              0.2222222222222222,
              "#7201a8"
             ],
             [
              0.3333333333333333,
              "#9c179e"
             ],
             [
              0.4444444444444444,
              "#bd3786"
             ],
             [
              0.5555555555555556,
              "#d8576b"
             ],
             [
              0.6666666666666666,
              "#ed7953"
             ],
             [
              0.7777777777777778,
              "#fb9f3a"
             ],
             [
              0.8888888888888888,
              "#fdca26"
             ],
             [
              1,
              "#f0f921"
             ]
            ],
            "type": "histogram2dcontour"
           }
          ],
          "mesh3d": [
           {
            "colorbar": {
             "outlinewidth": 0,
             "ticks": ""
            },
            "type": "mesh3d"
           }
          ],
          "parcoords": [
           {
            "line": {
             "colorbar": {
              "outlinewidth": 0,
              "ticks": ""
             }
            },
            "type": "parcoords"
           }
          ],
          "pie": [
           {
            "automargin": true,
            "type": "pie"
           }
          ],
          "scatter": [
           {
            "fillpattern": {
             "fillmode": "overlay",
             "size": 10,
             "solidity": 0.2
            },
            "type": "scatter"
           }
          ],
          "scatter3d": [
           {
            "line": {
             "colorbar": {
              "outlinewidth": 0,
              "ticks": ""
             }
            },
            "marker": {
             "colorbar": {
              "outlinewidth": 0,
              "ticks": ""
             }
            },
            "type": "scatter3d"
           }
          ],
          "scattercarpet": [
           {
            "marker": {
             "colorbar": {
              "outlinewidth": 0,
              "ticks": ""
             }
            },
            "type": "scattercarpet"
           }
          ],
          "scattergeo": [
           {
            "marker": {
             "colorbar": {
              "outlinewidth": 0,
              "ticks": ""
             }
            },
            "type": "scattergeo"
           }
          ],
          "scattergl": [
           {
            "marker": {
             "colorbar": {
              "outlinewidth": 0,
              "ticks": ""
             }
            },
            "type": "scattergl"
           }
          ],
          "scattermap": [
           {
            "marker": {
             "colorbar": {
              "outlinewidth": 0,
              "ticks": ""
             }
            },
            "type": "scattermap"
           }
          ],
          "scattermapbox": [
           {
            "marker": {
             "colorbar": {
              "outlinewidth": 0,
              "ticks": ""
             }
            },
            "type": "scattermapbox"
           }
          ],
          "scatterpolar": [
           {
            "marker": {
             "colorbar": {
              "outlinewidth": 0,
              "ticks": ""
             }
            },
            "type": "scatterpolar"
           }
          ],
          "scatterpolargl": [
           {
            "marker": {
             "colorbar": {
              "outlinewidth": 0,
              "ticks": ""
             }
            },
            "type": "scatterpolargl"
           }
          ],
          "scatterternary": [
           {
            "marker": {
             "colorbar": {
              "outlinewidth": 0,
              "ticks": ""
             }
            },
            "type": "scatterternary"
           }
          ],
          "surface": [
           {
            "colorbar": {
             "outlinewidth": 0,
             "ticks": ""
            },
            "colorscale": [
             [
              0,
              "#0d0887"
             ],
             [
              0.1111111111111111,
              "#46039f"
             ],
             [
              0.2222222222222222,
              "#7201a8"
             ],
             [
              0.3333333333333333,
              "#9c179e"
             ],
             [
              0.4444444444444444,
              "#bd3786"
             ],
             [
              0.5555555555555556,
              "#d8576b"
             ],
             [
              0.6666666666666666,
              "#ed7953"
             ],
             [
              0.7777777777777778,
              "#fb9f3a"
             ],
             [
              0.8888888888888888,
              "#fdca26"
             ],
             [
              1,
              "#f0f921"
             ]
            ],
            "type": "surface"
           }
          ],
          "table": [
           {
            "cells": {
             "fill": {
              "color": "#EBF0F8"
             },
             "line": {
              "color": "white"
             }
            },
            "header": {
             "fill": {
              "color": "#C8D4E3"
             },
             "line": {
              "color": "white"
             }
            },
            "type": "table"
           }
          ]
         },
         "layout": {
          "annotationdefaults": {
           "arrowcolor": "#2a3f5f",
           "arrowhead": 0,
           "arrowwidth": 1
          },
          "autotypenumbers": "strict",
          "coloraxis": {
           "colorbar": {
            "outlinewidth": 0,
            "ticks": ""
           }
          },
          "colorscale": {
           "diverging": [
            [
             0,
             "#8e0152"
            ],
            [
             0.1,
             "#c51b7d"
            ],
            [
             0.2,
             "#de77ae"
            ],
            [
             0.3,
             "#f1b6da"
            ],
            [
             0.4,
             "#fde0ef"
            ],
            [
             0.5,
             "#f7f7f7"
            ],
            [
             0.6,
             "#e6f5d0"
            ],
            [
             0.7,
             "#b8e186"
            ],
            [
             0.8,
             "#7fbc41"
            ],
            [
             0.9,
             "#4d9221"
            ],
            [
             1,
             "#276419"
            ]
           ],
           "sequential": [
            [
             0,
             "#0d0887"
            ],
            [
             0.1111111111111111,
             "#46039f"
            ],
            [
             0.2222222222222222,
             "#7201a8"
            ],
            [
             0.3333333333333333,
             "#9c179e"
            ],
            [
             0.4444444444444444,
             "#bd3786"
            ],
            [
             0.5555555555555556,
             "#d8576b"
            ],
            [
             0.6666666666666666,
             "#ed7953"
            ],
            [
             0.7777777777777778,
             "#fb9f3a"
            ],
            [
             0.8888888888888888,
             "#fdca26"
            ],
            [
             1,
             "#f0f921"
            ]
           ],
           "sequentialminus": [
            [
             0,
             "#0d0887"
            ],
            [
             0.1111111111111111,
             "#46039f"
            ],
            [
             0.2222222222222222,
             "#7201a8"
            ],
            [
             0.3333333333333333,
             "#9c179e"
            ],
            [
             0.4444444444444444,
             "#bd3786"
            ],
            [
             0.5555555555555556,
             "#d8576b"
            ],
            [
             0.6666666666666666,
             "#ed7953"
            ],
            [
             0.7777777777777778,
             "#fb9f3a"
            ],
            [
             0.8888888888888888,
             "#fdca26"
            ],
            [
             1,
             "#f0f921"
            ]
           ]
          },
          "colorway": [
           "#636efa",
           "#EF553B",
           "#00cc96",
           "#ab63fa",
           "#FFA15A",
           "#19d3f3",
           "#FF6692",
           "#B6E880",
           "#FF97FF",
           "#FECB52"
          ],
          "font": {
           "color": "#2a3f5f"
          },
          "geo": {
           "bgcolor": "white",
           "lakecolor": "white",
           "landcolor": "#E5ECF6",
           "showlakes": true,
           "showland": true,
           "subunitcolor": "white"
          },
          "hoverlabel": {
           "align": "left"
          },
          "hovermode": "closest",
          "mapbox": {
           "style": "light"
          },
          "paper_bgcolor": "white",
          "plot_bgcolor": "#E5ECF6",
          "polar": {
           "angularaxis": {
            "gridcolor": "white",
            "linecolor": "white",
            "ticks": ""
           },
           "bgcolor": "#E5ECF6",
           "radialaxis": {
            "gridcolor": "white",
            "linecolor": "white",
            "ticks": ""
           }
          },
          "scene": {
           "xaxis": {
            "backgroundcolor": "#E5ECF6",
            "gridcolor": "white",
            "gridwidth": 2,
            "linecolor": "white",
            "showbackground": true,
            "ticks": "",
            "zerolinecolor": "white"
           },
           "yaxis": {
            "backgroundcolor": "#E5ECF6",
            "gridcolor": "white",
            "gridwidth": 2,
            "linecolor": "white",
            "showbackground": true,
            "ticks": "",
            "zerolinecolor": "white"
           },
           "zaxis": {
            "backgroundcolor": "#E5ECF6",
            "gridcolor": "white",
            "gridwidth": 2,
            "linecolor": "white",
            "showbackground": true,
            "ticks": "",
            "zerolinecolor": "white"
           }
          },
          "shapedefaults": {
           "line": {
            "color": "#2a3f5f"
           }
          },
          "ternary": {
           "aaxis": {
            "gridcolor": "white",
            "linecolor": "white",
            "ticks": ""
           },
           "baxis": {
            "gridcolor": "white",
            "linecolor": "white",
            "ticks": ""
           },
           "bgcolor": "#E5ECF6",
           "caxis": {
            "gridcolor": "white",
            "linecolor": "white",
            "ticks": ""
           }
          },
          "title": {
           "x": 0.05
          },
          "xaxis": {
           "automargin": true,
           "gridcolor": "white",
           "linecolor": "white",
           "ticks": "",
           "title": {
            "standoff": 15
           },
           "zerolinecolor": "white",
           "zerolinewidth": 2
          },
          "yaxis": {
           "automargin": true,
           "gridcolor": "white",
           "linecolor": "white",
           "ticks": "",
           "title": {
            "standoff": 15
           },
           "zerolinecolor": "white",
           "zerolinewidth": 2
          }
         }
        },
        "title": {
         "text": "Iris Dataset: Scatter Matrix Plot"
        }
       }
      }
     },
     "metadata": {},
     "output_type": "display_data"
    }
   ],
   "source": [
    "import plotly.express as px\n",
    "\n",
    "# Load the \"iris\" dataset from Plotly\n",
    "iris = px.data.iris()\n",
    "\n",
    "# Plot a scatter matrix plot using Plotly express\n",
    "fig = px.scatter_matrix(iris, \n",
    "                        dimensions=[\"sepal_length\", \"sepal_width\", \"petal_length\", \"petal_width\"],\n",
    "                        color=\"species\", title=\"Iris Dataset: Scatter Matrix Plot\")\n",
    "\n",
    "# Updating the height of figure\n",
    "fig.update_layout(height=800)\n",
    "\n",
    "fig.show()"
   ]
  },
  {
   "cell_type": "markdown",
   "id": "91d16a51",
   "metadata": {},
   "source": [
    "Question 5: What is Distplot? Using Plotly express, plot a distplot\n",
    "\n",
    "Answer :\n",
    "\n",
    "A Distplot or distribution plot, depicts the variation in the data distribution. Seaborn Distplot represents the overall distribution of continuous data variables.\n",
    "\n",
    "The Seaborn module along with the Matplotlib module is used to depict the distplot with different variations in it. The Distplot depicts the data by a histogram and a line in combination to it.\n",
    "\n",
    "Plotly express has px.histogram as the function"
   ]
  },
  {
   "cell_type": "code",
   "execution_count": 9,
   "id": "393a5f3d",
   "metadata": {},
   "outputs": [
    {
     "data": {
      "application/vnd.plotly.v1+json": {
       "config": {
        "plotlyServerURL": "https://plot.ly"
       },
       "data": [
        {
         "bingroup": "x",
         "histfunc": "sum",
         "hovertemplate": "sex=Female<br>total_bill=%{x}<br>sum of tip=%{y}<extra></extra>",
         "legendgroup": "Female",
         "marker": {
          "color": "#636efa",
          "pattern": {
           "shape": ""
          }
         },
         "name": "Female",
         "orientation": "v",
         "showlegend": true,
         "type": "histogram",
         "x": {
          "bdata": "PQrXo3D9MEDXo3A9Cpc4QOF6FK5HoUFAKVyPwvWoLUApXI/C9agkQLgehetR+DBACtejcD1KNEAK16NwPYovQGZmZmZmpjNAH4XrUbgeLkBxPQrXo7A0QK5H4XoU7jBAFK5H4XqUJEBI4XoUrmdBQClcj8L1aDpAMzMzMzNzMECPwvUoXI8IQFK4HoXrETFAXI/C9SjcOkBI4XoUrkc5QPYoXI/CdS1ApHA9CtcjJEAK16NwPWpBQAAAAAAAABdAUrgehetRMEAAAAAAAMA2QDMzMzMzsyZAw/UoXI/CLkBmZmZmZiZGQOxRuB6FazZA7FG4HoXrNEAfhetRuJ4sQAAAAAAAAB1A9ihcj8K1OUCPwvUoXE8xQM3MzMzMTCVAXI/C9SjcKEAUrkfhehQ4QNejcD0K1ypA9ihcj8L1KEDNzMzMzMw9QArXo3A9Ci1Aw/UoXI/CJkCF61G4HkU0QNejcD0KVyZAhetRuB6FKEDD9Shcj0IyQIXrUbgeBSFAKVyPwvWoJEDNzMzMzEwsQFK4HoXrUSpAuB6F61F4MUDNzMzMzAw7QK5H4XoUbjBAMzMzMzOzIECkcD0K16MyQD0K16NwvSdAmpmZmZnZPUAAAAAAAAA5QEjhehSuxypA9ihcj8I1MEDD9Shcj4IxQK5H4XoULiVAw/UoXI9CJUAzMzMzMzMjQGZmZmZm5jRAZmZmZmYmMkCPwvUoXM8zQK5H4XoUjkVAAAAAAAAAKkB7FK5H4XopQAAAAAAAACpAZmZmZmZmMEC4HoXrUXgwQIXrUbgehSlACtejcD2KKkDsUbgehSs8QM3MzMzMzClApHA9CtcjPkDXo3A9CtcqQPYoXI/C9S9AhetRuB5FMECuR+F6FC4kQB+F61G4HjZACtejcD3qQUCuR+F6FC47QEjhehSuxzJA",
          "dtype": "f8"
         },
         "xaxis": "x",
         "y": {
          "bdata": "KVyPwvUo8D/hehSuR+EMQAAAAAAAABRAKVyPwvUoCEC4HoXrUbj6PwAAAAAAAAxAAAAAAAAABkDXo3A9CtcBQAAAAAAAAAhAAAAAAAAACECamZmZmZkDQI/C9ShcjwhAzczMzMzMBEDNzMzMzMwUQAAAAAAAAPg/w/UoXI/CA0AAAAAAAADwPwAAAAAAAAhAH4XrUbgeCUAAAAAAAAAUQJqZmZmZmQFASOF6FK5H/T+uR+F6FK4UQAAAAAAAAPA/MzMzMzMzEUAAAAAAAAAKQAAAAAAAAARAAAAAAAAACEAAAAAAAAAEQNejcD0K1wtAUrgehetREEAAAAAAAAAQQAAAAAAAAPA/AAAAAAAAEEAAAAAAAAAMQAAAAAAAAPg/zczMzMzM/D9cj8L1KFwHQOF6FK5H4fo/KVyPwvUoBEDNzMzMzMwQQAAAAAAAAABAAAAAAAAAAECkcD0K16MGQAAAAAAAAPg/AAAAAAAAAEAAAAAAAAAKQAAAAAAAAPQ/AAAAAAAAAEAAAAAAAAAAQAAAAAAAAAZAAAAAAAAADEAAAAAAAAAUQGZmZmZmZgJAAAAAAAAA+D/D9Shcj8L1PxSuR+F6FPo/j8L1KFyPFEAAAAAAAAAOQOF6FK5H4QRAAAAAAAAAAEAAAAAAAAAIQMP1KFyPwvk/AAAAAAAAAEAAAAAAAAAQQAAAAAAAAAxAAAAAAAAADEDD9Shcj8IQQAAAAAAAABRAAAAAAAAAAEAUrkfhehQAQAAAAAAAAABAAAAAAAAABEDXo3A9CtcJQNejcD0K1wFAAAAAAAAABEAAAAAAAAAaQJqZmZmZmfE/uB6F61G4CEDXo3A9CtcLQAAAAAAAAAhAAAAAAAAABEAAAAAAAAAAQArXo3A9CgdArkfhehSuEkAAAAAAAAAAQAAAAAAAAAhA",
          "dtype": "f8"
         },
         "yaxis": "y"
        },
        {
         "customdata": [
          [
           "Female",
           "No",
           "Sun",
           "Dinner",
           2
          ],
          [
           "Female",
           "No",
           "Sun",
           "Dinner",
           4
          ],
          [
           "Female",
           "No",
           "Sun",
           "Dinner",
           4
          ],
          [
           "Female",
           "No",
           "Sun",
           "Dinner",
           2
          ],
          [
           "Female",
           "No",
           "Sun",
           "Dinner",
           3
          ],
          [
           "Female",
           "No",
           "Sun",
           "Dinner",
           3
          ],
          [
           "Female",
           "No",
           "Sat",
           "Dinner",
           2
          ],
          [
           "Female",
           "No",
           "Sat",
           "Dinner",
           2
          ],
          [
           "Female",
           "No",
           "Sat",
           "Dinner",
           2
          ],
          [
           "Female",
           "No",
           "Sat",
           "Dinner",
           2
          ],
          [
           "Female",
           "No",
           "Sat",
           "Dinner",
           4
          ],
          [
           "Female",
           "No",
           "Sat",
           "Dinner",
           3
          ],
          [
           "Female",
           "No",
           "Sun",
           "Dinner",
           2
          ],
          [
           "Female",
           "No",
           "Sun",
           "Dinner",
           4
          ],
          [
           "Female",
           "No",
           "Sat",
           "Dinner",
           2
          ],
          [
           "Female",
           "No",
           "Sat",
           "Dinner",
           2
          ],
          [
           "Female",
           "Yes",
           "Sat",
           "Dinner",
           1
          ],
          [
           "Female",
           "No",
           "Sat",
           "Dinner",
           3
          ],
          [
           "Female",
           "Yes",
           "Sat",
           "Dinner",
           2
          ],
          [
           "Female",
           "Yes",
           "Sat",
           "Dinner",
           2
          ],
          [
           "Female",
           "No",
           "Sat",
           "Dinner",
           2
          ],
          [
           "Female",
           "No",
           "Thur",
           "Lunch",
           1
          ],
          [
           "Female",
           "No",
           "Thur",
           "Lunch",
           4
          ],
          [
           "Female",
           "Yes",
           "Fri",
           "Dinner",
           2
          ],
          [
           "Female",
           "Yes",
           "Fri",
           "Dinner",
           2
          ],
          [
           "Female",
           "No",
           "Fri",
           "Dinner",
           2
          ],
          [
           "Female",
           "Yes",
           "Fri",
           "Dinner",
           2
          ],
          [
           "Female",
           "Yes",
           "Fri",
           "Dinner",
           2
          ],
          [
           "Female",
           "Yes",
           "Sat",
           "Dinner",
           3
          ],
          [
           "Female",
           "Yes",
           "Sat",
           "Dinner",
           2
          ],
          [
           "Female",
           "No",
           "Sat",
           "Dinner",
           2
          ],
          [
           "Female",
           "Yes",
           "Sat",
           "Dinner",
           2
          ],
          [
           "Female",
           "No",
           "Sat",
           "Dinner",
           1
          ],
          [
           "Female",
           "No",
           "Sun",
           "Dinner",
           3
          ],
          [
           "Female",
           "No",
           "Sun",
           "Dinner",
           2
          ],
          [
           "Female",
           "No",
           "Thur",
           "Lunch",
           2
          ],
          [
           "Female",
           "No",
           "Thur",
           "Lunch",
           2
          ],
          [
           "Female",
           "No",
           "Thur",
           "Lunch",
           4
          ],
          [
           "Female",
           "No",
           "Thur",
           "Lunch",
           2
          ],
          [
           "Female",
           "No",
           "Thur",
           "Lunch",
           2
          ],
          [
           "Female",
           "No",
           "Thur",
           "Lunch",
           6
          ],
          [
           "Female",
           "No",
           "Thur",
           "Lunch",
           2
          ],
          [
           "Female",
           "No",
           "Thur",
           "Lunch",
           2
          ],
          [
           "Female",
           "No",
           "Thur",
           "Lunch",
           2
          ],
          [
           "Female",
           "No",
           "Thur",
           "Lunch",
           2
          ],
          [
           "Female",
           "No",
           "Thur",
           "Lunch",
           2
          ],
          [
           "Female",
           "No",
           "Thur",
           "Lunch",
           2
          ],
          [
           "Female",
           "No",
           "Thur",
           "Lunch",
           2
          ],
          [
           "Female",
           "No",
           "Thur",
           "Lunch",
           2
          ],
          [
           "Female",
           "No",
           "Thur",
           "Lunch",
           2
          ],
          [
           "Female",
           "No",
           "Thur",
           "Lunch",
           2
          ],
          [
           "Female",
           "No",
           "Thur",
           "Lunch",
           2
          ],
          [
           "Female",
           "No",
           "Thur",
           "Lunch",
           6
          ],
          [
           "Female",
           "No",
           "Thur",
           "Lunch",
           2
          ],
          [
           "Female",
           "No",
           "Thur",
           "Lunch",
           2
          ],
          [
           "Female",
           "No",
           "Thur",
           "Lunch",
           3
          ],
          [
           "Female",
           "No",
           "Thur",
           "Lunch",
           2
          ],
          [
           "Female",
           "No",
           "Sun",
           "Dinner",
           5
          ],
          [
           "Female",
           "No",
           "Sun",
           "Dinner",
           4
          ],
          [
           "Female",
           "No",
           "Sun",
           "Dinner",
           2
          ],
          [
           "Female",
           "No",
           "Sun",
           "Dinner",
           3
          ],
          [
           "Female",
           "Yes",
           "Sun",
           "Dinner",
           2
          ],
          [
           "Female",
           "Yes",
           "Sat",
           "Dinner",
           2
          ],
          [
           "Female",
           "Yes",
           "Sat",
           "Dinner",
           2
          ],
          [
           "Female",
           "Yes",
           "Sun",
           "Dinner",
           2
          ],
          [
           "Female",
           "Yes",
           "Sun",
           "Dinner",
           3
          ],
          [
           "Female",
           "Yes",
           "Sun",
           "Dinner",
           3
          ],
          [
           "Female",
           "Yes",
           "Thur",
           "Lunch",
           2
          ],
          [
           "Female",
           "Yes",
           "Thur",
           "Lunch",
           4
          ],
          [
           "Female",
           "Yes",
           "Thur",
           "Lunch",
           2
          ],
          [
           "Female",
           "Yes",
           "Thur",
           "Lunch",
           2
          ],
          [
           "Female",
           "Yes",
           "Thur",
           "Lunch",
           2
          ],
          [
           "Female",
           "Yes",
           "Thur",
           "Lunch",
           2
          ],
          [
           "Female",
           "Yes",
           "Thur",
           "Lunch",
           3
          ],
          [
           "Female",
           "Yes",
           "Sat",
           "Dinner",
           2
          ],
          [
           "Female",
           "Yes",
           "Sat",
           "Dinner",
           2
          ],
          [
           "Female",
           "Yes",
           "Sat",
           "Dinner",
           3
          ],
          [
           "Female",
           "Yes",
           "Sat",
           "Dinner",
           2
          ],
          [
           "Female",
           "Yes",
           "Sat",
           "Dinner",
           4
          ],
          [
           "Female",
           "Yes",
           "Fri",
           "Lunch",
           2
          ],
          [
           "Female",
           "No",
           "Fri",
           "Lunch",
           3
          ],
          [
           "Female",
           "Yes",
           "Fri",
           "Lunch",
           2
          ],
          [
           "Female",
           "Yes",
           "Fri",
           "Lunch",
           2
          ],
          [
           "Female",
           "Yes",
           "Sat",
           "Dinner",
           2
          ],
          [
           "Female",
           "No",
           "Sat",
           "Dinner",
           3
          ],
          [
           "Female",
           "Yes",
           "Sat",
           "Dinner",
           2
          ],
          [
           "Female",
           "No",
           "Thur",
           "Dinner",
           2
          ]
         ],
         "hovertemplate": "sex=%{customdata[0]}<br>total_bill=%{x}<br>smoker=%{customdata[1]}<br>day=%{customdata[2]}<br>time=%{customdata[3]}<br>size=%{customdata[4]}<extra></extra>",
         "legendgroup": "Female",
         "marker": {
          "color": "#636efa"
         },
         "name": "Female",
         "notched": true,
         "showlegend": false,
         "type": "box",
         "x": {
          "bdata": "PQrXo3D9MEDXo3A9Cpc4QOF6FK5HoUFAKVyPwvWoLUApXI/C9agkQLgehetR+DBACtejcD1KNEAK16NwPYovQGZmZmZmpjNAH4XrUbgeLkBxPQrXo7A0QK5H4XoU7jBAFK5H4XqUJEBI4XoUrmdBQClcj8L1aDpAMzMzMzNzMECPwvUoXI8IQFK4HoXrETFAXI/C9SjcOkBI4XoUrkc5QPYoXI/CdS1ApHA9CtcjJEAK16NwPWpBQAAAAAAAABdAUrgehetRMEAAAAAAAMA2QDMzMzMzsyZAw/UoXI/CLkBmZmZmZiZGQOxRuB6FazZA7FG4HoXrNEAfhetRuJ4sQAAAAAAAAB1A9ihcj8K1OUCPwvUoXE8xQM3MzMzMTCVAXI/C9SjcKEAUrkfhehQ4QNejcD0K1ypA9ihcj8L1KEDNzMzMzMw9QArXo3A9Ci1Aw/UoXI/CJkCF61G4HkU0QNejcD0KVyZAhetRuB6FKEDD9Shcj0IyQIXrUbgeBSFAKVyPwvWoJEDNzMzMzEwsQFK4HoXrUSpAuB6F61F4MUDNzMzMzAw7QK5H4XoUbjBAMzMzMzOzIECkcD0K16MyQD0K16NwvSdAmpmZmZnZPUAAAAAAAAA5QEjhehSuxypA9ihcj8I1MEDD9Shcj4IxQK5H4XoULiVAw/UoXI9CJUAzMzMzMzMjQGZmZmZm5jRAZmZmZmYmMkCPwvUoXM8zQK5H4XoUjkVAAAAAAAAAKkB7FK5H4XopQAAAAAAAACpAZmZmZmZmMEC4HoXrUXgwQIXrUbgehSlACtejcD2KKkDsUbgehSs8QM3MzMzMzClApHA9CtcjPkDXo3A9CtcqQPYoXI/C9S9AhetRuB5FMECuR+F6FC4kQB+F61G4HjZACtejcD3qQUCuR+F6FC47QEjhehSuxzJA",
          "dtype": "f8"
         },
         "xaxis": "x2",
         "yaxis": "y2"
        },
        {
         "bingroup": "x",
         "histfunc": "sum",
         "hovertemplate": "sex=Male<br>total_bill=%{x}<br>sum of tip=%{y}<extra></extra>",
         "legendgroup": "Male",
         "marker": {
          "color": "#EF553B",
          "pattern": {
           "shape": ""
          }
         },
         "name": "Male",
         "orientation": "v",
         "showlegend": true,
         "type": "histogram",
         "x": {
          "bdata": "rkfhehSuJEDD9ShcjwI1QK5H4XoUrjdACtejcD1KOUAK16NwPYohQOF6FK5H4TpAFK5H4XoULkCPwvUoXI8tQArXo3A9iiRA16NwPQrXLkCuR+F6FG4yQBSuR+F6lDVACtejcD1KMEBmZmZmZqY0QOxRuB6F6zFA9ihcj8K1Q0BSuB6F69EzQI/C9ShczzFAPQrXo3C9KkDhehSuR2EpQDMzMzMzszVAmpmZmZkZI0CamZmZmVkyQEjhehSuxzFAj8L1KFwPOECPwvUoXE8wQHE9CtejsDJAhetRuB5FP0AK16NwPQowQPYoXI/CdTFA4XoUrkfhK0Bcj8L1KFwjQGZmZmZmZj5ACtejcD1KMkB7FK5H4To2QDMzMzMzM0BAzczMzMyMPEAK16NwPQoyQBSuR+F6FClA4XoUrkfhI0CPwvUoXI85QD0K16NwfTNA4XoUrkcBQ0B7FK5H4XomQMP1KFyPIkhACtejcD1KNEAfhetRuJ4rQArXo3A9CiZACtejcD1KMkDXo3A9CpcxQBSuR+F6FDRAexSuR+E6NECF61G4HgUuQArXo3A9CihAhetRuB4FJUDsUbgehesxQDMzMzMzMztAw/UoXI/CNkAK16NwPUoxQHE9CtejcDNAKVyPwvWoMEDXo3A9CldAQPYoXI/C9S9Aj8L1KFwPKkBI4XoUrkcyQPYoXI/CtThAKVyPwvUoNUC4HoXrUfg8QD0K16NwfTZA9ihcj8IVREBI4XoUrkc7QI/C9ShcDyhAw/UoXI8CNUDsUbgehesoQLgehetRuC5APQrXo3B9NED2KFyPwjU5QD0K16NwPTJAAAAAAAAALEApXI/C9QhDQDMzMzMz8zdArkfhehTuPUDhehSuR2EnQIXrUbgehSxAZmZmZmbmL0AK16NwPQohQFK4HoXr0TZAFK5H4XoUM0AAAAAAAAAwQGZmZmZmJkFAuB6F61GYRECPwvUoXI8jQArXo3A9Ch5ApHA9CtcjLEDD9Shcj0IqQMP1KFyPQjFAzczMzMyMOECF61G4HsUzQPYoXI/CFUhAPQrXo3B9MEAAAAAAAIA1QFK4HoXrUSlAH4XrUbieK0CF61G4HoU4QMP1KFyPwjRA9ihcj8K1P0BI4XoUrmdJQB+F61G4ni9AAAAAAAAAHUCamZmZmdk/QFK4HoXr0TBAMzMzMzNzQECkcD0K1+MxQPYoXI/C9SxAcT0K16NQQUAzMzMzM1NBQBSuR+F6VDdAzczMzMysRkDsUbgehSs3QGZmZmZmRkRAcT0K16OwNED2KFyPwnU+QJqZmZmZGTdA4XoUrkdhL0BxPQrXo3A8QPYoXI/C9S5AFK5H4XqUMEA9CtejcD0eQK5H4XoUriRAhetRuB4FK0D2KFyPwrUyQEjhehSuhzRA16NwPQqXOkA9CtejcF1DQIXrUbgeRThAj8L1KFwPPkCkcD0K1+M5QArXo3A9KkhAZmZmZmYmPECuR+F6FC4nQPYoXI/C9R5AUrgehetRKEApXI/C9SghQNejcD0K1ypAMzMzMzNzNECPwvUoXI8qQMP1KFyPAjhA4XoUrkdhL0C4HoXrUTgnQArXo3A9iiVAj8L1KFwPL0CkcD0K1yMkQDMzMzMzMylACtejcD1qQEBI4XoUrgc9QOxRuB6FqzZAUrgehevRMUA=",
          "dtype": "f8"
         },
         "xaxis": "x",
         "y": {
          "bdata": "j8L1KFyP+j8AAAAAAAAMQHsUrkfhegpA16NwPQrXEkAAAAAAAAAAQPYoXI/C9QhAXI/C9Shc/z/Xo3A9CtcJQFyPwvUoXPs/H4XrUbge+T8AAAAAAAAIQFyPwvUoXA9ArkfhehSuDUDNzMzMzMwKQFK4HoXrURBAUrgehetRHkBxPQrXo3AJQLgehetRuAJAAAAAAAAAAEAAAAAAAAAAQDMzMzMzMxFAMzMzMzMz9z8AAAAAAAAEQClcj8L1KApAzczMzMzMDEAAAAAAAAAAQHsUrkfhegJAAAAAAAAAFEDsUbgehesBQFK4HoXrUQRAexSuR+F6CEAfhetRuB71P2ZmZmZmZhZAAAAAAAAACEAAAAAAAAAUQAAAAAAAABhAZmZmZmZmAEAAAAAAAAAIQAAAAAAAAARA9ihcj8L1+D9cj8L1KFwRQBSuR+F6FAxAAAAAAAAACEApXI/C9Sj8P+xRuB6F6xpArkfhehSuCUAAAAAAAAAAQK5H4XoUrv8/FK5H4XoUDkAfhetRuB4FQDMzMzMzMwlAFK5H4XoUAEC4HoXrUbgAQIXrUbgehf8/AAAAAAAA9D+kcD0K16MIQAAAAAAAABBAAAAAAAAACECuR+F6FK4FQAAAAAAAAAhAMzMzMzMzC0AAAAAAAAAUQD0K16NwPQBAAAAAAAAAAEAAAAAAAAAQQGZmZmZmZhdAAAAAAAAACEAAAAAAAAAIQAAAAAAAAAxA7FG4HoXrEkAAAAAAAAAQQAAAAAAAAPg/AAAAAAAACEAAAAAAAAD4Pz0K16NwPfo/PQrXo3A9EEApXI/C9SgRQBSuR+F6FA5AAAAAAAAACEAAAAAAAAAQQGZmZmZmZgRASOF6FK5HFEB7FK5H4XoCQAAAAAAAAARAAAAAAAAAAECuR+F6FK73P3E9CtejcAFAAAAAAAAA+D8AAAAAAAAAQM3MzMzMzBpAAAAAAAAAFECuR+F6FK77PwAAAAAAAABAAAAAAAAABEAAAAAAAAAAQOxRuB6F6wVAAAAAAAAAAEAAAAAAAAAAQAAAAAAAABRAAAAAAAAAAEAAAAAAAAAMQAAAAAAAAARAAAAAAAAAAEDXo3A9CtcLQOxRuB6F6wFAAAAAAAAAEkAAAAAAAAAkQEjhehSuRwlAmpmZmZmZFEBxPQrXo3AJQAAAAAAAABBA4XoUrkfhCEAAAAAAAAAAQAAAAAAAAABAZmZmZmZmDEBxPQrXo3ANQJqZmZmZmRZAAAAAAAAADEAAAAAAAAAaQAAAAAAAAAhAAAAAAAAAFEAAAAAAAAAAQAAAAAAAABBAAAAAAAAA+D97FK5H4XoEQClcj8L1KABAAAAAAAAAEEAK16NwPQr3PwAAAAAAAABAAAAAAAAAAEAAAAAAAAAQQAAAAAAAABBASOF6FK5HC0AAAAAAAAAIQD0K16NwPQBAAAAAAAAAAECkcD0K16MUQAAAAAAAACJAAAAAAAAACEAAAAAAAAD4PwrXo3A9Cvc/mpmZmZmZAUC4HoXrUbj+P0jhehSuR/k/AAAAAAAACEDD9Shcj8IFQAAAAAAAAABAAAAAAAAACEAfhetRuB4LQIXrUbgehfc/AAAAAAAACEAAAAAAAAD0PwAAAAAAAPA/uB6F61G48j+uR+F6FK4XQAAAAAAAAABAAAAAAAAA/D8=",
          "dtype": "f8"
         },
         "yaxis": "y"
        },
        {
         "customdata": [
          [
           "Male",
           "No",
           "Sun",
           "Dinner",
           3
          ],
          [
           "Male",
           "No",
           "Sun",
           "Dinner",
           3
          ],
          [
           "Male",
           "No",
           "Sun",
           "Dinner",
           2
          ],
          [
           "Male",
           "No",
           "Sun",
           "Dinner",
           4
          ],
          [
           "Male",
           "No",
           "Sun",
           "Dinner",
           2
          ],
          [
           "Male",
           "No",
           "Sun",
           "Dinner",
           4
          ],
          [
           "Male",
           "No",
           "Sun",
           "Dinner",
           2
          ],
          [
           "Male",
           "No",
           "Sun",
           "Dinner",
           2
          ],
          [
           "Male",
           "No",
           "Sun",
           "Dinner",
           2
          ],
          [
           "Male",
           "No",
           "Sun",
           "Dinner",
           2
          ],
          [
           "Male",
           "No",
           "Sun",
           "Dinner",
           4
          ],
          [
           "Male",
           "No",
           "Sun",
           "Dinner",
           2
          ],
          [
           "Male",
           "No",
           "Sun",
           "Dinner",
           3
          ],
          [
           "Male",
           "No",
           "Sat",
           "Dinner",
           3
          ],
          [
           "Male",
           "No",
           "Sat",
           "Dinner",
           2
          ],
          [
           "Male",
           "No",
           "Sat",
           "Dinner",
           4
          ],
          [
           "Male",
           "No",
           "Sat",
           "Dinner",
           2
          ],
          [
           "Male",
           "No",
           "Sat",
           "Dinner",
           4
          ],
          [
           "Male",
           "No",
           "Sat",
           "Dinner",
           2
          ],
          [
           "Male",
           "No",
           "Sat",
           "Dinner",
           2
          ],
          [
           "Male",
           "No",
           "Sat",
           "Dinner",
           2
          ],
          [
           "Male",
           "No",
           "Sat",
           "Dinner",
           2
          ],
          [
           "Male",
           "No",
           "Sat",
           "Dinner",
           4
          ],
          [
           "Male",
           "No",
           "Sat",
           "Dinner",
           2
          ],
          [
           "Male",
           "No",
           "Sat",
           "Dinner",
           3
          ],
          [
           "Male",
           "No",
           "Sat",
           "Dinner",
           3
          ],
          [
           "Male",
           "No",
           "Sat",
           "Dinner",
           3
          ],
          [
           "Male",
           "No",
           "Sat",
           "Dinner",
           3
          ],
          [
           "Male",
           "No",
           "Sat",
           "Dinner",
           3
          ],
          [
           "Male",
           "No",
           "Sun",
           "Dinner",
           2
          ],
          [
           "Male",
           "No",
           "Sun",
           "Dinner",
           2
          ],
          [
           "Male",
           "No",
           "Sun",
           "Dinner",
           2
          ],
          [
           "Male",
           "No",
           "Sun",
           "Dinner",
           4
          ],
          [
           "Male",
           "No",
           "Sun",
           "Dinner",
           2
          ],
          [
           "Male",
           "No",
           "Sun",
           "Dinner",
           2
          ],
          [
           "Male",
           "No",
           "Sun",
           "Dinner",
           4
          ],
          [
           "Male",
           "No",
           "Sun",
           "Dinner",
           3
          ],
          [
           "Male",
           "No",
           "Sun",
           "Dinner",
           2
          ],
          [
           "Male",
           "No",
           "Sun",
           "Dinner",
           2
          ],
          [
           "Male",
           "No",
           "Sun",
           "Dinner",
           2
          ],
          [
           "Male",
           "No",
           "Sun",
           "Dinner",
           4
          ],
          [
           "Male",
           "No",
           "Sun",
           "Dinner",
           2
          ],
          [
           "Male",
           "Yes",
           "Sat",
           "Dinner",
           4
          ],
          [
           "Male",
           "Yes",
           "Sat",
           "Dinner",
           2
          ],
          [
           "Male",
           "No",
           "Sat",
           "Dinner",
           4
          ],
          [
           "Male",
           "Yes",
           "Sat",
           "Dinner",
           2
          ],
          [
           "Male",
           "Yes",
           "Sat",
           "Dinner",
           2
          ],
          [
           "Male",
           "Yes",
           "Sat",
           "Dinner",
           2
          ],
          [
           "Male",
           "Yes",
           "Sat",
           "Dinner",
           4
          ],
          [
           "Male",
           "No",
           "Sat",
           "Dinner",
           3
          ],
          [
           "Male",
           "No",
           "Sat",
           "Dinner",
           3
          ],
          [
           "Male",
           "No",
           "Sat",
           "Dinner",
           2
          ],
          [
           "Male",
           "Yes",
           "Sat",
           "Dinner",
           2
          ],
          [
           "Male",
           "No",
           "Sat",
           "Dinner",
           2
          ],
          [
           "Male",
           "No",
           "Sat",
           "Dinner",
           2
          ],
          [
           "Male",
           "Yes",
           "Sat",
           "Dinner",
           2
          ],
          [
           "Male",
           "No",
           "Thur",
           "Lunch",
           4
          ],
          [
           "Male",
           "No",
           "Thur",
           "Lunch",
           2
          ],
          [
           "Male",
           "No",
           "Thur",
           "Lunch",
           2
          ],
          [
           "Male",
           "Yes",
           "Thur",
           "Lunch",
           2
          ],
          [
           "Male",
           "No",
           "Thur",
           "Lunch",
           2
          ],
          [
           "Male",
           "Yes",
           "Thur",
           "Lunch",
           2
          ],
          [
           "Male",
           "No",
           "Thur",
           "Lunch",
           2
          ],
          [
           "Male",
           "No",
           "Thur",
           "Lunch",
           2
          ],
          [
           "Male",
           "No",
           "Thur",
           "Lunch",
           2
          ],
          [
           "Male",
           "No",
           "Thur",
           "Lunch",
           2
          ],
          [
           "Male",
           "No",
           "Thur",
           "Lunch",
           2
          ],
          [
           "Male",
           "Yes",
           "Fri",
           "Dinner",
           2
          ],
          [
           "Male",
           "No",
           "Fri",
           "Dinner",
           2
          ],
          [
           "Male",
           "Yes",
           "Fri",
           "Dinner",
           4
          ],
          [
           "Male",
           "Yes",
           "Fri",
           "Dinner",
           2
          ],
          [
           "Male",
           "Yes",
           "Fri",
           "Dinner",
           2
          ],
          [
           "Male",
           "Yes",
           "Fri",
           "Dinner",
           2
          ],
          [
           "Male",
           "No",
           "Fri",
           "Dinner",
           2
          ],
          [
           "Male",
           "Yes",
           "Sat",
           "Dinner",
           2
          ],
          [
           "Male",
           "Yes",
           "Sat",
           "Dinner",
           2
          ],
          [
           "Male",
           "Yes",
           "Sat",
           "Dinner",
           2
          ],
          [
           "Male",
           "No",
           "Sat",
           "Dinner",
           2
          ],
          [
           "Male",
           "No",
           "Sat",
           "Dinner",
           2
          ],
          [
           "Male",
           "No",
           "Sun",
           "Dinner",
           3
          ],
          [
           "Male",
           "No",
           "Sun",
           "Dinner",
           2
          ],
          [
           "Male",
           "No",
           "Sun",
           "Dinner",
           4
          ],
          [
           "Male",
           "No",
           "Thur",
           "Lunch",
           2
          ],
          [
           "Male",
           "No",
           "Thur",
           "Lunch",
           2
          ],
          [
           "Male",
           "No",
           "Thur",
           "Lunch",
           2
          ],
          [
           "Male",
           "No",
           "Thur",
           "Lunch",
           2
          ],
          [
           "Male",
           "No",
           "Thur",
           "Lunch",
           3
          ],
          [
           "Male",
           "No",
           "Thur",
           "Lunch",
           2
          ],
          [
           "Male",
           "Yes",
           "Thur",
           "Lunch",
           2
          ],
          [
           "Male",
           "No",
           "Thur",
           "Lunch",
           6
          ],
          [
           "Male",
           "No",
           "Thur",
           "Lunch",
           5
          ],
          [
           "Male",
           "No",
           "Thur",
           "Lunch",
           2
          ],
          [
           "Male",
           "No",
           "Thur",
           "Lunch",
           2
          ],
          [
           "Male",
           "No",
           "Sun",
           "Dinner",
           2
          ],
          [
           "Male",
           "No",
           "Sun",
           "Dinner",
           2
          ],
          [
           "Male",
           "No",
           "Sun",
           "Dinner",
           3
          ],
          [
           "Male",
           "No",
           "Sun",
           "Dinner",
           4
          ],
          [
           "Male",
           "No",
           "Sun",
           "Dinner",
           4
          ],
          [
           "Male",
           "No",
           "Sun",
           "Dinner",
           6
          ],
          [
           "Male",
           "No",
           "Sun",
           "Dinner",
           4
          ],
          [
           "Male",
           "No",
           "Sun",
           "Dinner",
           4
          ],
          [
           "Male",
           "No",
           "Sun",
           "Dinner",
           2
          ],
          [
           "Male",
           "No",
           "Sun",
           "Dinner",
           2
          ],
          [
           "Male",
           "No",
           "Sun",
           "Dinner",
           3
          ],
          [
           "Male",
           "No",
           "Sun",
           "Dinner",
           2
          ],
          [
           "Male",
           "No",
           "Sun",
           "Dinner",
           4
          ],
          [
           "Male",
           "Yes",
           "Sat",
           "Dinner",
           3
          ],
          [
           "Male",
           "Yes",
           "Sat",
           "Dinner",
           2
          ],
          [
           "Male",
           "Yes",
           "Sun",
           "Dinner",
           2
          ],
          [
           "Male",
           "Yes",
           "Sun",
           "Dinner",
           2
          ],
          [
           "Male",
           "Yes",
           "Sun",
           "Dinner",
           2
          ],
          [
           "Male",
           "Yes",
           "Sun",
           "Dinner",
           2
          ],
          [
           "Male",
           "Yes",
           "Sun",
           "Dinner",
           2
          ],
          [
           "Male",
           "Yes",
           "Sun",
           "Dinner",
           2
          ],
          [
           "Male",
           "Yes",
           "Sun",
           "Dinner",
           2
          ],
          [
           "Male",
           "Yes",
           "Sun",
           "Dinner",
           4
          ],
          [
           "Male",
           "Yes",
           "Sun",
           "Dinner",
           2
          ],
          [
           "Male",
           "Yes",
           "Sun",
           "Dinner",
           3
          ],
          [
           "Male",
           "Yes",
           "Sun",
           "Dinner",
           4
          ],
          [
           "Male",
           "Yes",
           "Sun",
           "Dinner",
           2
          ],
          [
           "Male",
           "No",
           "Sun",
           "Dinner",
           5
          ],
          [
           "Male",
           "Yes",
           "Sun",
           "Dinner",
           5
          ],
          [
           "Male",
           "Yes",
           "Sun",
           "Dinner",
           3
          ],
          [
           "Male",
           "Yes",
           "Sun",
           "Dinner",
           2
          ],
          [
           "Male",
           "Yes",
           "Thur",
           "Lunch",
           2
          ],
          [
           "Male",
           "Yes",
           "Thur",
           "Lunch",
           2
          ],
          [
           "Male",
           "Yes",
           "Thur",
           "Lunch",
           2
          ],
          [
           "Male",
           "No",
           "Thur",
           "Lunch",
           2
          ],
          [
           "Male",
           "Yes",
           "Thur",
           "Lunch",
           2
          ],
          [
           "Male",
           "Yes",
           "Thur",
           "Lunch",
           2
          ],
          [
           "Male",
           "Yes",
           "Thur",
           "Lunch",
           3
          ],
          [
           "Male",
           "Yes",
           "Thur",
           "Lunch",
           4
          ],
          [
           "Male",
           "Yes",
           "Sat",
           "Dinner",
           3
          ],
          [
           "Male",
           "Yes",
           "Sat",
           "Dinner",
           4
          ],
          [
           "Male",
           "Yes",
           "Sat",
           "Dinner",
           2
          ],
          [
           "Male",
           "Yes",
           "Sat",
           "Dinner",
           3
          ],
          [
           "Male",
           "Yes",
           "Sat",
           "Dinner",
           4
          ],
          [
           "Male",
           "No",
           "Sat",
           "Dinner",
           4
          ],
          [
           "Male",
           "Yes",
           "Sat",
           "Dinner",
           5
          ],
          [
           "Male",
           "Yes",
           "Sat",
           "Dinner",
           2
          ],
          [
           "Male",
           "Yes",
           "Sat",
           "Dinner",
           2
          ],
          [
           "Male",
           "Yes",
           "Fri",
           "Lunch",
           2
          ],
          [
           "Male",
           "Yes",
           "Fri",
           "Lunch",
           1
          ],
          [
           "Male",
           "Yes",
           "Fri",
           "Lunch",
           2
          ],
          [
           "Male",
           "No",
           "Sat",
           "Dinner",
           4
          ],
          [
           "Male",
           "No",
           "Sat",
           "Dinner",
           2
          ],
          [
           "Male",
           "Yes",
           "Sat",
           "Dinner",
           4
          ],
          [
           "Male",
           "Yes",
           "Sat",
           "Dinner",
           3
          ],
          [
           "Male",
           "No",
           "Sat",
           "Dinner",
           2
          ],
          [
           "Male",
           "No",
           "Sat",
           "Dinner",
           2
          ],
          [
           "Male",
           "Yes",
           "Sat",
           "Dinner",
           2
          ],
          [
           "Male",
           "No",
           "Sat",
           "Dinner",
           2
          ],
          [
           "Male",
           "Yes",
           "Sat",
           "Dinner",
           2
          ],
          [
           "Male",
           "Yes",
           "Sat",
           "Dinner",
           2
          ],
          [
           "Male",
           "No",
           "Sat",
           "Dinner",
           3
          ],
          [
           "Male",
           "Yes",
           "Sat",
           "Dinner",
           2
          ],
          [
           "Male",
           "No",
           "Sat",
           "Dinner",
           2
          ]
         ],
         "hovertemplate": "sex=%{customdata[0]}<br>total_bill=%{x}<br>smoker=%{customdata[1]}<br>day=%{customdata[2]}<br>time=%{customdata[3]}<br>size=%{customdata[4]}<extra></extra>",
         "legendgroup": "Male",
         "marker": {
          "color": "#EF553B"
         },
         "name": "Male",
         "notched": true,
         "showlegend": false,
         "type": "box",
         "x": {
          "bdata": "rkfhehSuJEDD9ShcjwI1QK5H4XoUrjdACtejcD1KOUAK16NwPYohQOF6FK5H4TpAFK5H4XoULkCPwvUoXI8tQArXo3A9iiRA16NwPQrXLkCuR+F6FG4yQBSuR+F6lDVACtejcD1KMEBmZmZmZqY0QOxRuB6F6zFA9ihcj8K1Q0BSuB6F69EzQI/C9ShczzFAPQrXo3C9KkDhehSuR2EpQDMzMzMzszVAmpmZmZkZI0CamZmZmVkyQEjhehSuxzFAj8L1KFwPOECPwvUoXE8wQHE9CtejsDJAhetRuB5FP0AK16NwPQowQPYoXI/CdTFA4XoUrkfhK0Bcj8L1KFwjQGZmZmZmZj5ACtejcD1KMkB7FK5H4To2QDMzMzMzM0BAzczMzMyMPEAK16NwPQoyQBSuR+F6FClA4XoUrkfhI0CPwvUoXI85QD0K16NwfTNA4XoUrkcBQ0B7FK5H4XomQMP1KFyPIkhACtejcD1KNEAfhetRuJ4rQArXo3A9CiZACtejcD1KMkDXo3A9CpcxQBSuR+F6FDRAexSuR+E6NECF61G4HgUuQArXo3A9CihAhetRuB4FJUDsUbgehesxQDMzMzMzMztAw/UoXI/CNkAK16NwPUoxQHE9CtejcDNAKVyPwvWoMEDXo3A9CldAQPYoXI/C9S9Aj8L1KFwPKkBI4XoUrkcyQPYoXI/CtThAKVyPwvUoNUC4HoXrUfg8QD0K16NwfTZA9ihcj8IVREBI4XoUrkc7QI/C9ShcDyhAw/UoXI8CNUDsUbgehesoQLgehetRuC5APQrXo3B9NED2KFyPwjU5QD0K16NwPTJAAAAAAAAALEApXI/C9QhDQDMzMzMz8zdArkfhehTuPUDhehSuR2EnQIXrUbgehSxAZmZmZmbmL0AK16NwPQohQFK4HoXr0TZAFK5H4XoUM0AAAAAAAAAwQGZmZmZmJkFAuB6F61GYRECPwvUoXI8jQArXo3A9Ch5ApHA9CtcjLEDD9Shcj0IqQMP1KFyPQjFAzczMzMyMOECF61G4HsUzQPYoXI/CFUhAPQrXo3B9MEAAAAAAAIA1QFK4HoXrUSlAH4XrUbieK0CF61G4HoU4QMP1KFyPwjRA9ihcj8K1P0BI4XoUrmdJQB+F61G4ni9AAAAAAAAAHUCamZmZmdk/QFK4HoXr0TBAMzMzMzNzQECkcD0K1+MxQPYoXI/C9SxAcT0K16NQQUAzMzMzM1NBQBSuR+F6VDdAzczMzMysRkDsUbgehSs3QGZmZmZmRkRAcT0K16OwNED2KFyPwnU+QJqZmZmZGTdA4XoUrkdhL0BxPQrXo3A8QPYoXI/C9S5AFK5H4XqUMEA9CtejcD0eQK5H4XoUriRAhetRuB4FK0D2KFyPwrUyQEjhehSuhzRA16NwPQqXOkA9CtejcF1DQIXrUbgeRThAj8L1KFwPPkCkcD0K1+M5QArXo3A9KkhAZmZmZmYmPECuR+F6FC4nQPYoXI/C9R5AUrgehetRKEApXI/C9SghQNejcD0K1ypAMzMzMzNzNECPwvUoXI8qQMP1KFyPAjhA4XoUrkdhL0C4HoXrUTgnQArXo3A9iiVAj8L1KFwPL0CkcD0K1yMkQDMzMzMzMylACtejcD1qQEBI4XoUrgc9QOxRuB6FqzZAUrgehevRMUA=",
          "dtype": "f8"
         },
         "xaxis": "x2",
         "yaxis": "y2"
        }
       ],
       "layout": {
        "barmode": "relative",
        "legend": {
         "title": {
          "text": "sex"
         },
         "tracegroupgap": 0
        },
        "margin": {
         "t": 60
        },
        "template": {
         "data": {
          "bar": [
           {
            "error_x": {
             "color": "#2a3f5f"
            },
            "error_y": {
             "color": "#2a3f5f"
            },
            "marker": {
             "line": {
              "color": "#E5ECF6",
              "width": 0.5
             },
             "pattern": {
              "fillmode": "overlay",
              "size": 10,
              "solidity": 0.2
             }
            },
            "type": "bar"
           }
          ],
          "barpolar": [
           {
            "marker": {
             "line": {
              "color": "#E5ECF6",
              "width": 0.5
             },
             "pattern": {
              "fillmode": "overlay",
              "size": 10,
              "solidity": 0.2
             }
            },
            "type": "barpolar"
           }
          ],
          "carpet": [
           {
            "aaxis": {
             "endlinecolor": "#2a3f5f",
             "gridcolor": "white",
             "linecolor": "white",
             "minorgridcolor": "white",
             "startlinecolor": "#2a3f5f"
            },
            "baxis": {
             "endlinecolor": "#2a3f5f",
             "gridcolor": "white",
             "linecolor": "white",
             "minorgridcolor": "white",
             "startlinecolor": "#2a3f5f"
            },
            "type": "carpet"
           }
          ],
          "choropleth": [
           {
            "colorbar": {
             "outlinewidth": 0,
             "ticks": ""
            },
            "type": "choropleth"
           }
          ],
          "contour": [
           {
            "colorbar": {
             "outlinewidth": 0,
             "ticks": ""
            },
            "colorscale": [
             [
              0,
              "#0d0887"
             ],
             [
              0.1111111111111111,
              "#46039f"
             ],
             [
              0.2222222222222222,
              "#7201a8"
             ],
             [
              0.3333333333333333,
              "#9c179e"
             ],
             [
              0.4444444444444444,
              "#bd3786"
             ],
             [
              0.5555555555555556,
              "#d8576b"
             ],
             [
              0.6666666666666666,
              "#ed7953"
             ],
             [
              0.7777777777777778,
              "#fb9f3a"
             ],
             [
              0.8888888888888888,
              "#fdca26"
             ],
             [
              1,
              "#f0f921"
             ]
            ],
            "type": "contour"
           }
          ],
          "contourcarpet": [
           {
            "colorbar": {
             "outlinewidth": 0,
             "ticks": ""
            },
            "type": "contourcarpet"
           }
          ],
          "heatmap": [
           {
            "colorbar": {
             "outlinewidth": 0,
             "ticks": ""
            },
            "colorscale": [
             [
              0,
              "#0d0887"
             ],
             [
              0.1111111111111111,
              "#46039f"
             ],
             [
              0.2222222222222222,
              "#7201a8"
             ],
             [
              0.3333333333333333,
              "#9c179e"
             ],
             [
              0.4444444444444444,
              "#bd3786"
             ],
             [
              0.5555555555555556,
              "#d8576b"
             ],
             [
              0.6666666666666666,
              "#ed7953"
             ],
             [
              0.7777777777777778,
              "#fb9f3a"
             ],
             [
              0.8888888888888888,
              "#fdca26"
             ],
             [
              1,
              "#f0f921"
             ]
            ],
            "type": "heatmap"
           }
          ],
          "histogram": [
           {
            "marker": {
             "pattern": {
              "fillmode": "overlay",
              "size": 10,
              "solidity": 0.2
             }
            },
            "type": "histogram"
           }
          ],
          "histogram2d": [
           {
            "colorbar": {
             "outlinewidth": 0,
             "ticks": ""
            },
            "colorscale": [
             [
              0,
              "#0d0887"
             ],
             [
              0.1111111111111111,
              "#46039f"
             ],
             [
              0.2222222222222222,
              "#7201a8"
             ],
             [
              0.3333333333333333,
              "#9c179e"
             ],
             [
              0.4444444444444444,
              "#bd3786"
             ],
             [
              0.5555555555555556,
              "#d8576b"
             ],
             [
              0.6666666666666666,
              "#ed7953"
             ],
             [
              0.7777777777777778,
              "#fb9f3a"
             ],
             [
              0.8888888888888888,
              "#fdca26"
             ],
             [
              1,
              "#f0f921"
             ]
            ],
            "type": "histogram2d"
           }
          ],
          "histogram2dcontour": [
           {
            "colorbar": {
             "outlinewidth": 0,
             "ticks": ""
            },
            "colorscale": [
             [
              0,
              "#0d0887"
             ],
             [
              0.1111111111111111,
              "#46039f"
             ],
             [
              0.2222222222222222,
              "#7201a8"
             ],
             [
              0.3333333333333333,
              "#9c179e"
             ],
             [
              0.4444444444444444,
              "#bd3786"
             ],
             [
              0.5555555555555556,
              "#d8576b"
             ],
             [
              0.6666666666666666,
              "#ed7953"
             ],
             [
              0.7777777777777778,
              "#fb9f3a"
             ],
             [
              0.8888888888888888,
              "#fdca26"
             ],
             [
              1,
              "#f0f921"
             ]
            ],
            "type": "histogram2dcontour"
           }
          ],
          "mesh3d": [
           {
            "colorbar": {
             "outlinewidth": 0,
             "ticks": ""
            },
            "type": "mesh3d"
           }
          ],
          "parcoords": [
           {
            "line": {
             "colorbar": {
              "outlinewidth": 0,
              "ticks": ""
             }
            },
            "type": "parcoords"
           }
          ],
          "pie": [
           {
            "automargin": true,
            "type": "pie"
           }
          ],
          "scatter": [
           {
            "fillpattern": {
             "fillmode": "overlay",
             "size": 10,
             "solidity": 0.2
            },
            "type": "scatter"
           }
          ],
          "scatter3d": [
           {
            "line": {
             "colorbar": {
              "outlinewidth": 0,
              "ticks": ""
             }
            },
            "marker": {
             "colorbar": {
              "outlinewidth": 0,
              "ticks": ""
             }
            },
            "type": "scatter3d"
           }
          ],
          "scattercarpet": [
           {
            "marker": {
             "colorbar": {
              "outlinewidth": 0,
              "ticks": ""
             }
            },
            "type": "scattercarpet"
           }
          ],
          "scattergeo": [
           {
            "marker": {
             "colorbar": {
              "outlinewidth": 0,
              "ticks": ""
             }
            },
            "type": "scattergeo"
           }
          ],
          "scattergl": [
           {
            "marker": {
             "colorbar": {
              "outlinewidth": 0,
              "ticks": ""
             }
            },
            "type": "scattergl"
           }
          ],
          "scattermap": [
           {
            "marker": {
             "colorbar": {
              "outlinewidth": 0,
              "ticks": ""
             }
            },
            "type": "scattermap"
           }
          ],
          "scattermapbox": [
           {
            "marker": {
             "colorbar": {
              "outlinewidth": 0,
              "ticks": ""
             }
            },
            "type": "scattermapbox"
           }
          ],
          "scatterpolar": [
           {
            "marker": {
             "colorbar": {
              "outlinewidth": 0,
              "ticks": ""
             }
            },
            "type": "scatterpolar"
           }
          ],
          "scatterpolargl": [
           {
            "marker": {
             "colorbar": {
              "outlinewidth": 0,
              "ticks": ""
             }
            },
            "type": "scatterpolargl"
           }
          ],
          "scatterternary": [
           {
            "marker": {
             "colorbar": {
              "outlinewidth": 0,
              "ticks": ""
             }
            },
            "type": "scatterternary"
           }
          ],
          "surface": [
           {
            "colorbar": {
             "outlinewidth": 0,
             "ticks": ""
            },
            "colorscale": [
             [
              0,
              "#0d0887"
             ],
             [
              0.1111111111111111,
              "#46039f"
             ],
             [
              0.2222222222222222,
              "#7201a8"
             ],
             [
              0.3333333333333333,
              "#9c179e"
             ],
             [
              0.4444444444444444,
              "#bd3786"
             ],
             [
              0.5555555555555556,
              "#d8576b"
             ],
             [
              0.6666666666666666,
              "#ed7953"
             ],
             [
              0.7777777777777778,
              "#fb9f3a"
             ],
             [
              0.8888888888888888,
              "#fdca26"
             ],
             [
              1,
              "#f0f921"
             ]
            ],
            "type": "surface"
           }
          ],
          "table": [
           {
            "cells": {
             "fill": {
              "color": "#EBF0F8"
             },
             "line": {
              "color": "white"
             }
            },
            "header": {
             "fill": {
              "color": "#C8D4E3"
             },
             "line": {
              "color": "white"
             }
            },
            "type": "table"
           }
          ]
         },
         "layout": {
          "annotationdefaults": {
           "arrowcolor": "#2a3f5f",
           "arrowhead": 0,
           "arrowwidth": 1
          },
          "autotypenumbers": "strict",
          "coloraxis": {
           "colorbar": {
            "outlinewidth": 0,
            "ticks": ""
           }
          },
          "colorscale": {
           "diverging": [
            [
             0,
             "#8e0152"
            ],
            [
             0.1,
             "#c51b7d"
            ],
            [
             0.2,
             "#de77ae"
            ],
            [
             0.3,
             "#f1b6da"
            ],
            [
             0.4,
             "#fde0ef"
            ],
            [
             0.5,
             "#f7f7f7"
            ],
            [
             0.6,
             "#e6f5d0"
            ],
            [
             0.7,
             "#b8e186"
            ],
            [
             0.8,
             "#7fbc41"
            ],
            [
             0.9,
             "#4d9221"
            ],
            [
             1,
             "#276419"
            ]
           ],
           "sequential": [
            [
             0,
             "#0d0887"
            ],
            [
             0.1111111111111111,
             "#46039f"
            ],
            [
             0.2222222222222222,
             "#7201a8"
            ],
            [
             0.3333333333333333,
             "#9c179e"
            ],
            [
             0.4444444444444444,
             "#bd3786"
            ],
            [
             0.5555555555555556,
             "#d8576b"
            ],
            [
             0.6666666666666666,
             "#ed7953"
            ],
            [
             0.7777777777777778,
             "#fb9f3a"
            ],
            [
             0.8888888888888888,
             "#fdca26"
            ],
            [
             1,
             "#f0f921"
            ]
           ],
           "sequentialminus": [
            [
             0,
             "#0d0887"
            ],
            [
             0.1111111111111111,
             "#46039f"
            ],
            [
             0.2222222222222222,
             "#7201a8"
            ],
            [
             0.3333333333333333,
             "#9c179e"
            ],
            [
             0.4444444444444444,
             "#bd3786"
            ],
            [
             0.5555555555555556,
             "#d8576b"
            ],
            [
             0.6666666666666666,
             "#ed7953"
            ],
            [
             0.7777777777777778,
             "#fb9f3a"
            ],
            [
             0.8888888888888888,
             "#fdca26"
            ],
            [
             1,
             "#f0f921"
            ]
           ]
          },
          "colorway": [
           "#636efa",
           "#EF553B",
           "#00cc96",
           "#ab63fa",
           "#FFA15A",
           "#19d3f3",
           "#FF6692",
           "#B6E880",
           "#FF97FF",
           "#FECB52"
          ],
          "font": {
           "color": "#2a3f5f"
          },
          "geo": {
           "bgcolor": "white",
           "lakecolor": "white",
           "landcolor": "#E5ECF6",
           "showlakes": true,
           "showland": true,
           "subunitcolor": "white"
          },
          "hoverlabel": {
           "align": "left"
          },
          "hovermode": "closest",
          "mapbox": {
           "style": "light"
          },
          "paper_bgcolor": "white",
          "plot_bgcolor": "#E5ECF6",
          "polar": {
           "angularaxis": {
            "gridcolor": "white",
            "linecolor": "white",
            "ticks": ""
           },
           "bgcolor": "#E5ECF6",
           "radialaxis": {
            "gridcolor": "white",
            "linecolor": "white",
            "ticks": ""
           }
          },
          "scene": {
           "xaxis": {
            "backgroundcolor": "#E5ECF6",
            "gridcolor": "white",
            "gridwidth": 2,
            "linecolor": "white",
            "showbackground": true,
            "ticks": "",
            "zerolinecolor": "white"
           },
           "yaxis": {
            "backgroundcolor": "#E5ECF6",
            "gridcolor": "white",
            "gridwidth": 2,
            "linecolor": "white",
            "showbackground": true,
            "ticks": "",
            "zerolinecolor": "white"
           },
           "zaxis": {
            "backgroundcolor": "#E5ECF6",
            "gridcolor": "white",
            "gridwidth": 2,
            "linecolor": "white",
            "showbackground": true,
            "ticks": "",
            "zerolinecolor": "white"
           }
          },
          "shapedefaults": {
           "line": {
            "color": "#2a3f5f"
           }
          },
          "ternary": {
           "aaxis": {
            "gridcolor": "white",
            "linecolor": "white",
            "ticks": ""
           },
           "baxis": {
            "gridcolor": "white",
            "linecolor": "white",
            "ticks": ""
           },
           "bgcolor": "#E5ECF6",
           "caxis": {
            "gridcolor": "white",
            "linecolor": "white",
            "ticks": ""
           }
          },
          "title": {
           "x": 0.05
          },
          "xaxis": {
           "automargin": true,
           "gridcolor": "white",
           "linecolor": "white",
           "ticks": "",
           "title": {
            "standoff": 15
           },
           "zerolinecolor": "white",
           "zerolinewidth": 2
          },
          "yaxis": {
           "automargin": true,
           "gridcolor": "white",
           "linecolor": "white",
           "ticks": "",
           "title": {
            "standoff": 15
           },
           "zerolinecolor": "white",
           "zerolinewidth": 2
          }
         }
        },
        "xaxis": {
         "anchor": "y",
         "domain": [
          0,
          1
         ],
         "title": {
          "text": "total_bill"
         }
        },
        "xaxis2": {
         "anchor": "y2",
         "domain": [
          0,
          1
         ],
         "matches": "x",
         "showgrid": true,
         "showticklabels": false
        },
        "yaxis": {
         "anchor": "x",
         "domain": [
          0,
          0.7326
         ],
         "title": {
          "text": "sum of tip"
         }
        },
        "yaxis2": {
         "anchor": "x2",
         "domain": [
          0.7426,
          1
         ],
         "matches": "y2",
         "showgrid": false,
         "showline": false,
         "showticklabels": false,
         "ticks": ""
        }
       }
      }
     },
     "metadata": {},
     "output_type": "display_data"
    }
   ],
   "source": [
    "import plotly.express as px\n",
    "tips = px.data.tips()\n",
    "fig = px.histogram(tips, x=\"total_bill\", y=\"tip\", color=\"sex\",\n",
    "                   marginal=\"box\", # or violin, rug\n",
    "                   hover_data=tips.columns)\n",
    "fig.show()\n"
   ]
  },
  {
   "cell_type": "markdown",
   "id": "8a35124d",
   "metadata": {},
   "source": [
    "Can also plot distplot like below"
   ]
  },
  {
   "cell_type": "code",
   "execution_count": 10,
   "id": "cfeae37d",
   "metadata": {},
   "outputs": [
    {
     "data": {
      "application/vnd.plotly.v1+json": {
       "config": {
        "plotlyServerURL": "https://plot.ly"
       },
       "data": [
        {
         "autobinx": false,
         "histnorm": "probability density",
         "legendgroup": "distplot",
         "marker": {
          "color": "rgb(31, 119, 180)"
         },
         "name": "distplot",
         "opacity": 0.7,
         "type": "histogram",
         "x": {
          "bdata": "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",
          "dtype": "f8"
         },
         "xaxis": "x",
         "xbins": {
          "end": 4.108692623805201,
          "size": 1,
          "start": -2.6594494563834883
         },
         "yaxis": "y"
        },
        {
         "legendgroup": "distplot",
         "marker": {
          "color": "rgb(31, 119, 180)"
         },
         "mode": "lines",
         "name": "distplot",
         "showlegend": false,
         "type": "scatter",
         "x": [
          -2.6594494563834883,
          -2.645913172223111,
          -2.6323768880627334,
          -2.618840603902356,
          -2.605304319741979,
          -2.5917680355816013,
          -2.578231751421224,
          -2.564695467260847,
          -2.551159183100469,
          -2.537622898940092,
          -2.5240866147797147,
          -2.510550330619337,
          -2.49701404645896,
          -2.483477762298582,
          -2.469941478138205,
          -2.4564051939778278,
          -2.44286890981745,
          -2.429332625657073,
          -2.4157963414966956,
          -2.402260057336318,
          -2.3887237731759408,
          -2.3751874890155635,
          -2.361651204855186,
          -2.3481149206948086,
          -2.334578636534431,
          -2.3210423523740538,
          -2.3075060682136765,
          -2.2939697840532993,
          -2.2804334998929217,
          -2.2668972157325444,
          -2.2533609315721668,
          -2.2398246474117895,
          -2.2262883632514123,
          -2.2127520790910347,
          -2.1992157949306574,
          -2.18567951077028,
          -2.1721432266099026,
          -2.1586069424495253,
          -2.145070658289148,
          -2.1315343741287704,
          -2.1179980899683932,
          -2.1044618058080156,
          -2.0909255216476383,
          -2.077389237487261,
          -2.063852953326884,
          -2.0503166691665062,
          -2.036780385006129,
          -2.0232441008457513,
          -2.009707816685374,
          -1.996171532524997,
          -1.9826352483646195,
          -1.969098964204242,
          -1.9555626800438648,
          -1.9420263958834871,
          -1.92849011172311,
          -1.9149538275627325,
          -1.901417543402355,
          -1.8878812592419778,
          -1.8743449750816006,
          -1.860808690921223,
          -1.8472724067608457,
          -1.8337361226004683,
          -1.8201998384400908,
          -1.8066635542797136,
          -1.7931272701193361,
          -1.7795909859589587,
          -1.7660547017985815,
          -1.752518417638204,
          -1.7389821334778266,
          -1.7254458493174492,
          -1.7119095651570717,
          -1.6983732809966945,
          -1.6848369968363173,
          -1.6713007126759396,
          -1.6577644285155624,
          -1.644228144355185,
          -1.6306918601948075,
          -1.6171555760344303,
          -1.6036192918740528,
          -1.5900830077136754,
          -1.5765467235532982,
          -1.5630104393929207,
          -1.5494741552325433,
          -1.535937871072166,
          -1.5224015869117886,
          -1.5088653027514112,
          -1.495329018591034,
          -1.4817927344306565,
          -1.468256450270279,
          -1.4547201661099016,
          -1.4411838819495242,
          -1.427647597789147,
          -1.4141113136287695,
          -1.400575029468392,
          -1.3870387453080149,
          -1.3735024611476374,
          -1.35996617698726,
          -1.3464298928268827,
          -1.3328936086665053,
          -1.3193573245061279,
          -1.3058210403457506,
          -1.2922847561853732,
          -1.278748472024996,
          -1.2652121878646185,
          -1.251675903704241,
          -1.2381396195438636,
          -1.2246033353834862,
          -1.2110670512231088,
          -1.1975307670627315,
          -1.183994482902354,
          -1.1704581987419767,
          -1.1569219145815994,
          -1.143385630421222,
          -1.1298493462608448,
          -1.1163130621004673,
          -1.1027767779400899,
          -1.0892404937797127,
          -1.0757042096193352,
          -1.0621679254589578,
          -1.0486316412985806,
          -1.0350953571382029,
          -1.0215590729778254,
          -1.0080227888174482,
          -0.9944865046570708,
          -0.9809502204966933,
          -0.9674139363363161,
          -0.9538776521759387,
          -0.9403413680155615,
          -0.926805083855184,
          -0.9132687996948066,
          -0.8997325155344293,
          -0.8861962313740519,
          -0.8726599472136745,
          -0.8591236630532972,
          -0.8455873788929198,
          -0.8320510947325424,
          -0.8185148105721651,
          -0.8049785264117875,
          -0.79144224225141,
          -0.7779059580910328,
          -0.7643696739306554,
          -0.7508333897702781,
          -0.7372971056099007,
          -0.7237608214495233,
          -0.710224537289146,
          -0.6966882531287686,
          -0.6831519689683911,
          -0.6696156848080139,
          -0.6560794006476365,
          -0.6425431164872593,
          -0.6290068323268816,
          -0.6154705481665044,
          -0.6019342640061267,
          -0.5883979798457495,
          -0.5748616956853723,
          -0.5613254115249946,
          -0.5477891273646174,
          -0.5342528432042402,
          -0.5207165590438625,
          -0.5071802748834853,
          -0.49364399072310805,
          -0.4801077065627304,
          -0.46657142240235316,
          -0.45303513824197594,
          -0.4394988540815983,
          -0.42596256992122106,
          -0.41242628576084384,
          -0.39889000160046617,
          -0.38535371744008895,
          -0.37181743327971173,
          -0.35828114911933406,
          -0.34474486495895684,
          -0.3312085807985796,
          -0.3176722966382024,
          -0.30413601247782474,
          -0.2905997283174475,
          -0.27706344415706985,
          -0.2635271599966922,
          -0.24999087583631496,
          -0.23645459167593774,
          -0.22291830751556008,
          -0.20938202335518286,
          -0.19584573919480563,
          -0.18230945503442797,
          -0.16877317087405075,
          -0.15523688671367353,
          -0.14170060255329586,
          -0.12816431839291864,
          -0.11462803423254142,
          -0.10109175007216376,
          -0.08755546591178653,
          -0.07401918175140931,
          -0.06048289759103165,
          -0.04694661343065443,
          -0.033410329270277206,
          -0.01987404510989954,
          -0.00633776094952232,
          0.007198523210854901,
          0.020734807371232566,
          0.03427109153160979,
          0.04780737569198701,
          0.06134365985236423,
          0.0748799440127419,
          0.08841622817311912,
          0.10195251233349634,
          0.115488796493874,
          0.12902508065425122,
          0.14256136481462844,
          0.1560976489750061,
          0.16963393313538377,
          0.183170217295761,
          0.19670650145613866,
          0.21024278561651588,
          0.2237790697768931,
          0.23731535393727077,
          0.250851638097648,
          0.2643879222580252,
          0.2779242064184029,
          0.2914604905787801,
          0.3049967747391573,
          0.318533058899535,
          0.3320693430599122,
          0.3456056272202894,
          0.3591419113806671,
          0.3726781955410443,
          0.38621447970142153,
          0.39975076386179875,
          0.4132870480221764,
          0.42682333218255364,
          0.44035961634293086,
          0.4538959005033085,
          0.46743218466368575,
          0.48096846882406297,
          0.49450475298444063,
          0.5080410371448179,
          0.5215773213051951,
          0.5351136054655727,
          0.54864988962595,
          0.5621861737863272,
          0.5757224579467048,
          0.5892587421070825,
          0.6027950262674597,
          0.6163313104278374,
          0.6298675945882146,
          0.6434038787485918,
          0.6569401629089695,
          0.6704764470693467,
          0.684012731229724,
          0.6975490153901016,
          0.7110852995504788,
          0.724621583710856,
          0.7381578678712337,
          0.7516941520316109,
          0.7652304361919882,
          0.7787667203523654,
          0.792303004512743,
          0.8058392886731203,
          0.8193755728334975,
          0.8329118569938752,
          0.8464481411542524,
          0.8599844253146296,
          0.8735207094750073,
          0.8870569936353845,
          0.9005932777957617,
          0.9141295619561394,
          0.9276658461165166,
          0.9412021302768938,
          0.9547384144372715,
          0.9682746985976487,
          0.9818109827580259,
          0.9953472669184036,
          1.0088835510787808,
          1.022419835239158,
          1.0359561193995361,
          1.0494924035599134,
          1.0630286877202906,
          1.0765649718806682,
          1.0901012560410455,
          1.1036375402014227,
          1.1171738243618,
          1.1307101085221776,
          1.1442463926825548,
          1.157782676842932,
          1.1713189610033097,
          1.184855245163687,
          1.1983915293240641,
          1.2119278134844418,
          1.225464097644819,
          1.2390003818051962,
          1.252536665965574,
          1.2660729501259511,
          1.2796092342863283,
          1.293145518446706,
          1.3066818026070832,
          1.3202180867674604,
          1.333754370927838,
          1.3472906550882153,
          1.3608269392485925,
          1.3743632234089698,
          1.387899507569347,
          1.401435791729725,
          1.4149720758901023,
          1.4285083600504795,
          1.4420446442108577,
          1.4555809283712349,
          1.469117212531612,
          1.4826534966919893,
          1.4961897808523665,
          1.5097260650127438,
          1.5232623491731219,
          1.536798633333499,
          1.5503349174938763,
          1.5638712016542535,
          1.5774074858146307,
          1.590943769975008,
          1.604480054135386,
          1.6180163382957633,
          1.6315526224561405,
          1.6450889066165177,
          1.658625190776895,
          1.6721614749372722,
          1.6856977590976494,
          1.6992340432580275,
          1.7127703274184047,
          1.726306611578782,
          1.7398428957391592,
          1.7533791798995364,
          1.7669154640599136,
          1.7804517482202917,
          1.793988032380669,
          1.8075243165410462,
          1.8210606007014234,
          1.8345968848618006,
          1.8481331690221778,
          1.861669453182556,
          1.8752057373429332,
          1.8887420215033104,
          1.9022783056636876,
          1.9158145898240648,
          1.929350873984442,
          1.9428871581448202,
          1.9564234423051974,
          1.9699597264655746,
          1.9834960106259518,
          1.997032294786329,
          2.0105685789467063,
          2.0241048631070835,
          2.0376411472674616,
          2.051177431427839,
          2.064713715588216,
          2.0782499997485933,
          2.0917862839089705,
          2.1053225680693486,
          2.1188588522297267,
          2.132395136390104,
          2.145931420550481,
          2.1594677047108584,
          2.1730039888712356,
          2.186540273031613,
          2.200076557191991,
          2.213612841352368,
          2.2271491255127454,
          2.2406854096731226,
          2.2542216938335,
          2.267757977993877,
          2.281294262154255,
          2.2948305463146323,
          2.3083668304750096,
          2.321903114635387,
          2.335439398795764,
          2.3489756829561412,
          2.3625119671165193,
          2.3760482512768966,
          2.389584535437274,
          2.403120819597651,
          2.4166571037580282,
          2.4301933879184054,
          2.4437296720787827,
          2.4572659562391608,
          2.470802240399538,
          2.484338524559915,
          2.4978748087202924,
          2.5114110928806697,
          2.524947377041047,
          2.538483661201425,
          2.552019945361802,
          2.5655562295221794,
          2.5790925136825567,
          2.592628797842934,
          2.606165082003311,
          2.619701366163689,
          2.6332376503240664,
          2.6467739344844436,
          2.660310218644821,
          2.673846502805198,
          2.6873827869655753,
          2.7009190711259534,
          2.7144553552863306,
          2.727991639446708,
          2.741527923607085,
          2.7550642077674623,
          2.7686004919278395,
          2.7821367760882167,
          2.795673060248595,
          2.809209344408972,
          2.8227456285693493,
          2.8362819127297265,
          2.8498181968901037,
          2.863354481050481,
          2.876890765210859,
          2.8904270493712363,
          2.9039633335316135,
          2.9174996176919907,
          2.931035901852368,
          2.944572186012745,
          2.9581084701731233,
          2.9716447543335005,
          2.9851810384938786,
          2.998717322654256,
          3.012253606814633,
          3.0257898909750103,
          3.0393261751353884,
          3.0528624592957656,
          3.066398743456143,
          3.07993502761652,
          3.0934713117768973,
          3.1070075959372745,
          3.1205438800976517,
          3.13408016425803,
          3.147616448418407,
          3.1611527325787843,
          3.1746890167391615,
          3.1882253008995387,
          3.201761585059916,
          3.215297869220294,
          3.2288341533806713,
          3.2423704375410485,
          3.2559067217014257,
          3.269443005861803,
          3.28297929002218,
          3.2965155741825583,
          3.3100518583429355,
          3.3235881425033127,
          3.33712442666369,
          3.350660710824067,
          3.3641969949844444,
          3.3777332791448225,
          3.3912695633051997,
          3.404805847465577,
          3.418342131625954,
          3.4318784157863313,
          3.4454146999467086,
          3.458950984107086,
          3.472487268267464,
          3.486023552427841,
          3.4995598365882183,
          3.5130961207485956,
          3.526632404908973,
          3.54016868906935,
          3.553704973229728,
          3.5672412573901053,
          3.5807775415504826,
          3.5943138257108598,
          3.607850109871237,
          3.621386394031614,
          3.6349226781919923,
          3.6484589623523696,
          3.6619952465127468,
          3.675531530673124,
          3.689067814833501,
          3.7026040989938784,
          3.7161403831542565,
          3.7296766673146338,
          3.743212951475011,
          3.756749235635388,
          3.7702855197957654,
          3.7838218039561426,
          3.79735808811652,
          3.810894372276898,
          3.824430656437275,
          3.8379669405976533,
          3.8515032247580305,
          3.8650395089184078,
          3.878575793078785,
          3.892112077239163,
          3.9056483613995403,
          3.9191846455599175,
          3.9327209297202947,
          3.946257213880672,
          3.959793498041049,
          3.9733297822014273,
          3.9868660663618045,
          4.000402350522181,
          4.0139386346825585,
          4.027474918842936,
          4.041011203003313,
          4.054547487163692,
          4.068083771324069,
          4.081620055484446,
          4.095156339644824
         ],
         "xaxis": "x",
         "y": {
          "bdata": "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",
          "dtype": "f8"
         },
         "yaxis": "y"
        },
        {
         "legendgroup": "distplot",
         "marker": {
          "color": "rgb(31, 119, 180)",
          "symbol": "line-ns-open"
         },
         "mode": "markers",
         "name": "distplot",
         "showlegend": false,
         "type": "scatter",
         "x": {
          "bdata": "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",
          "dtype": "f8"
         },
         "xaxis": "x",
         "y": [
          "distplot",
          "distplot",
          "distplot",
          "distplot",
          "distplot",
          "distplot",
          "distplot",
          "distplot",
          "distplot",
          "distplot",
          "distplot",
          "distplot",
          "distplot",
          "distplot",
          "distplot",
          "distplot",
          "distplot",
          "distplot",
          "distplot",
          "distplot",
          "distplot",
          "distplot",
          "distplot",
          "distplot",
          "distplot",
          "distplot",
          "distplot",
          "distplot",
          "distplot",
          "distplot",
          "distplot",
          "distplot",
          "distplot",
          "distplot",
          "distplot",
          "distplot",
          "distplot",
          "distplot",
          "distplot",
          "distplot",
          "distplot",
          "distplot",
          "distplot",
          "distplot",
          "distplot",
          "distplot",
          "distplot",
          "distplot",
          "distplot",
          "distplot",
          "distplot",
          "distplot",
          "distplot",
          "distplot",
          "distplot",
          "distplot",
          "distplot",
          "distplot",
          "distplot",
          "distplot",
          "distplot",
          "distplot",
          "distplot",
          "distplot",
          "distplot",
          "distplot",
          "distplot",
          "distplot",
          "distplot",
          "distplot",
          "distplot",
          "distplot",
          "distplot",
          "distplot",
          "distplot",
          "distplot",
          "distplot",
          "distplot",
          "distplot",
          "distplot",
          "distplot",
          "distplot",
          "distplot",
          "distplot",
          "distplot",
          "distplot",
          "distplot",
          "distplot",
          "distplot",
          "distplot",
          "distplot",
          "distplot",
          "distplot",
          "distplot",
          "distplot",
          "distplot",
          "distplot",
          "distplot",
          "distplot",
          "distplot",
          "distplot",
          "distplot",
          "distplot",
          "distplot",
          "distplot",
          "distplot",
          "distplot",
          "distplot",
          "distplot",
          "distplot",
          "distplot",
          "distplot",
          "distplot",
          "distplot",
          "distplot",
          "distplot",
          "distplot",
          "distplot",
          "distplot",
          "distplot",
          "distplot",
          "distplot",
          "distplot",
          "distplot",
          "distplot",
          "distplot",
          "distplot",
          "distplot",
          "distplot",
          "distplot",
          "distplot",
          "distplot",
          "distplot",
          "distplot",
          "distplot",
          "distplot",
          "distplot",
          "distplot",
          "distplot",
          "distplot",
          "distplot",
          "distplot",
          "distplot",
          "distplot",
          "distplot",
          "distplot",
          "distplot",
          "distplot",
          "distplot",
          "distplot",
          "distplot",
          "distplot",
          "distplot",
          "distplot",
          "distplot",
          "distplot",
          "distplot",
          "distplot",
          "distplot",
          "distplot",
          "distplot",
          "distplot",
          "distplot",
          "distplot",
          "distplot",
          "distplot",
          "distplot",
          "distplot",
          "distplot",
          "distplot",
          "distplot",
          "distplot",
          "distplot",
          "distplot",
          "distplot",
          "distplot",
          "distplot",
          "distplot",
          "distplot",
          "distplot",
          "distplot",
          "distplot",
          "distplot",
          "distplot",
          "distplot",
          "distplot",
          "distplot",
          "distplot",
          "distplot",
          "distplot",
          "distplot",
          "distplot",
          "distplot",
          "distplot",
          "distplot",
          "distplot",
          "distplot",
          "distplot",
          "distplot",
          "distplot",
          "distplot",
          "distplot",
          "distplot",
          "distplot",
          "distplot",
          "distplot",
          "distplot",
          "distplot",
          "distplot",
          "distplot",
          "distplot",
          "distplot",
          "distplot",
          "distplot",
          "distplot",
          "distplot",
          "distplot",
          "distplot",
          "distplot",
          "distplot",
          "distplot",
          "distplot",
          "distplot",
          "distplot",
          "distplot",
          "distplot",
          "distplot",
          "distplot",
          "distplot",
          "distplot",
          "distplot",
          "distplot",
          "distplot",
          "distplot",
          "distplot",
          "distplot",
          "distplot",
          "distplot",
          "distplot",
          "distplot",
          "distplot",
          "distplot",
          "distplot",
          "distplot",
          "distplot",
          "distplot",
          "distplot",
          "distplot",
          "distplot",
          "distplot",
          "distplot",
          "distplot",
          "distplot",
          "distplot",
          "distplot",
          "distplot",
          "distplot",
          "distplot",
          "distplot",
          "distplot",
          "distplot",
          "distplot",
          "distplot",
          "distplot",
          "distplot",
          "distplot",
          "distplot",
          "distplot",
          "distplot",
          "distplot",
          "distplot",
          "distplot",
          "distplot",
          "distplot",
          "distplot",
          "distplot",
          "distplot",
          "distplot",
          "distplot",
          "distplot",
          "distplot",
          "distplot",
          "distplot",
          "distplot",
          "distplot",
          "distplot",
          "distplot",
          "distplot",
          "distplot",
          "distplot",
          "distplot",
          "distplot",
          "distplot",
          "distplot",
          "distplot",
          "distplot",
          "distplot",
          "distplot",
          "distplot",
          "distplot",
          "distplot",
          "distplot",
          "distplot",
          "distplot",
          "distplot",
          "distplot",
          "distplot",
          "distplot",
          "distplot",
          "distplot",
          "distplot",
          "distplot",
          "distplot",
          "distplot",
          "distplot",
          "distplot",
          "distplot",
          "distplot",
          "distplot",
          "distplot",
          "distplot",
          "distplot",
          "distplot",
          "distplot",
          "distplot",
          "distplot",
          "distplot",
          "distplot",
          "distplot",
          "distplot",
          "distplot",
          "distplot",
          "distplot",
          "distplot",
          "distplot",
          "distplot",
          "distplot",
          "distplot",
          "distplot",
          "distplot",
          "distplot",
          "distplot",
          "distplot",
          "distplot",
          "distplot",
          "distplot",
          "distplot",
          "distplot",
          "distplot",
          "distplot",
          "distplot",
          "distplot",
          "distplot",
          "distplot",
          "distplot",
          "distplot",
          "distplot",
          "distplot",
          "distplot",
          "distplot",
          "distplot",
          "distplot",
          "distplot",
          "distplot",
          "distplot",
          "distplot",
          "distplot",
          "distplot",
          "distplot",
          "distplot",
          "distplot",
          "distplot",
          "distplot",
          "distplot",
          "distplot",
          "distplot",
          "distplot",
          "distplot",
          "distplot",
          "distplot",
          "distplot",
          "distplot",
          "distplot",
          "distplot",
          "distplot",
          "distplot",
          "distplot",
          "distplot",
          "distplot",
          "distplot",
          "distplot",
          "distplot",
          "distplot",
          "distplot",
          "distplot",
          "distplot",
          "distplot",
          "distplot",
          "distplot",
          "distplot",
          "distplot",
          "distplot",
          "distplot",
          "distplot",
          "distplot",
          "distplot",
          "distplot",
          "distplot",
          "distplot",
          "distplot",
          "distplot",
          "distplot",
          "distplot",
          "distplot",
          "distplot",
          "distplot",
          "distplot",
          "distplot",
          "distplot",
          "distplot",
          "distplot",
          "distplot",
          "distplot",
          "distplot",
          "distplot",
          "distplot",
          "distplot",
          "distplot",
          "distplot",
          "distplot",
          "distplot",
          "distplot",
          "distplot",
          "distplot",
          "distplot",
          "distplot",
          "distplot",
          "distplot",
          "distplot",
          "distplot",
          "distplot",
          "distplot",
          "distplot",
          "distplot",
          "distplot",
          "distplot",
          "distplot",
          "distplot",
          "distplot",
          "distplot",
          "distplot",
          "distplot",
          "distplot",
          "distplot",
          "distplot",
          "distplot",
          "distplot",
          "distplot",
          "distplot",
          "distplot",
          "distplot",
          "distplot",
          "distplot",
          "distplot",
          "distplot",
          "distplot",
          "distplot",
          "distplot",
          "distplot",
          "distplot",
          "distplot",
          "distplot",
          "distplot",
          "distplot",
          "distplot",
          "distplot",
          "distplot",
          "distplot",
          "distplot",
          "distplot",
          "distplot",
          "distplot",
          "distplot",
          "distplot",
          "distplot",
          "distplot",
          "distplot",
          "distplot",
          "distplot",
          "distplot",
          "distplot",
          "distplot",
          "distplot",
          "distplot",
          "distplot",
          "distplot",
          "distplot",
          "distplot",
          "distplot",
          "distplot",
          "distplot",
          "distplot",
          "distplot",
          "distplot",
          "distplot",
          "distplot",
          "distplot",
          "distplot",
          "distplot",
          "distplot",
          "distplot",
          "distplot",
          "distplot",
          "distplot",
          "distplot",
          "distplot",
          "distplot",
          "distplot",
          "distplot",
          "distplot",
          "distplot",
          "distplot",
          "distplot",
          "distplot",
          "distplot",
          "distplot",
          "distplot",
          "distplot",
          "distplot",
          "distplot",
          "distplot",
          "distplot",
          "distplot",
          "distplot",
          "distplot",
          "distplot",
          "distplot",
          "distplot",
          "distplot",
          "distplot",
          "distplot",
          "distplot",
          "distplot",
          "distplot",
          "distplot",
          "distplot",
          "distplot",
          "distplot",
          "distplot",
          "distplot",
          "distplot",
          "distplot",
          "distplot",
          "distplot",
          "distplot",
          "distplot",
          "distplot",
          "distplot",
          "distplot",
          "distplot",
          "distplot",
          "distplot",
          "distplot",
          "distplot",
          "distplot",
          "distplot",
          "distplot",
          "distplot",
          "distplot",
          "distplot",
          "distplot",
          "distplot",
          "distplot",
          "distplot",
          "distplot",
          "distplot",
          "distplot",
          "distplot",
          "distplot",
          "distplot",
          "distplot",
          "distplot",
          "distplot",
          "distplot",
          "distplot",
          "distplot",
          "distplot",
          "distplot",
          "distplot",
          "distplot",
          "distplot",
          "distplot",
          "distplot",
          "distplot",
          "distplot",
          "distplot",
          "distplot",
          "distplot",
          "distplot",
          "distplot",
          "distplot",
          "distplot",
          "distplot",
          "distplot",
          "distplot",
          "distplot",
          "distplot",
          "distplot",
          "distplot",
          "distplot",
          "distplot",
          "distplot",
          "distplot",
          "distplot",
          "distplot",
          "distplot",
          "distplot",
          "distplot",
          "distplot",
          "distplot",
          "distplot",
          "distplot",
          "distplot",
          "distplot",
          "distplot",
          "distplot",
          "distplot",
          "distplot",
          "distplot",
          "distplot",
          "distplot",
          "distplot",
          "distplot",
          "distplot",
          "distplot",
          "distplot",
          "distplot",
          "distplot",
          "distplot",
          "distplot",
          "distplot",
          "distplot",
          "distplot",
          "distplot",
          "distplot",
          "distplot",
          "distplot",
          "distplot",
          "distplot",
          "distplot",
          "distplot",
          "distplot",
          "distplot",
          "distplot",
          "distplot",
          "distplot",
          "distplot",
          "distplot",
          "distplot",
          "distplot",
          "distplot",
          "distplot",
          "distplot",
          "distplot",
          "distplot",
          "distplot",
          "distplot",
          "distplot",
          "distplot",
          "distplot",
          "distplot",
          "distplot",
          "distplot",
          "distplot",
          "distplot",
          "distplot",
          "distplot",
          "distplot",
          "distplot",
          "distplot",
          "distplot",
          "distplot",
          "distplot",
          "distplot",
          "distplot",
          "distplot",
          "distplot",
          "distplot",
          "distplot",
          "distplot",
          "distplot",
          "distplot",
          "distplot",
          "distplot",
          "distplot",
          "distplot",
          "distplot",
          "distplot",
          "distplot",
          "distplot",
          "distplot",
          "distplot",
          "distplot",
          "distplot",
          "distplot",
          "distplot",
          "distplot",
          "distplot",
          "distplot",
          "distplot",
          "distplot",
          "distplot",
          "distplot",
          "distplot",
          "distplot",
          "distplot",
          "distplot",
          "distplot",
          "distplot",
          "distplot",
          "distplot",
          "distplot",
          "distplot",
          "distplot",
          "distplot",
          "distplot",
          "distplot",
          "distplot",
          "distplot",
          "distplot",
          "distplot",
          "distplot",
          "distplot",
          "distplot",
          "distplot",
          "distplot",
          "distplot",
          "distplot",
          "distplot",
          "distplot",
          "distplot",
          "distplot",
          "distplot",
          "distplot",
          "distplot",
          "distplot",
          "distplot",
          "distplot",
          "distplot",
          "distplot",
          "distplot",
          "distplot",
          "distplot",
          "distplot",
          "distplot",
          "distplot",
          "distplot",
          "distplot",
          "distplot",
          "distplot",
          "distplot",
          "distplot",
          "distplot",
          "distplot",
          "distplot",
          "distplot",
          "distplot",
          "distplot",
          "distplot",
          "distplot",
          "distplot",
          "distplot",
          "distplot",
          "distplot",
          "distplot",
          "distplot",
          "distplot",
          "distplot",
          "distplot",
          "distplot",
          "distplot",
          "distplot",
          "distplot",
          "distplot",
          "distplot",
          "distplot",
          "distplot",
          "distplot",
          "distplot",
          "distplot",
          "distplot",
          "distplot",
          "distplot",
          "distplot",
          "distplot",
          "distplot",
          "distplot",
          "distplot",
          "distplot",
          "distplot",
          "distplot",
          "distplot",
          "distplot",
          "distplot",
          "distplot",
          "distplot",
          "distplot",
          "distplot",
          "distplot",
          "distplot",
          "distplot",
          "distplot",
          "distplot",
          "distplot",
          "distplot",
          "distplot",
          "distplot",
          "distplot",
          "distplot",
          "distplot",
          "distplot",
          "distplot",
          "distplot",
          "distplot",
          "distplot",
          "distplot",
          "distplot",
          "distplot",
          "distplot",
          "distplot",
          "distplot",
          "distplot",
          "distplot",
          "distplot",
          "distplot",
          "distplot",
          "distplot",
          "distplot",
          "distplot",
          "distplot",
          "distplot",
          "distplot",
          "distplot",
          "distplot",
          "distplot",
          "distplot",
          "distplot",
          "distplot",
          "distplot",
          "distplot",
          "distplot",
          "distplot",
          "distplot",
          "distplot",
          "distplot",
          "distplot",
          "distplot",
          "distplot",
          "distplot",
          "distplot",
          "distplot",
          "distplot",
          "distplot",
          "distplot",
          "distplot",
          "distplot",
          "distplot",
          "distplot",
          "distplot",
          "distplot",
          "distplot",
          "distplot",
          "distplot",
          "distplot",
          "distplot",
          "distplot",
          "distplot",
          "distplot",
          "distplot",
          "distplot",
          "distplot",
          "distplot",
          "distplot",
          "distplot",
          "distplot",
          "distplot",
          "distplot",
          "distplot",
          "distplot",
          "distplot",
          "distplot",
          "distplot",
          "distplot",
          "distplot",
          "distplot",
          "distplot",
          "distplot",
          "distplot",
          "distplot",
          "distplot",
          "distplot",
          "distplot",
          "distplot",
          "distplot",
          "distplot",
          "distplot",
          "distplot",
          "distplot",
          "distplot",
          "distplot",
          "distplot",
          "distplot",
          "distplot",
          "distplot",
          "distplot",
          "distplot",
          "distplot",
          "distplot",
          "distplot",
          "distplot",
          "distplot",
          "distplot",
          "distplot",
          "distplot",
          "distplot",
          "distplot",
          "distplot",
          "distplot",
          "distplot",
          "distplot",
          "distplot",
          "distplot",
          "distplot",
          "distplot",
          "distplot",
          "distplot",
          "distplot",
          "distplot",
          "distplot",
          "distplot",
          "distplot",
          "distplot",
          "distplot",
          "distplot",
          "distplot",
          "distplot",
          "distplot",
          "distplot",
          "distplot",
          "distplot",
          "distplot",
          "distplot",
          "distplot",
          "distplot",
          "distplot",
          "distplot",
          "distplot",
          "distplot",
          "distplot",
          "distplot",
          "distplot",
          "distplot",
          "distplot",
          "distplot",
          "distplot",
          "distplot",
          "distplot",
          "distplot",
          "distplot",
          "distplot",
          "distplot",
          "distplot",
          "distplot",
          "distplot",
          "distplot",
          "distplot",
          "distplot",
          "distplot",
          "distplot",
          "distplot",
          "distplot",
          "distplot",
          "distplot",
          "distplot",
          "distplot",
          "distplot",
          "distplot",
          "distplot",
          "distplot",
          "distplot",
          "distplot",
          "distplot",
          "distplot",
          "distplot",
          "distplot",
          "distplot",
          "distplot",
          "distplot",
          "distplot",
          "distplot"
         ],
         "yaxis": "y2"
        }
       ],
       "layout": {
        "barmode": "overlay",
        "hovermode": "closest",
        "legend": {
         "traceorder": "reversed"
        },
        "template": {
         "data": {
          "bar": [
           {
            "error_x": {
             "color": "#2a3f5f"
            },
            "error_y": {
             "color": "#2a3f5f"
            },
            "marker": {
             "line": {
              "color": "#E5ECF6",
              "width": 0.5
             },
             "pattern": {
              "fillmode": "overlay",
              "size": 10,
              "solidity": 0.2
             }
            },
            "type": "bar"
           }
          ],
          "barpolar": [
           {
            "marker": {
             "line": {
              "color": "#E5ECF6",
              "width": 0.5
             },
             "pattern": {
              "fillmode": "overlay",
              "size": 10,
              "solidity": 0.2
             }
            },
            "type": "barpolar"
           }
          ],
          "carpet": [
           {
            "aaxis": {
             "endlinecolor": "#2a3f5f",
             "gridcolor": "white",
             "linecolor": "white",
             "minorgridcolor": "white",
             "startlinecolor": "#2a3f5f"
            },
            "baxis": {
             "endlinecolor": "#2a3f5f",
             "gridcolor": "white",
             "linecolor": "white",
             "minorgridcolor": "white",
             "startlinecolor": "#2a3f5f"
            },
            "type": "carpet"
           }
          ],
          "choropleth": [
           {
            "colorbar": {
             "outlinewidth": 0,
             "ticks": ""
            },
            "type": "choropleth"
           }
          ],
          "contour": [
           {
            "colorbar": {
             "outlinewidth": 0,
             "ticks": ""
            },
            "colorscale": [
             [
              0,
              "#0d0887"
             ],
             [
              0.1111111111111111,
              "#46039f"
             ],
             [
              0.2222222222222222,
              "#7201a8"
             ],
             [
              0.3333333333333333,
              "#9c179e"
             ],
             [
              0.4444444444444444,
              "#bd3786"
             ],
             [
              0.5555555555555556,
              "#d8576b"
             ],
             [
              0.6666666666666666,
              "#ed7953"
             ],
             [
              0.7777777777777778,
              "#fb9f3a"
             ],
             [
              0.8888888888888888,
              "#fdca26"
             ],
             [
              1,
              "#f0f921"
             ]
            ],
            "type": "contour"
           }
          ],
          "contourcarpet": [
           {
            "colorbar": {
             "outlinewidth": 0,
             "ticks": ""
            },
            "type": "contourcarpet"
           }
          ],
          "heatmap": [
           {
            "colorbar": {
             "outlinewidth": 0,
             "ticks": ""
            },
            "colorscale": [
             [
              0,
              "#0d0887"
             ],
             [
              0.1111111111111111,
              "#46039f"
             ],
             [
              0.2222222222222222,
              "#7201a8"
             ],
             [
              0.3333333333333333,
              "#9c179e"
             ],
             [
              0.4444444444444444,
              "#bd3786"
             ],
             [
              0.5555555555555556,
              "#d8576b"
             ],
             [
              0.6666666666666666,
              "#ed7953"
             ],
             [
              0.7777777777777778,
              "#fb9f3a"
             ],
             [
              0.8888888888888888,
              "#fdca26"
             ],
             [
              1,
              "#f0f921"
             ]
            ],
            "type": "heatmap"
           }
          ],
          "histogram": [
           {
            "marker": {
             "pattern": {
              "fillmode": "overlay",
              "size": 10,
              "solidity": 0.2
             }
            },
            "type": "histogram"
           }
          ],
          "histogram2d": [
           {
            "colorbar": {
             "outlinewidth": 0,
             "ticks": ""
            },
            "colorscale": [
             [
              0,
              "#0d0887"
             ],
             [
              0.1111111111111111,
              "#46039f"
             ],
             [
              0.2222222222222222,
              "#7201a8"
             ],
             [
              0.3333333333333333,
              "#9c179e"
             ],
             [
              0.4444444444444444,
              "#bd3786"
             ],
             [
              0.5555555555555556,
              "#d8576b"
             ],
             [
              0.6666666666666666,
              "#ed7953"
             ],
             [
              0.7777777777777778,
              "#fb9f3a"
             ],
             [
              0.8888888888888888,
              "#fdca26"
             ],
             [
              1,
              "#f0f921"
             ]
            ],
            "type": "histogram2d"
           }
          ],
          "histogram2dcontour": [
           {
            "colorbar": {
             "outlinewidth": 0,
             "ticks": ""
            },
            "colorscale": [
             [
              0,
              "#0d0887"
             ],
             [
              0.1111111111111111,
              "#46039f"
             ],
             [
              0.2222222222222222,
              "#7201a8"
             ],
             [
              0.3333333333333333,
              "#9c179e"
             ],
             [
              0.4444444444444444,
              "#bd3786"
             ],
             [
              0.5555555555555556,
              "#d8576b"
             ],
             [
              0.6666666666666666,
              "#ed7953"
             ],
             [
              0.7777777777777778,
              "#fb9f3a"
             ],
             [
              0.8888888888888888,
              "#fdca26"
             ],
             [
              1,
              "#f0f921"
             ]
            ],
            "type": "histogram2dcontour"
           }
          ],
          "mesh3d": [
           {
            "colorbar": {
             "outlinewidth": 0,
             "ticks": ""
            },
            "type": "mesh3d"
           }
          ],
          "parcoords": [
           {
            "line": {
             "colorbar": {
              "outlinewidth": 0,
              "ticks": ""
             }
            },
            "type": "parcoords"
           }
          ],
          "pie": [
           {
            "automargin": true,
            "type": "pie"
           }
          ],
          "scatter": [
           {
            "fillpattern": {
             "fillmode": "overlay",
             "size": 10,
             "solidity": 0.2
            },
            "type": "scatter"
           }
          ],
          "scatter3d": [
           {
            "line": {
             "colorbar": {
              "outlinewidth": 0,
              "ticks": ""
             }
            },
            "marker": {
             "colorbar": {
              "outlinewidth": 0,
              "ticks": ""
             }
            },
            "type": "scatter3d"
           }
          ],
          "scattercarpet": [
           {
            "marker": {
             "colorbar": {
              "outlinewidth": 0,
              "ticks": ""
             }
            },
            "type": "scattercarpet"
           }
          ],
          "scattergeo": [
           {
            "marker": {
             "colorbar": {
              "outlinewidth": 0,
              "ticks": ""
             }
            },
            "type": "scattergeo"
           }
          ],
          "scattergl": [
           {
            "marker": {
             "colorbar": {
              "outlinewidth": 0,
              "ticks": ""
             }
            },
            "type": "scattergl"
           }
          ],
          "scattermap": [
           {
            "marker": {
             "colorbar": {
              "outlinewidth": 0,
              "ticks": ""
             }
            },
            "type": "scattermap"
           }
          ],
          "scattermapbox": [
           {
            "marker": {
             "colorbar": {
              "outlinewidth": 0,
              "ticks": ""
             }
            },
            "type": "scattermapbox"
           }
          ],
          "scatterpolar": [
           {
            "marker": {
             "colorbar": {
              "outlinewidth": 0,
              "ticks": ""
             }
            },
            "type": "scatterpolar"
           }
          ],
          "scatterpolargl": [
           {
            "marker": {
             "colorbar": {
              "outlinewidth": 0,
              "ticks": ""
             }
            },
            "type": "scatterpolargl"
           }
          ],
          "scatterternary": [
           {
            "marker": {
             "colorbar": {
              "outlinewidth": 0,
              "ticks": ""
             }
            },
            "type": "scatterternary"
           }
          ],
          "surface": [
           {
            "colorbar": {
             "outlinewidth": 0,
             "ticks": ""
            },
            "colorscale": [
             [
              0,
              "#0d0887"
             ],
             [
              0.1111111111111111,
              "#46039f"
             ],
             [
              0.2222222222222222,
              "#7201a8"
             ],
             [
              0.3333333333333333,
              "#9c179e"
             ],
             [
              0.4444444444444444,
              "#bd3786"
             ],
             [
              0.5555555555555556,
              "#d8576b"
             ],
             [
              0.6666666666666666,
              "#ed7953"
             ],
             [
              0.7777777777777778,
              "#fb9f3a"
             ],
             [
              0.8888888888888888,
              "#fdca26"
             ],
             [
              1,
              "#f0f921"
             ]
            ],
            "type": "surface"
           }
          ],
          "table": [
           {
            "cells": {
             "fill": {
              "color": "#EBF0F8"
             },
             "line": {
              "color": "white"
             }
            },
            "header": {
             "fill": {
              "color": "#C8D4E3"
             },
             "line": {
              "color": "white"
             }
            },
            "type": "table"
           }
          ]
         },
         "layout": {
          "annotationdefaults": {
           "arrowcolor": "#2a3f5f",
           "arrowhead": 0,
           "arrowwidth": 1
          },
          "autotypenumbers": "strict",
          "coloraxis": {
           "colorbar": {
            "outlinewidth": 0,
            "ticks": ""
           }
          },
          "colorscale": {
           "diverging": [
            [
             0,
             "#8e0152"
            ],
            [
             0.1,
             "#c51b7d"
            ],
            [
             0.2,
             "#de77ae"
            ],
            [
             0.3,
             "#f1b6da"
            ],
            [
             0.4,
             "#fde0ef"
            ],
            [
             0.5,
             "#f7f7f7"
            ],
            [
             0.6,
             "#e6f5d0"
            ],
            [
             0.7,
             "#b8e186"
            ],
            [
             0.8,
             "#7fbc41"
            ],
            [
             0.9,
             "#4d9221"
            ],
            [
             1,
             "#276419"
            ]
           ],
           "sequential": [
            [
             0,
             "#0d0887"
            ],
            [
             0.1111111111111111,
             "#46039f"
            ],
            [
             0.2222222222222222,
             "#7201a8"
            ],
            [
             0.3333333333333333,
             "#9c179e"
            ],
            [
             0.4444444444444444,
             "#bd3786"
            ],
            [
             0.5555555555555556,
             "#d8576b"
            ],
            [
             0.6666666666666666,
             "#ed7953"
            ],
            [
             0.7777777777777778,
             "#fb9f3a"
            ],
            [
             0.8888888888888888,
             "#fdca26"
            ],
            [
             1,
             "#f0f921"
            ]
           ],
           "sequentialminus": [
            [
             0,
             "#0d0887"
            ],
            [
             0.1111111111111111,
             "#46039f"
            ],
            [
             0.2222222222222222,
             "#7201a8"
            ],
            [
             0.3333333333333333,
             "#9c179e"
            ],
            [
             0.4444444444444444,
             "#bd3786"
            ],
            [
             0.5555555555555556,
             "#d8576b"
            ],
            [
             0.6666666666666666,
             "#ed7953"
            ],
            [
             0.7777777777777778,
             "#fb9f3a"
            ],
            [
             0.8888888888888888,
             "#fdca26"
            ],
            [
             1,
             "#f0f921"
            ]
           ]
          },
          "colorway": [
           "#636efa",
           "#EF553B",
           "#00cc96",
           "#ab63fa",
           "#FFA15A",
           "#19d3f3",
           "#FF6692",
           "#B6E880",
           "#FF97FF",
           "#FECB52"
          ],
          "font": {
           "color": "#2a3f5f"
          },
          "geo": {
           "bgcolor": "white",
           "lakecolor": "white",
           "landcolor": "#E5ECF6",
           "showlakes": true,
           "showland": true,
           "subunitcolor": "white"
          },
          "hoverlabel": {
           "align": "left"
          },
          "hovermode": "closest",
          "mapbox": {
           "style": "light"
          },
          "paper_bgcolor": "white",
          "plot_bgcolor": "#E5ECF6",
          "polar": {
           "angularaxis": {
            "gridcolor": "white",
            "linecolor": "white",
            "ticks": ""
           },
           "bgcolor": "#E5ECF6",
           "radialaxis": {
            "gridcolor": "white",
            "linecolor": "white",
            "ticks": ""
           }
          },
          "scene": {
           "xaxis": {
            "backgroundcolor": "#E5ECF6",
            "gridcolor": "white",
            "gridwidth": 2,
            "linecolor": "white",
            "showbackground": true,
            "ticks": "",
            "zerolinecolor": "white"
           },
           "yaxis": {
            "backgroundcolor": "#E5ECF6",
            "gridcolor": "white",
            "gridwidth": 2,
            "linecolor": "white",
            "showbackground": true,
            "ticks": "",
            "zerolinecolor": "white"
           },
           "zaxis": {
            "backgroundcolor": "#E5ECF6",
            "gridcolor": "white",
            "gridwidth": 2,
            "linecolor": "white",
            "showbackground": true,
            "ticks": "",
            "zerolinecolor": "white"
           }
          },
          "shapedefaults": {
           "line": {
            "color": "#2a3f5f"
           }
          },
          "ternary": {
           "aaxis": {
            "gridcolor": "white",
            "linecolor": "white",
            "ticks": ""
           },
           "baxis": {
            "gridcolor": "white",
            "linecolor": "white",
            "ticks": ""
           },
           "bgcolor": "#E5ECF6",
           "caxis": {
            "gridcolor": "white",
            "linecolor": "white",
            "ticks": ""
           }
          },
          "title": {
           "x": 0.05
          },
          "xaxis": {
           "automargin": true,
           "gridcolor": "white",
           "linecolor": "white",
           "ticks": "",
           "title": {
            "standoff": 15
           },
           "zerolinecolor": "white",
           "zerolinewidth": 2
          },
          "yaxis": {
           "automargin": true,
           "gridcolor": "white",
           "linecolor": "white",
           "ticks": "",
           "title": {
            "standoff": 15
           },
           "zerolinecolor": "white",
           "zerolinewidth": 2
          }
         }
        },
        "xaxis": {
         "anchor": "y2",
         "domain": [
          0,
          1
         ],
         "zeroline": false
        },
        "yaxis": {
         "anchor": "free",
         "domain": [
          0.35,
          1
         ],
         "position": 0
        },
        "yaxis2": {
         "anchor": "x",
         "domain": [
          0,
          0.25
         ],
         "dtick": 1,
         "showticklabels": false
        }
       }
      }
     },
     "metadata": {},
     "output_type": "display_data"
    }
   ],
   "source": [
    "import plotly.figure_factory as ff\n",
    "import numpy as np\n",
    "np.random.seed(2)\n",
    "\n",
    "x = np.random.randn(1000)\n",
    "hist_data = [x]\n",
    "group_labels = ['distplot'] # name of the dataset\n",
    "\n",
    "fig = ff.create_distplot(hist_data, group_labels)\n",
    "fig.show()"
   ]
  }
 ],
 "metadata": {
  "kernelspec": {
   "display_name": "Python 3",
   "language": "python",
   "name": "python3"
  },
  "language_info": {
   "codemirror_mode": {
    "name": "ipython",
    "version": 3
   },
   "file_extension": ".py",
   "mimetype": "text/x-python",
   "name": "python",
   "nbconvert_exporter": "python",
   "pygments_lexer": "ipython3",
   "version": "3.12.3"
  }
 },
 "nbformat": 4,
 "nbformat_minor": 5
}
