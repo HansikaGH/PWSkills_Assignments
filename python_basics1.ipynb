{
 "cells": [
  {
   "cell_type": "markdown",
   "metadata": {},
   "source": [
    "Q1. Create one variable containing following type of data:\n",
    "\n",
    "(i) string,\n",
    "(ii) list,\n",
    "(iii) float,\n",
    "(iv) tuple\n",
    "\n",
    "Answer:"
   ]
  },
  {
   "cell_type": "markdown",
   "metadata": {},
   "source": [
    "Create one variable containing different data types"
   ]
  },
  {
   "cell_type": "code",
   "execution_count": 1,
   "metadata": {},
   "outputs": [
    {
     "name": "stdout",
     "output_type": "stream",
     "text": [
      "String: Hello, Python!\n",
      "List: [1, 2, 3, 'AI', 'ML']\n",
      "Float: 10.5\n",
      "Tuple: (1, 2, 3, 'Python', 5.5)\n"
     ]
    }
   ],
   "source": [
    "# String\n",
    "var1 = \"Hello, Python!\"\n",
    "\n",
    "# List\n",
    "var2 = [1, 2, 3, \"AI\", \"ML\"]\n",
    "\n",
    "# Float\n",
    "var3 = 10.5\n",
    "\n",
    "# Tuple\n",
    "var4 = (1, 2, 3, \"Python\", 5.5)\n",
    "\n",
    "# Printing all variables\n",
    "print(\"String:\", var1)\n",
    "print(\"List:\", var2)\n",
    "print(\"Float:\", var3)\n",
    "print(\"Tuple:\", var4)\n"
   ]
  },
  {
   "cell_type": "markdown",
   "metadata": {},
   "source": [
    "Q2. Given are some following variables containing data:\n",
    "\n",
    "(i) var1 = ‘ ‘,\n",
    "(ii) var2 = ‘[ DS , ML , Python]’,\n",
    "(iii) var3 = [ ‘DS’ , ’ML’ , ‘Python’ ],\n",
    "(iv) var4 = 1.\n",
    "\n",
    "\n",
    "\n",
    "What will be the data type of the above given variable.\n",
    "\n",
    "Answer:\n"
   ]
  },
  {
   "cell_type": "code",
   "execution_count": 2,
   "metadata": {},
   "outputs": [
    {
     "name": "stdout",
     "output_type": "stream",
     "text": [
      "Type of var1: <class 'str'>\n",
      "Type of var2: <class 'str'>\n",
      "Type of var3: <class 'list'>\n",
      "Type of var4: <class 'int'>\n"
     ]
    }
   ],
   "source": [
    "var1 = ''   # Empty string\n",
    "var2 = ' [ DS , ML , Python ]'  # String (because it's enclosed in quotes)\n",
    "var3 = ['DS', 'ML', 'Python']  # List\n",
    "var4 = 1   # Integer\n",
    "\n",
    "# Print data types\n",
    "print(\"Type of var1:\", type(var1))  \n",
    "print(\"Type of var2:\", type(var2))  \n",
    "print(\"Type of var3:\", type(var3))  \n",
    "print(\"Type of var4:\", type(var4))  \n"
   ]
  },
  {
   "cell_type": "markdown",
   "metadata": {},
   "source": [
    "Q3. Explain the use of the following operators using an example:\n",
    "\n",
    "(i) /,\n",
    "(ii) %,\n",
    "(iii) //,\n",
    "(iv) **\n",
    "\n",
    "Answer:"
   ]
  },
  {
   "cell_type": "code",
   "execution_count": 3,
   "metadata": {},
   "outputs": [
    {
     "name": "stdout",
     "output_type": "stream",
     "text": [
      "10 / 3 = 3.3333333333333335\n",
      "10 % 3 = 1\n",
      "10 // 3 = 3\n",
      "2 ** 3 = 8\n"
     ]
    }
   ],
   "source": [
    "# Division (/)\n",
    "a = 10 / 3\n",
    "print(\"10 / 3 =\", a)  # Output: 3.3333 (float division)\n",
    "\n",
    "# Modulus (%)\n",
    "b = 10 % 3\n",
    "print(\"10 % 3 =\", b)  # Output: 1 (Remainder when 10 is divided by 3)\n",
    "\n",
    "# Floor Division (//)\n",
    "c = 10 // 3\n",
    "print(\"10 // 3 =\", c)  # Output: 3 (Integer division, removes decimal part)\n",
    "\n",
    "# Exponentiation (**)\n",
    "d = 2 ** 3\n",
    "print(\"2 ** 3 =\", d)  # Output: 8 (2 raised to the power of 3)\n"
   ]
  },
  {
   "cell_type": "markdown",
   "metadata": {},
   "source": [
    "Q4. Create a list of length 10 of your choice containing multiple types of data. Using for loop print the\n",
    "element and its data type.\n",
    "\n",
    "Answer:\n"
   ]
  },
  {
   "cell_type": "code",
   "execution_count": 4,
   "metadata": {},
   "outputs": [
    {
     "name": "stdout",
     "output_type": "stream",
     "text": [
      "Element: 10, Type: <class 'int'>\n",
      "Element: Python, Type: <class 'str'>\n",
      "Element: 3.14, Type: <class 'float'>\n",
      "Element: True, Type: <class 'bool'>\n",
      "Element: [1, 2, 3], Type: <class 'list'>\n",
      "Element: (4, 5), Type: <class 'tuple'>\n",
      "Element: {'key': 'value'}, Type: <class 'dict'>\n",
      "Element: None, Type: <class 'NoneType'>\n",
      "Element: (2+3j), Type: <class 'complex'>\n",
      "Element: b'byte', Type: <class 'bytes'>\n"
     ]
    }
   ],
   "source": [
    "# List with multiple data types\n",
    "my_list = [10, \"Python\", 3.14, True, [1, 2, 3], (4, 5), {\"key\": \"value\"}, None, complex(2,3), b'byte']\n",
    "\n",
    "# Printing elements and their types\n",
    "for item in my_list:\n",
    "    print(f\"Element: {item}, Type: {type(item)}\")\n"
   ]
  },
  {
   "cell_type": "markdown",
   "metadata": {},
   "source": [
    "Q5. Using a while loop, verify if the number A is purely divisible by number B and if so then how many\n",
    "times it can be divisible.\n",
    "\n",
    "Answer:"
   ]
  },
  {
   "cell_type": "code",
   "execution_count": 5,
   "metadata": {},
   "outputs": [
    {
     "name": "stdout",
     "output_type": "stream",
     "text": [
      "The number is divisible 2 times by 5\n"
     ]
    }
   ],
   "source": [
    "A = 100\n",
    "B = 5\n",
    "count = 0\n",
    "\n",
    "while A % B == 0:\n",
    "    A = A // B\n",
    "    count += 1\n",
    "\n",
    "print(f\"The number is divisible {count} times by {B}\")\n"
   ]
  },
  {
   "cell_type": "markdown",
   "metadata": {},
   "source": [
    "Q6. Create a list containing 25 int type data. Using for loop and if-else condition print if the element is\n",
    "divisible by 3 or not.\n",
    "\n",
    "Answer:\n"
   ]
  },
  {
   "cell_type": "code",
   "execution_count": 6,
   "metadata": {},
   "outputs": [
    {
     "name": "stdout",
     "output_type": "stream",
     "text": [
      "1 is NOT divisible by 3\n",
      "2 is NOT divisible by 3\n",
      "3 is divisible by 3\n",
      "4 is NOT divisible by 3\n",
      "5 is NOT divisible by 3\n",
      "6 is divisible by 3\n",
      "7 is NOT divisible by 3\n",
      "8 is NOT divisible by 3\n",
      "9 is divisible by 3\n",
      "10 is NOT divisible by 3\n",
      "11 is NOT divisible by 3\n",
      "12 is divisible by 3\n",
      "13 is NOT divisible by 3\n",
      "14 is NOT divisible by 3\n",
      "15 is divisible by 3\n",
      "16 is NOT divisible by 3\n",
      "17 is NOT divisible by 3\n",
      "18 is divisible by 3\n",
      "19 is NOT divisible by 3\n",
      "20 is NOT divisible by 3\n",
      "21 is divisible by 3\n",
      "22 is NOT divisible by 3\n",
      "23 is NOT divisible by 3\n",
      "24 is divisible by 3\n",
      "25 is NOT divisible by 3\n"
     ]
    }
   ],
   "source": [
    "# Create a list of 25 integers\n",
    "numbers = list(range(1, 26))  \n",
    "\n",
    "# Loop to check divisibility by 3\n",
    "for num in numbers:\n",
    "    if num % 3 == 0:\n",
    "        print(f\"{num} is divisible by 3\")\n",
    "    else:\n",
    "        print(f\"{num} is NOT divisible by 3\")\n"
   ]
  },
  {
   "cell_type": "markdown",
   "metadata": {},
   "source": [
    "Q7. What do you understand about mutable and immutable data types? Give examples for both showing\n",
    "this property.\n",
    "\n",
    "Answer:"
   ]
  },
  {
   "cell_type": "code",
   "execution_count": 7,
   "metadata": {},
   "outputs": [
    {
     "name": "stdout",
     "output_type": "stream",
     "text": [
      "Before change: [1, 2, 3]\n",
      "After change: [100, 2, 3]\n",
      "Before change: Hello\n",
      "Error: 'str' object does not support item assignment\n"
     ]
    }
   ],
   "source": [
    "# Mutable Example: List\n",
    "mutable_list = [1, 2, 3]\n",
    "print(\"Before change:\", mutable_list)\n",
    "mutable_list[0] = 100  # Changing the first element\n",
    "print(\"After change:\", mutable_list)\n",
    "\n",
    "# Immutable Example: String\n",
    "immutable_string = \"Hello\"\n",
    "print(\"Before change:\", immutable_string)\n",
    "try:\n",
    "    immutable_string[0] = 'M'  # This will raise an error\n",
    "except TypeError as e:\n",
    "    print(\"Error:\", e)\n"
   ]
  },
  {
   "cell_type": "markdown",
   "metadata": {},
   "source": []
  }
 ],
 "metadata": {
  "kernelspec": {
   "display_name": "Python 3",
   "language": "python",
   "name": "python3"
  },
  "language_info": {
   "codemirror_mode": {
    "name": "ipython",
    "version": 3
   },
   "file_extension": ".py",
   "mimetype": "text/x-python",
   "name": "python",
   "nbconvert_exporter": "python",
   "pygments_lexer": "ipython3",
   "version": "3.12.3"
  }
 },
 "nbformat": 4,
 "nbformat_minor": 2
}
